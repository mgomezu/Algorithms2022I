{
  "cells": [
    {
      "cell_type": "markdown",
      "metadata": {
        "id": "I5UAAxG2_CqQ"
      },
      "source": [
        "# 0.(1 microsecond by instruction)\n",
        "Asuuming that you can execute a million instructions $10^6$ every second, i.e. each instruction takes one microsecond $1\\mu s=10^{-6}$ seconds. If you have algorithms take $\\bf{ Time\\ Complexity}$ steps to solve a problem of size $n$ as specified in column one. What is the size of the largest problem that you can solve in the time specified in row one?\n",
        "\n",
        "$$\n",
        "\\begin{array}{|c|c|c|c|c|c|c|c|} \n",
        " \\hline\n",
        " \\bf{ Time\\ Complexity} & Second  & Minute  & Hour & Day & Year & Century & Mileniun  \\\\ \n",
        "  \\hline\\\\ \n",
        "\\lg(n) & 2^{10^{6} }    & 2^{60 \\times 10^{7}} & 2^{3.6 \\times 10^{9}} &  2^{8.64 \\times 10^{10}}& 2^{3.1536 \\times 10^{13}} & 2^{3.1536 \\times 10^{15}} & 2^{3.1536 \\times 10^{18}} \\\\ \n",
        "   \\hline\\\\ \n",
        "\\lg^2(n) &   2^{1000}  & 2^{7746}  & 2^{6\\times 10^{4}} & 2^{293938} & 2^{5615692} & 2^{56156922} &  2^{1775837830} \\\\ \n",
        "   \\hline\\\\ \n",
        "\\sqrt{n} &  10^{12}  & 3.6 \\times 10^{15}  & 1.296 \\times 10^{19} & 7.46496 \\times 10^{21}& 9.94519296 \\times 10^{26} & 9.94519296  \\times 10^{30} & 9.94519296 \\times 10^{36}\\\\ \n",
        " \\hline\n",
        " n & 10^{6}    & 6 \\times 10^{7}   & 3.6 \\times 10^{9} & 8.64 \\times 10^{10} & 3.1536 \\times 10^{13} & 3.1536 \\times 10^{15} &  3.1536 \\times 10^{18}\\\\ \n",
        " \\hline\n",
        " n\\lg(n) &  62746  & 2801417  &  133378058  & 2.75514751\\times 10^{9}  &  7.97633893 \\times 10^{11} & 6.86109568 \\times 10^{13} &  5.66650934\\times 10^{16} \\\\ \n",
        " \\hline\n",
        " n^2 &  1000  & 7746  & 60000 & 293939 & 5615692 & 56156923 &  1775837830 \\\\ \n",
        " \\hline\n",
        "  n^3 &  100 &  391 & 1533 &  4421  &  31594 & 146646 & 1466455 \\\\ \n",
        " \\hline\n",
        "  n^4 &  32  &  88  & 245 & 542 & 2370 & 7494  & 42141 \\\\ \n",
        " \\hline\n",
        "  2^n &  19  &  25 & 31 & 36 & 44 & 51 & 61 \\\\ \n",
        " \\hline\n",
        " n! &  9  & 11 &  12 & 13 & 16 & 17  &  20\\\\ \n",
        " \\hline\n",
        " n^n &  7  &  8 & 9 & 10 & 12 & 13 & 15 \\\\ \n",
        " \\hline\n",
        "\\end{array}\n",
        "$$"
      ]
    },
    {
      "cell_type": "markdown",
      "metadata": {
        "id": "ZzLVhZGtih6w"
      },
      "source": [
        "$\\bf{ Time\\ Complexity\\ \\lg(n) }$\n",
        "\n",
        "$Second$\n",
        "$$ \\lg(n) \\times 10^{-6}\\ s\\le 1\\ s$$ \n",
        "$$ \\lg(n) \\le 1 * 10^{6}$$ \n",
        "$$ 2^{\\lg(n)} \\le 2^{10^{6}}$$ \n",
        "$$ n \\le 2^{10^{6}}$$ \n",
        "\n",
        "$Minute$\n",
        "$$ \\lg(n) \\times 10^{-6} \\ s \\le 60\\ s$$ \n",
        "$$ \\lg(n) \\le 60 \\times 10^{6} $$ \n",
        "$$ 2^{\\lg(n)} \\le 2^{60 \\times 10^{6} }$$ \n",
        "$$ n \\le 2^{60 \\times 10^{6} }$$ \n",
        "\n",
        "$Hour$\n",
        "$$ \\lg(n) \\times 10^{-6} \\ s \\le 3600\\ s$$ \n",
        "$$ \\lg(n) \\le 3600 \\times 10^{6} $$ \n",
        "$$ 2^{\\lg(n)} \\le 2^{3.6 \\times 10^{9}}$$ \n",
        "$$ n \\le 2^{3.6 \\times 10^{9}}$$ \n",
        "\n",
        "$Day$\n",
        "$$ \\lg(n) \\times 10^{-6} \\ s \\le 86400\\ s$$ \n",
        "$$ \\lg(n) \\le 86400\\times 10^{6} $$ \n",
        "$$ 2^{\\lg(n)} \\le 2^{8.64 \\times 10^{10}}$$ \n",
        "$$ n \\le 2^{8.64 \\times 10^{10}}$$ \n",
        "\n",
        "$Year$\n",
        "$$ \\lg(n) \\times 10^{-6} \\ s \\le 31536000\\ s$$ \n",
        "$$ \\lg(n) \\le 31536000\\times 10^{6} $$ \n",
        "$$ 2^{\\lg(n)} \\le 2^{3.1536 \\times 10^{13}}$$ \n",
        "$$ n \\le 2^{3.1536 \\times 10^{13}}$$ \n",
        "\n",
        "$Century$\n",
        "$$ \\lg(n) \\times 10^{-6} \\ s \\le 3153600000\\ s$$ \n",
        "$$ \\lg(n) \\le 3153600000\\times 10^{6} $$ \n",
        "$$ 2^{\\lg(n)} \\le 2^{3.1536 \\times 10^{15}}$$ \n",
        "$$ n \\le 2^{3.1536 \\times 10^{15}}$$ \n",
        "\n",
        "$Mileniun$\n",
        "$$ \\lg(n) \\times 10^{-6} \\ s \\le 3153600000000\\ s$$ \n",
        "$$ \\lg(n) \\le 3153600000000\\times 10^{6} $$ \n",
        "$$ 2^{\\lg(n)} \\le 2^{3.1536 \\times 10^{18}}$$ \n",
        "$$ n \\le 2^{3.1536 \\times 10^{18}}$$ "
      ]
    },
    {
      "cell_type": "markdown",
      "metadata": {
        "id": "Of8eWpILih6z"
      },
      "source": [
        "$\\bf{ Time\\ Complexity\\ \\lg^2(n) }$\n",
        "\n",
        "$Second$\n",
        "$$ \\lg^2(n) \\times 10^{-6} \\ s\\le 1\\ s$$ \n",
        "$$ \\lg(n) \\le \\sqrt{1 * 10^{6}} $$ \n",
        "$$ 2^{\\lg(n)} \\le 2^{\\sqrt{1 * 10^{6}} }$$ \n",
        "$$ n \\le 2^{ 1000 }$$ \n",
        "\n",
        "$Minute$\n",
        "$$ \\lg^2(n) \\times 10^{-6} \\ s \\le 60\\ s$$ \n",
        "$$ \\lg(n) \\le \\sqrt{60 \\times 10^{6}} $$ \n",
        "$$ 2^{\\lg(n)} \\le 2^{\\sqrt{60 \\times 10^{6}} }$$ \n",
        "$$ n \\le 2^{ 7746 }$$ \n",
        "\n",
        "$Hour$\n",
        "$$ \\lg^2(n) \\times 10^{-6} \\ s \\le 3600\\ s$$ \n",
        "$$ \\lg(n) \\le \\sqrt{3600 \\times 10^{6}} $$ \n",
        "$$ 2^{\\lg(n)} \\le 2^{\\sqrt{3.6 \\times 10^{9}}}$$ \n",
        "$$ n \\le  2^{ 60000 }$$ \n",
        "\n",
        "$Day$\n",
        "$$ \\lg^2(n) \\times 10^{-6} \\ s \\le 86400\\ s$$ \n",
        "$$ \\lg(n) \\le \\sqrt{86400\\times 10^{6}} $$ \n",
        "$$ 2^{\\lg(n)} \\le 2^{\\sqrt{8.6400\\times 10^{10}}}$$ \n",
        "$$ n \\le 2^{ 293938 }$$ \n",
        "\n",
        "$Year$\n",
        "$$ \\lg^2(n) \\times 10^{-6} \\ s \\le 31536000\\ s$$ \n",
        "$$ \\lg(n) \\le \\sqrt{31536000\\times 10^{6}} $$ \n",
        "$$ 2^{\\lg(n)} \\le 2^{\\sqrt{3.1536\\times 10^{13}}}$$ \n",
        "$$ n \\le 2^{ 5615692 }$$ \n",
        "\n",
        "$Century$\n",
        "$$ \\lg^2(n) \\times 10^{-6} \\ s \\le 3153600000\\ s$$ \n",
        "$$ \\lg(n) \\le \\sqrt{3153600000\\times 10^{6}} $$ \n",
        "$$ 2^{\\lg(n)} \\le 2^{\\sqrt{3.1536 \\times 10^{15}}}$$ \n",
        "$$ n \\le 2^{ 56156922 }$$ \n",
        "\n",
        "$Mileniun$\n",
        "$$ \\lg^2(n) \\times 10^{-6} \\ s \\le 3153600000000\\ s$$ \n",
        "$$ \\lg(n) \\le \\sqrt{3153600000000\\times 10^{6}} $$ \n",
        "$$ 2^{\\lg(n)} \\le 2^{\\sqrt{3.1536 \\times 10^{18}}}$$ \n",
        "$$ n \\le 2^{ 1775837830 }$$ "
      ]
    },
    {
      "cell_type": "code",
      "execution_count": null,
      "metadata": {
        "id": "Oiw26YrFih61",
        "outputId": "226fa3cb-dea0-49b9-89f8-49b6a864e8c0"
      },
      "outputs": [
        {
          "name": "stdout",
          "output_type": "stream",
          "text": [
            "Second 2^{ 1000 }\n",
            "Minute 2^{ 7746 }\n",
            "Hour 2^{ 60000 }\n",
            "Day 2^{ 293939 }\n",
            "Year 2^{ 5615692 }\n",
            "Century 2^{ 56156923 }\n",
            "Mileniun 2^{ 1775837830 }\n"
          ]
        }
      ],
      "source": [
        "import math\n",
        "print(\"Second 2^{\",round(math.sqrt(10**6)),\"}\")\n",
        "print(\"Minute 2^{\",round(math.sqrt(60*10**6)),\"}\")\n",
        "print(\"Hour 2^{\",round(math.sqrt(60*60*10**6)),\"}\")\n",
        "print(\"Day 2^{\",round(math.sqrt(24*60*60*10**6)),\"}\")\n",
        "print(\"Year 2^{\",round(math.sqrt(365*24*60*60*10**6)),\"}\")\n",
        "print(\"Century 2^{\",round(math.sqrt(100*365*24*60*60*10**6)),\"}\")\n",
        "print(\"Mileniun 2^{\",round(math.sqrt(1000*100*365*24*60*60*10**6)),\"}\")"
      ]
    },
    {
      "cell_type": "markdown",
      "metadata": {
        "id": "Rrt51XFFih65"
      },
      "source": [
        "$\\bf{ Time\\ Complexity\\ \\sqrt{n} }$\n",
        "\n",
        "$Second$\n",
        "$$  \\sqrt{n}  \\times 10^{-6} \\ s\\le 1\\ s$$ \n",
        "$$  \\sqrt{n}  \\le 10^{6}  $$\n",
        "$$  n \\le   10^{ 12 }$$ \n",
        "\n",
        "$Minute$\n",
        "$$  \\sqrt{n} \\times 10^{-6} \\ s\\le 60\\ s$$ \n",
        "$$  \\sqrt{n}  \\le 60 \\times 10^{6} $$ \n",
        "$$  n \\le 3.600 \\times10^{15}$$ \n",
        "\n",
        "$Hour$\n",
        "$$  \\sqrt{n}\\times 10^{-6} \\ s\\le 3600\\ s$$ \n",
        "$$  \\sqrt{n} \\le 3600 \\times 10^{6}$$ \n",
        "$$  n  \\le 1.296 \\times10^{19}$$ \n",
        "\n",
        "$Day$\n",
        "$$  \\sqrt{n} \\times 10^{-6} \\ s\\le 86400\\ s$$ \n",
        "$$  \\sqrt{n}\\le 86400 \\times 10^{6} $$ \n",
        "$$  n \\le 7.46496 \\times10^{21}$$ \n",
        "\n",
        "$Year$\n",
        "$$  \\sqrt{n} \\times 10^{-6} \\ s\\le 31536000\\ s$$ \n",
        "$$  \\sqrt{n} \\le 31536000 \\times 10^{6} $$ \n",
        "$$  n \\le 9.94519296 \\times10^{26}$$ \n",
        "\n",
        "$Century$\n",
        "$$  \\sqrt{n} \\times 10^{-6} \\ s\\le 3153600000\\ s$$ \n",
        "$$  \\sqrt{n} \\le 3153600000 \\times 10^{6} $$ \n",
        "$$  n \\le 9.94519296  \\times10^{ 30 }$$ \n",
        "\n",
        "$Mileniun$\n",
        "$$  \\sqrt{n} \\times 10^{-6} \\ s\\le 3153600000000\\ s$$ \n",
        "$$  \\sqrt{n} \\le 3153600000000 \\times 10^{6} $$ \n",
        "$$  n \\le 9.94519296 \\times10^{ 36 }$$ \n",
        "\n"
      ]
    },
    {
      "cell_type": "code",
      "execution_count": null,
      "metadata": {
        "id": "tKXwVpsDih66",
        "outputId": "37a3a033-c448-4666-8eaa-89d803b2f922"
      },
      "outputs": [
        {
          "name": "stdout",
          "output_type": "stream",
          "text": [
            "Second  1.00000000E+12\n",
            "Minute   3.60000000E+15\n",
            "Hour  1.29600000E+19\n",
            "Day  7.46496000E+21\n",
            "Year  9.94519296E+26\n",
            "Century  9.94519296E+30\n",
            "Mileniun   9.94519296E+36\n"
          ]
        }
      ],
      "source": [
        "import math\n",
        "print(\"Second \", \"{:.8E}\".format(math.pow(10**6,2)))\n",
        "print(\"Minute  \",\"{:.8E}\".format(math.pow(60*10**6,2)))\n",
        "print(\"Hour \",\"{:.8E}\".format(math.pow(60*60*10**6,2)))\n",
        "print(\"Day \",\"{:.8E}\".format(math.pow(24*60*60*10**6,2)))\n",
        "print(\"Year \",\"{:.8E}\".format(math.pow(365*24*60*60*10**6,2)))\n",
        "print(\"Century \",\"{:.8E}\".format(math.pow(100*365*24*60*60*10**6,2)))\n",
        "print(\"Mileniun  \",\"{:.8E}\".format(math.pow(1000*100*365*24*60*60*10**6,2)))"
      ]
    },
    {
      "cell_type": "markdown",
      "metadata": {
        "id": "JMUA6vHLih67"
      },
      "source": [
        "$\\bf{ Time\\ Complexity\\ n }$\n",
        "\n",
        "$Second$\n",
        "$$  n  \\times 10^{-6} \\ s\\le 1\\ s$$ \n",
        "$$  n \\le  10^{6} $$ \n",
        "\n",
        "\n",
        "$Minute$\n",
        "$$  n \\times 10^{-6} \\ s\\le 60\\ s$$ \n",
        "$$  n \\le 60 \\times 10^{6} $$ \n",
        "\n",
        "\n",
        "$Hour$\n",
        "$$  n \\times 10^{-6} \\ s\\le 3600\\ s$$ \n",
        "$$  n \\le 3600 \\times 10^{6}  = 3.6 \\times 10^{9}$$ \n",
        "\n",
        "\n",
        "$Day$\n",
        "$$  n \\times 10^{-6} \\ s\\le 86400\\ s$$ \n",
        "$$  n \\le 86400 \\times 10^{6}  = 8.64 \\times 10^{10}$$ \n",
        "\n",
        "\n",
        "$Year$\n",
        "$$  n \\times 10^{-6} \\ s\\le 31536000\\ s$$ \n",
        "$$  n \\le 31536000 \\times 10^{6}   = 3.153 \\times 10^{13}$$ \n",
        "\n",
        "\n",
        "\n",
        "$Century$\n",
        "$$  n \\times 10^{-6} \\ s\\le 3153600000\\ s$$ \n",
        "$$  n \\le 3153600000 \\times 10^{6}  = 3.153 \\times 10^{15}$$ \n",
        " \n",
        "\n",
        "$Mileniun$\n",
        "$$  n \\times 10^{-6} \\ s\\le 3153600000000\\ s$$ \n",
        "$$  n \\le 3153600000000 \\times 10^{6}  = 3.153 \\times 10^{18}$$ "
      ]
    },
    {
      "cell_type": "code",
      "execution_count": null,
      "metadata": {
        "id": "yfo5-oH9ih69",
        "outputId": "db8c8610-3869-4637-a46d-609be403579b"
      },
      "outputs": [
        {
          "name": "stdout",
          "output_type": "stream",
          "text": [
            "Second  1.00000000E+06\n",
            "Minute   6.00000000E+07\n",
            "Hour  3.60000000E+09\n",
            "Day  8.64000000E+10\n",
            "Year  3.15360000E+13\n",
            "Century  3.15360000E+15\n",
            "Mileniun   3.15360000E+18\n"
          ]
        }
      ],
      "source": [
        "import math\n",
        "print(\"Second \", \"{:.8E}\".format(10**6))\n",
        "print(\"Minute  \",\"{:.8E}\".format(60*10**6))\n",
        "print(\"Hour \",\"{:.8E}\".format(60*60*10**6))\n",
        "print(\"Day \",\"{:.8E}\".format(24*60*60*10**6))\n",
        "print(\"Year \",\"{:.8E}\".format(365*24*60*60*10**6))\n",
        "print(\"Century \",\"{:.8E}\".format(100*365*24*60*60*10**6))\n",
        "print(\"Mileniun  \",\"{:.8E}\".format(1000*100*365*24*60*60*10**6))"
      ]
    },
    {
      "cell_type": "markdown",
      "metadata": {
        "id": "K-c9hSXbih6-"
      },
      "source": [
        "$\\bf{ Time\\ Complexity\\ n\\lg{n} }$\n",
        "\n",
        "$Second$\n",
        "$$   n\\lg{n}  \\times 10^{-6} \\ s\\le 1\\ s$$ \n",
        "$$   n\\lg{n} \\le  10^{6} $$ \n",
        "\n",
        "\n",
        "$Minute$\n",
        "$$   n\\lg{n} \\times 10^{-6} \\ s\\le 60\\ s$$ \n",
        "$$   n\\lg{n} \\le 60 \\times 10^{6} $$ \n",
        "\n",
        "\n",
        "$Hour$\n",
        "$$   n\\lg{n} \\times 10^{-6} \\ s\\le 3600\\ s$$ \n",
        "$$   n\\lg{n} \\le 3600 \\times 10^{6} $$ \n",
        "\n",
        "\n",
        "$Day$\n",
        "$$   n\\lg{n} \\times 10^{-6} \\ s\\le 86400\\ s$$ \n",
        "$$   n\\lg{n} \\le 86400 \\times 10^{6} $$ \n",
        "\n",
        "\n",
        "$Year$\n",
        "$$   n\\lg{n} \\times 10^{-6} \\ s\\le 31536000\\ s$$ \n",
        "$$   n\\lg{n} \\le 31536000 \\times 10^{6} $$ \n",
        "\n",
        "\n",
        "\n",
        "$Century$\n",
        "$$   n\\lg{n} \\times 10^{-6} \\ s\\le 3153600000\\ s$$ \n",
        "$$   n\\lg{n} \\le 3153600000 \\times 10^{6} $$ \n",
        " \n",
        "\n",
        "$Mileniun$\n",
        "$$   n\\lg{n} \\times 10^{-6} \\ s\\le 3153600000000\\ s$$ \n",
        "$$  n \\le 3153600000000 \\times 10^{6} $$ "
      ]
    },
    {
      "cell_type": "code",
      "execution_count": null,
      "metadata": {
        "id": "ZGqEmec6ih6_",
        "outputId": "08b2cd5e-6e91-4328-f386-c674a418c854"
      },
      "outputs": [
        {
          "name": "stdout",
          "output_type": "stream",
          "text": [
            "Second  62746  =  6.27460000E+04\n",
            "Minute   2801417  =  2.80141700E+06\n",
            "Hour  133378058  =  1.33378058E+08\n",
            "Day  2755147513  =  2.75514751E+09\n",
            "Year  797633893349  =  7.97633893E+11\n",
            "Century  68610956750570  =  6.86109568E+13\n",
            "Mileniun  56665093434063120  =  5.66650934E+16\n"
          ]
        }
      ],
      "source": [
        "import math\n",
        "def f(n):\n",
        "  return n*math.log2(n)\n",
        "\n",
        "\n",
        "def find(f,v):\n",
        "  l = 1\n",
        "  r = v\n",
        "  while True:\n",
        "    m = int((l+r)/2)\n",
        "    if ((f(m+1) > v) and (f(m) <= v) ) or (l == m) or  (r == m):\n",
        "      return int(m)   \n",
        "    elif f(m) < v:\n",
        "      l = m\n",
        "    else: \n",
        "      r = m\n",
        "\n",
        "print(\"Second \", find(f,10**6),\" = \", \"{:.8E}\".format(find(f,10**6 )))\n",
        "print(\"Minute  \",find(f,60*10**6),\" = \", \"{:.8E}\".format(find(f,60*10**6 )))\n",
        "print(\"Hour \",find(f,60*60*10**6),\" = \", \"{:.8E}\".format(find(f,60*60*10**6 )))\n",
        "print(\"Day \",find(f,24*60*60*10**6 ),\" = \", \"{:.8E}\".format(find(f,24*60*60*10**6 )) )\n",
        "print(\"Year \",find(f,365*24*60*60*10**6 ),\" = \", \"{:.8E}\".format(find(f,365*24*60*60*10**6 )) )\n",
        "print(\"Century \",find(f,100*365*24*60*60*10**6 ),\" = \", \"{:.8E}\".format(find(f,100*365*24*60*60*10**6 )) )\n",
        "print(\"Mileniun \",find(f,1000*100*365*24*60*60*10**6 ),\" = \", \"{:.8E}\".format(find(f,1000*100*365*24*60*60*10**6 )) )"
      ]
    },
    {
      "cell_type": "markdown",
      "metadata": {
        "id": "EOxCQfUHih6_"
      },
      "source": [
        "$\\bf{ Time\\ Complexity\\ n^2}$\n",
        "\n",
        "$Second$\n",
        "$$  n^2 \\times 10^{-6} \\ s\\le 1\\ s$$ \n",
        "$$  n^2 \\le  10^{6} $$ \n",
        "$$ \\sqrt{n^2} \\le \\sqrt{10^{6} }$$ \n",
        "$$ n \\le 1000 $$ \n",
        "\n",
        "$Minute$\n",
        "$$  n^2\\times 10^{-6} \\ s\\le 60\\ s$$ \n",
        "$$  n^2 \\le 60 \\times 10^{6} $$ \n",
        "$$ \\sqrt{n^2} \\le \\sqrt{60 \\times10^{6} }$$ \n",
        "$$ n \\le  7746 $$\n",
        "  \n",
        "$Hour$\n",
        "$$  n^2 \\times 10^{-6} \\ s\\le 3600\\ s$$ \n",
        "$$ n^2 \\le 3600 \\times 10^{6} $$ \n",
        "$$ \\sqrt{n^2} \\le \\sqrt{3.6 \\times10^{9}}$$ \n",
        "$$ n \\le 60000$$\n",
        "\n",
        "$Day$\n",
        "$$  n^2 \\times 10^{-6} \\ s\\le 86400\\ s$$ \n",
        "$$  n^2 \\le 86400 \\times 10^{6} $$ \n",
        "$$ \\sqrt{n^2} \\le \\sqrt{8.64 \\times10^{10}}$$ \n",
        "$$ n \\le 293939 $$\n",
        "\n",
        "$Year$\n",
        "$$  n^2 \\times 10^{-6} \\ s\\le 31536000\\ s$$ \n",
        "$$  n^2 \\le 31536000 \\times 10^{6} $$ \n",
        "$$ \\sqrt{n^2} \\le \\sqrt{3.1536 \\times10^{13}}$$ \n",
        "$$ n \\le 5615692 $$ \n",
        "\n",
        "$Century$\n",
        "$$  n^2 \\times 10^{-6} \\ s\\le 3153600000\\ s$$ \n",
        "$$  n^2 \\le 3153600000 \\times 10^{6} $$ \n",
        "$$ \\sqrt{n^2} \\le \\sqrt{3.1536 \\times10^{15}}$$ \n",
        "$$ n \\le 56156923 $$ \n",
        "\n",
        "$Mileniun$\n",
        "$$  n^2 \\times 10^{-6} \\ s\\le 3153600000000\\ s$$ \n",
        "$$ n^2 \\le 3153600000000 \\times 10^{6} $$ \n",
        "$$ \\sqrt{n^2} \\le \\sqrt{3.1536 \\times10^{18}}$$ \n",
        "$$ n \\le 1775837830 $$  \n"
      ]
    },
    {
      "cell_type": "code",
      "execution_count": null,
      "metadata": {
        "id": "g4MGL_acih7A",
        "outputId": "8eae4038-4511-4343-cd23-5d31f2364f5e"
      },
      "outputs": [
        {
          "name": "stdout",
          "output_type": "stream",
          "text": [
            "Second  1000\n",
            "Minute   7746\n",
            "Hour  60000\n",
            "Day  293939\n",
            "Year  5615692\n",
            "Century  56156923\n",
            "Mileniun  1775837830\n"
          ]
        }
      ],
      "source": [
        "import math\n",
        "i = 10**6\n",
        "print(\"Second \",round(math.sqrt(i )))\n",
        "print(\"Minute  \",round(math.sqrt(60*i )))\n",
        "print(\"Hour \",round(math.sqrt(60*60*i )))\n",
        "print(\"Day \",round(math.sqrt(24*60*60*i )))\n",
        "print(\"Year \",round(math.sqrt(365*24*60*60*i )))\n",
        "print(\"Century \",round(math.sqrt(100*365*24*60*60*i )))\n",
        "print(\"Mileniun \",round(math.sqrt(1000*100*365*24*60*60*i )))"
      ]
    },
    {
      "cell_type": "markdown",
      "metadata": {
        "id": "kpst9nkwih7B"
      },
      "source": [
        "$\\bf{ Time\\ Complexity\\ n^3 }$\n",
        "\n",
        "$Second$\n",
        "$$  n^3 \\times 10^{-6} \\ s\\le 1\\ s$$ \n",
        "$$  n^3 \\le  10^{6} $$ \n",
        "$$ \\sqrt[4]{n^3} \\le \\sqrt[3]{10^{6} }$$ \n",
        "$$ n \\le  100 $$ \n",
        "\n",
        "$Minute$\n",
        "$$  n^3 \\times 10^{-6} \\ s\\le 60\\ s$$ \n",
        "$$  n^3 \\le 60 \\times 10^{6} $$ \n",
        "$$ \\sqrt[3]{n^3} \\le \\sqrt[3]{60 \\times10^{6} }$$ \n",
        "$$ n \\le  391 $$\n",
        "  \n",
        "$Hour$\n",
        "$$  n^3 \\times 10^{-6} \\ s\\le 3600\\ s$$ \n",
        "$$  n^3 \\le 3600 \\times 10^{6} $$ \n",
        "$$ \\sqrt[3]{n^3 } \\le \\sqrt[3]{3.6 \\times10^{9}}$$ \n",
        "$$ n \\le 1533 $$\n",
        "\n",
        "$Day$\n",
        "$$  n^3 \\times 10^{-6} \\ s\\le 86400\\ s$$ \n",
        "$$  n^3 \\le 86400 \\times 10^{6} $$ \n",
        "$$ \\sqrt[3]{n^3} \\le \\sqrt[3]{8.64 \\times10^{10}}$$ \n",
        "$$ n \\le 4421 $$\n",
        "\n",
        "$Year$\n",
        "$$  n^3 \\times 10^{-6} \\ s\\le 31536000\\ s$$ \n",
        "$$  n^3 \\le 31536000 \\times 10^{6} $$ \n",
        "$$ \\sqrt[3]{n^3} \\le \\sqrt[3]{3.1536 \\times10^{13}}$$ \n",
        "$$ n \\le 31594 $$ \n",
        "\n",
        "$Century$\n",
        "$$  n^3 \\times 10^{-6} \\ s\\le 3153600000\\ s$$ \n",
        "$$  n^3 \\le 3153600000 \\times 10^{6} $$ \n",
        "$$ \\sqrt[3]{n^3} \\le \\sqrt[3]{3.1536 \\times10^{15}}$$ \n",
        "$$ n \\le 146646 $$ \n",
        "\n",
        "$Mileniun$\n",
        "$$  n^3 \\times 10^{-6} \\ s\\le 3153600000000\\ s$$ \n",
        "$$  n^3 \\le 3153600000000 \\times 10^{6} $$ \n",
        "$$ \\sqrt[3]{n^3} \\le \\sqrt[3]{3.1536 \\times10^{18}}$$ \n",
        "$$ n \\le 1466455 $$ "
      ]
    },
    {
      "cell_type": "code",
      "execution_count": null,
      "metadata": {
        "id": "agt1CxEWih7B",
        "outputId": "ff9bf5b6-2c51-4644-844a-23bbf53562e7"
      },
      "outputs": [
        {
          "name": "stdout",
          "output_type": "stream",
          "text": [
            "Second  100\n",
            "Minute   391\n",
            "Hour  1533\n",
            "Day  4421\n",
            "Year  31594\n",
            "Century  146646\n",
            "Mileniun  1466455\n"
          ]
        }
      ],
      "source": [
        "import math\n",
        "i = 10**6\n",
        "print(\"Second \",round(math.pow(i ,1/3)))\n",
        "print(\"Minute  \",round(math.pow(60*i ,1/3)))\n",
        "print(\"Hour \",round(math.pow(60*60*i ,1/3)))\n",
        "print(\"Day \",round(math.pow(24*60*60*i ,1/3)))\n",
        "print(\"Year \",round(math.pow(365*24*60*60*i ,1/3)))\n",
        "print(\"Century \",round(math.pow(100*365*24*60*60*i ,1/3)))\n",
        "print(\"Mileniun \",round(math.pow(1000*100*365*24*60*60*i ,1/3)))\n"
      ]
    },
    {
      "cell_type": "markdown",
      "metadata": {
        "id": "brOJ4HQiih7C"
      },
      "source": [
        "$\\bf{ Time\\ Complexity\\ n^4 }$\n",
        "\n",
        "$Second$\n",
        "$$  n^4 \\times 10^{-6} \\ s\\le 1\\ s$$ \n",
        "$$  n^4\\le  10^{6} $$ \n",
        "$$ \\sqrt[4]{n^4 } \\le \\sqrt[4]{10^{6} }$$ \n",
        "$$ n \\le   32 $$ \n",
        "\n",
        "$Minute$\n",
        "$$  n^4 \\times 10^{-6} \\ s\\le 60\\ s$$ \n",
        "$$  n^4 \\le 60 \\times 10^{6} $$ \n",
        "$$ \\sqrt[4]{n^4 } \\le \\sqrt[4]{60 \\times10^{6} }$$ \n",
        "$$ n \\le 88 $$\n",
        "  \n",
        "$Hour$\n",
        "$$  n^4 \\times 10^{-6} \\ s\\le 3600\\ s$$ \n",
        "$$  n^4 \\le 3600 \\times 10^{6} $$ \n",
        "$$ \\sqrt[4]{n^4} \\le \\sqrt[4]{3.6 \\times10^{9}}$$ \n",
        "$$ n \\le 245 $$  \n",
        "\n",
        "$Day$\n",
        "$$  n^4 \\times 10^{-6} \\ s\\le 86400\\ s$$ \n",
        "$$  n^4 \\le 86400 \\times 10^{6} $$ \n",
        "$$ \\sqrt[4]{n^4} \\le \\sqrt[4]{8.64 \\times10^{10}}$$ \n",
        "$$ n \\le 542 $$\n",
        "\n",
        "$Year$\n",
        "$$  n^4 \\times 10^{-6} \\ s\\le 31536000\\ s$$ \n",
        "$$  n^4 \\le 31536000 \\times 10^{6} $$ \n",
        "$$ \\sqrt[4]{n^4} \\le \\sqrt[4]{3.1536 \\times10^{13}}$$ \n",
        "$$ n \\le 2370 $$ \n",
        "\n",
        "$Century$\n",
        "$$  n^4 \\times 10^{-6} \\ s\\le 3153600000\\ s$$ \n",
        "$$  n^4 \\le 3153600000 \\times 10^{6} $$ \n",
        "$$ \\sqrt[4]{n^4} \\le \\sqrt[4]{3.1536 \\times10^{15}}$$ \n",
        "$$ n \\le 7494 $$ \n",
        "\n",
        "$Mileniun$\n",
        "$$  n^4 \\times 10^{-6} \\ s\\le 3153600000000\\ s$$ \n",
        "$$  n^4 \\le 3153600000000 \\times 10^{6} $$ \n",
        "$$ \\sqrt[4]{n^4} \\le \\sqrt[4]{3.1536 \\times10^{18}}$$ \n",
        "$$ n \\le 42141 $$ \n",
        "\n",
        "  "
      ]
    },
    {
      "cell_type": "code",
      "execution_count": null,
      "metadata": {
        "id": "Cy_es6sfih7C",
        "outputId": "78fe2ce0-4c6c-49c6-83d8-0335c8e97d8c"
      },
      "outputs": [
        {
          "name": "stdout",
          "output_type": "stream",
          "text": [
            "Second  32\n",
            "Minute   88\n",
            "Hour  245\n",
            "Day  542\n",
            "Year  2370\n",
            "Century  7494\n",
            "Mileniun  42141\n"
          ]
        }
      ],
      "source": [
        "import math\n",
        "i = 10**6\n",
        "print(\"Second \",round(math.pow(i ,1/4)))\n",
        "print(\"Minute  \",round(math.pow(60*i ,1/4)))\n",
        "print(\"Hour \",round(math.pow(60*60*i ,1/4)))\n",
        "print(\"Day \",round(math.pow(24*60*60*i ,1/4)))\n",
        "print(\"Year \",round(math.pow(365*24*60*60*i ,1/4)))\n",
        "print(\"Century \",round(math.pow(100*365*24*60*60*i ,1/4)))\n",
        "print(\"Mileniun \",round(math.pow(1000*100*365*24*60*60*i ,1/4)))"
      ]
    },
    {
      "cell_type": "markdown",
      "metadata": {
        "id": "0vXU0q8mih7D"
      },
      "source": [
        "$\\bf{ Time\\ Complexity\\ 2^n }$\n",
        "\n",
        "$Second$\n",
        "$$  2^n  \\times 10^{-6}\\ s\\le 1\\ s$$ \n",
        "$$  2^n \\le  10^{6} $$ \n",
        "$$  \\lg(2^n) \\le  \\lg(10^{6} )$$ \n",
        "$$  n \\le  \\lg(10^{6} ) = 19 $$\n",
        "\n",
        "$Minute$\n",
        "$$  2^n  \\times 10^{-6}s \\le 60\\ s$$ \n",
        "$$  2^n \\le   60 \\times  10^{6} $$ \n",
        "$$  \\lg(2^n) \\le  \\lg(60 \\times  10^{6} )$$ \n",
        "$$  n \\le  \\lg(10^{60 \\times  10^{6} }) = 25 $$\n",
        "\n",
        "\n",
        "$Hour$\n",
        "$$  2^n  \\times 10^{-6}s \\le 3600\\ s$$ \n",
        "$$  2^n \\le   3600 \\times  10^{6} $$ \n",
        "$$  \\lg(2^n) \\le  \\lg(3.6 \\times  10^{9})$$ \n",
        "$$  n \\le  \\lg(10^{3.6 \\times  10^{9}}) = 31 $$\n",
        "\n",
        "$Day$\n",
        "$$  2^n  \\times 10^{-6}s \\le  86400\\ s$$ \n",
        "$$  2^n \\le    86400\\times  10^{6} $$ \n",
        "$$  \\lg(2^n) \\le  \\lg( 8.64 \\times  10^{10})$$ \n",
        "$$  n \\le  \\lg(10^{8.64 \\times  10^{10}}) = 36 $$\n",
        "\n",
        "$Year$\n",
        "$$  2^n  \\times 10^{-6}s \\le  31536000\\ s$$ \n",
        "$$  2^n \\le    31536000\\times  10^{6} $$ \n",
        "$$  \\lg(2^n) \\le  \\lg( 3.1536 \\times  10^{13})$$ \n",
        "$$  n \\le  \\lg(10^{3.1536 \\times  10^{13}}) = 44 $$\n",
        "\n",
        "$Century$\n",
        "$$  2^n  \\times 10^{-6}s \\le  3153600000\\ s$$ \n",
        "$$  2^n \\le    3153600000\\times  10^{6} $$ \n",
        "$$  \\lg(2^n) \\le  \\lg( 3.1536 \\times  10^{15})$$ \n",
        "$$  n \\le  \\lg(10^{3.1536 \\times  10^{15}}) = 51 $$\n",
        " \n",
        "\n",
        "$Mileniun$\n",
        "$$  2^n  \\times 10^{-6}s \\le  3153600000000\\ s$$ \n",
        "$$  2^n \\le    3153600000000\\times  10^{6} $$ \n",
        "$$  \\lg(2^n) \\le  \\lg( 3.1536 \\times  10^{18})$$ \n",
        "$$  n \\le  \\lg(10^{3.1536 \\times  10^{18}}) = 61 $$"
      ]
    },
    {
      "cell_type": "code",
      "execution_count": null,
      "metadata": {
        "id": "G4wJd6qgih7D",
        "outputId": "f49e3636-07e8-429b-dd2a-11e9c391d675"
      },
      "outputs": [
        {
          "name": "stdout",
          "output_type": "stream",
          "text": [
            "Second  19\n",
            "Minute   25\n",
            "Hour  31\n",
            "Day  36\n",
            "Year  44\n",
            "Century  51\n",
            "Mileniun  61\n"
          ]
        }
      ],
      "source": [
        "import math\n",
        "i = 10**6\n",
        "print(\"Second \",int(math.log2(i )))\n",
        "print(\"Minute  \",int(math.log2(60*i )))\n",
        "print(\"Hour \",int(math.log2(60*60*i )))\n",
        "print(\"Day \",int(math.log2(24*60*60*i )))\n",
        "print(\"Year \",int(math.log2(365*24*60*60*i )))\n",
        "print(\"Century \",int(math.log2(100*365*24*60*60*i )))\n",
        "print(\"Mileniun \",int(math.log2(1000*100*365*24*60*60*i )))"
      ]
    },
    {
      "cell_type": "code",
      "execution_count": null,
      "metadata": {
        "id": "wBt8dXxgih7E",
        "outputId": "2f4788ad-0c7f-42c4-d3b0-5ed4b46346b5"
      },
      "outputs": [
        {
          "name": "stdout",
          "output_type": "stream",
          "text": [
            "Second  19\n",
            "Minute   25\n",
            "Hour  31\n",
            "Day  36\n",
            "Year  44\n",
            "Century  51\n",
            "Mileniun  61\n"
          ]
        }
      ],
      "source": [
        "import math\n",
        "def f(n):\n",
        "  return 2**n\n",
        "\n",
        "def find(f,v):\n",
        "  l = 1\n",
        "  r = 100\n",
        "  while True:\n",
        "    m = int((l+r)/2)\n",
        "    if ((f(m+1) > v) and (f(m) <= v) ) or (l == m)  or (r== m):\n",
        "      return int(m)\n",
        "    elif f(m) < v:\n",
        "      l = m\n",
        "    else: \n",
        "      r = m\n",
        "\n",
        "i = 10**6\n",
        "print(\"Second \", find(f,i))\n",
        "print(\"Minute  \",find(f,60*i))\n",
        "print(\"Hour \",find(f,60*60*i))\n",
        "print(\"Day \",find(f,24*60*60*i))\n",
        "print(\"Year \",find(f,365*24*60*60*i))\n",
        "print(\"Century \",find(f,100*365*24*60*60*i))\n",
        "print(\"Mileniun \",find(f,1000*100*365*24*60*60*i))"
      ]
    },
    {
      "cell_type": "markdown",
      "metadata": {
        "id": "44QCG_kkih7F"
      },
      "source": [
        "$\\bf{ Time\\ Complexity\\ n! }$\n",
        "\n",
        "$Second$\n",
        "$$  n!  \\times 10^{-6} \\ s\\le 1\\ s$$ \n",
        "$$  n! \\le  10^{6} $$ \n",
        "$$  n \\le  9 $$\n",
        "\n",
        "\n",
        "$Minute$\n",
        "$$  n! \\times 10^{-6} \\ s\\le 60\\ s$$ \n",
        "$$  n! \\le 60 \\times 10^{6} $$ \n",
        "$$  n \\le  11 $$\n",
        "\n",
        "$Hour$\n",
        "$$  n! \\times 10^{-6} \\ s\\le 3600\\ s$$ \n",
        "$$  n! \\le 3600 \\times 10^{6}  = 3.6 \\times 10^{9}$$ \n",
        "$$  n \\le 12 $$\n",
        "\n",
        "\n",
        "$Day$\n",
        "$$  n! \\times 10^{-6} \\ s\\le 86400\\ s$$ \n",
        "$$  n! \\le 86400 \\times 10^{6}  = 8.64 \\times 10^{10}$$ \n",
        "$$  n \\le 13 $$\n",
        "\n",
        "$Year$\n",
        "$$  n! \\times 10^{-6} \\ s\\le 31536000\\ s$$ \n",
        "$$  n! \\le 31536000 \\times 10^{6}   = 3.153 \\times 10^{13}$$ \n",
        "$$  n \\le 16 $$\n",
        "\n",
        "$Century$\n",
        "$$  n! \\times 10^{-6} \\ s\\le 3153600000\\ s$$ \n",
        "$$  n! \\le 3153600000 \\times 10^{6}  = 3.153 \\times 10^{15}$$ \n",
        "$$  n \\le 17 $$\n",
        "\n",
        "$Mileniun$\n",
        "$$  n! \\times 10^{-6} \\ s\\le 3153600000000\\ s$$ \n",
        "$$  n! \\le 3153600000000 \\times 10^{6}  = 3.153 \\times 10^{18}$$ \n",
        "$$  n \\le 20 $$"
      ]
    },
    {
      "cell_type": "code",
      "execution_count": null,
      "metadata": {
        "id": "D2Xe5Qkxih7F",
        "outputId": "22a3a9fd-7286-47fb-8b4c-ec14bdb210d9"
      },
      "outputs": [
        {
          "name": "stdout",
          "output_type": "stream",
          "text": [
            "Second  9\n",
            "Minute   11\n",
            "Hour  12\n",
            "Day  13\n",
            "Year  16\n",
            "Century  17\n",
            "Mileniun  20\n"
          ]
        }
      ],
      "source": [
        "import math\n",
        "def f(n):\n",
        "  return math.factorial(n)\n",
        "\n",
        "def find(f,v):\n",
        "  l = 1\n",
        "  r = 100\n",
        "  while True:\n",
        "    m = int((l+r)/2)\n",
        "    if ((f(m+1) > v) and (f(m) <= v) ) or (l == m) or (r== m):\n",
        "      return int(m)\n",
        "    elif f(m) < v:\n",
        "      l = m\n",
        "    else: \n",
        "      r = m\n",
        "\n",
        "i = 10**6\n",
        "print(\"Second \", find(f,i))\n",
        "print(\"Minute  \",find(f,60*i))\n",
        "print(\"Hour \",find(f,60*60*i))\n",
        "print(\"Day \",find(f,24*60*60*i))\n",
        "print(\"Year \",find(f,365*24*60*60*i))\n",
        "print(\"Century \",find(f,100*365*24*60*60*i))\n",
        "print(\"Mileniun \",find(f,1000*100*365*24*60*60*i))"
      ]
    },
    {
      "cell_type": "markdown",
      "metadata": {
        "id": "3Da_3ej-ih7G"
      },
      "source": [
        "$\\bf{ Time\\ Complexity\\ n^n }$\n",
        "\n",
        "$Second$\n",
        "$$  n^n  \\times 10^{-6} \\ s\\le 1\\ s$$ \n",
        "$$  n^n \\le  10^{6} $$ \n",
        "$$  n \\le  7 $$ \n",
        "\n",
        "$Minute$\n",
        "$$  n^n \\times 10^{-6} \\ s\\le 60\\ s$$ \n",
        "$$  n^n \\le 60 \\times 10^{6} $$ \n",
        "$$  n \\le 8 $$\n",
        "\n",
        "$Hour$\n",
        "$$  n^n \\times 10^{-6} \\ s\\le 3600\\ s$$ \n",
        "$$  n^n \\le 3600 \\times 10^{6}  = 3.6 \\times 10^{9}$$ \n",
        "$$  n \\le 9 $$\n",
        "\n",
        "$Day$\n",
        "$$  n^n \\times 10^{-6} \\ s\\le 86400\\ s$$ \n",
        "$$  n^n \\le 86400 \\times 10^{6}  = 8.64 \\times 10^{10}$$ \n",
        "$$  n \\le 10 $$\n",
        "\n",
        "$Year$\n",
        "$$  n^n \\times 10^{-6} \\ s\\le 31536000\\ s$$ \n",
        "$$  n^n \\le 31536000 \\times 10^{6}   = 3.153 \\times 10^{13}$$ \n",
        "$$  n \\le 12 $$\n",
        "\n",
        "\n",
        "$Century$\n",
        "$$  n^n \\times 10^{-6} \\ s\\le 3153600000\\ s$$ \n",
        "$$  n^n \\le 3153600000 \\times 10^{6}  = 3.153 \\times 10^{15}$$ \n",
        "$$  n \\le 13 $$ \n",
        "\n",
        "$Mileniun$\n",
        "$$  n^n \\times 10^{-6} \\ s\\le 3153600000000\\ s$$ \n",
        "$$  n^n \\le 3153600000000 \\times 10^{6}  = 3.153 \\times 10^{18}$$ \n",
        "$$  n \\le 15 $$\n"
      ]
    },
    {
      "cell_type": "code",
      "execution_count": null,
      "metadata": {
        "id": "5mJgMnwiih7G",
        "outputId": "3d6ad4ed-deac-47f5-98ff-356d0d8644fc"
      },
      "outputs": [
        {
          "name": "stdout",
          "output_type": "stream",
          "text": [
            "Second  7\n",
            "Minute   8\n",
            "Hour  9\n",
            "Day  10\n",
            "Year  12\n",
            "Century  13\n",
            "Mileniun  15\n"
          ]
        }
      ],
      "source": [
        "import math\n",
        "def f(n):\n",
        "  return n**n\n",
        "\n",
        "def find(f,v):\n",
        "  l = 1\n",
        "  r = 100\n",
        "  while True:\n",
        "    m = int((l+r)/2)\n",
        "    if ((f(m+1) > v) and (f(m) <= v) ) or (l == m) or (r== m):\n",
        "      return int(m)\n",
        "    elif f(m) < v:\n",
        "      l = m\n",
        "    else: \n",
        "      r = m\n",
        "\n",
        "i = 10**6\n",
        "print(\"Second \", find(f,i))\n",
        "print(\"Minute  \",find(f,60*i))\n",
        "print(\"Hour \",find(f,60*60*i))\n",
        "print(\"Day \",find(f,24*60*60*i))\n",
        "print(\"Year \",find(f,365*24*60*60*i))\n",
        "print(\"Century \",find(f,100*365*24*60*60*i))\n",
        "print(\"Mileniun \",find(f,1000*100*365*24*60*60*i))"
      ]
    },
    {
      "cell_type": "markdown",
      "metadata": {
        "id": "LiTf8hJpih7G"
      },
      "source": [
        "# 1.(10  nanoseconds by instruction)\n",
        "\n",
        "Asuming that you can execute a 100 million instructions $100 \\times 10^6$ every second, i.e. each instrcution takes 10 nanoseconds, 10 $\\eta s  = 10^{-8} s $. If you have algorithms take $\\bf{ Time\\ Complexity}$ steps to solve a poblem of size $n$ as specified in column one. What is the size of the largest porblem that you can solve in the time specified in row one?\n",
        "\n",
        "$$\n",
        "\\begin{array}{|c|c|c|c|c|c|c|c|} \n",
        " \\hline\n",
        " \\bf{ Time\\ Complexity} & Second  & Minute  & Hour & Day & Year & Century & Mileniun  \\\\ \n",
        "  \\hline\\\\ \n",
        "\\lg(n) & 2^{10^{8} }    & 2^{60 \\times 10^{8}} & 2^{3.6 \\times 10^{11}} &  2^{8.64 \\times 10^{12}}& 2^{3.1536 \\times 10^{15}} & 2^{3.1536 \\times 10^{17}} & 2^{3.1536 \\times 10^{20}} \\\\ \n",
        "   \\hline\\\\ \n",
        "\\lg^2(n) &   2^{10000}  & 2^{77460}  & 2^{600000} & 2^{2939388} & 2^{56156923} & 2^{561569230} &  2^{17758378304} \\\\ \n",
        "   \\hline\\\\ \n",
        "\\sqrt{n} &  10^{16}  & 3.6 \\times 10^{19}  & 1.296 \\times 10^{23} & 7.46496 \\times 10^{25}& 9.94519296 \\times 10^{30} & 9.94519296  \\times 10^{34} & 9.94519296 \\times 10^{40}\\\\ \n",
        " \\hline\n",
        " n & 10^{8}    & 6 \\times 10^{9}   & 3.6 \\times 10^{11} & 8.64 \\times 10^{12} & 6.41136862 \\times 10^{15} & 3.1536 \\times 10^{17} &  3.1536 \\times 10^{20}\\\\ \n",
        " \\hline\n",
        " n\\lg(n) &  4523071  & 2.16677120\\times 10^{8}  &   1.08009383\\times 10^{10} & 2.28957338\\times 10^{11}  &  6.86109568 \\times 10^{13} & 6.01627776\\times 10^{15} &  5.07514271\\times 10^{18} \\\\ \n",
        " \\hline\n",
        " n^2 &  10000  & 77460  & 600000 & 2939388 & 56156923 & 561569230 &  17758378304 \\\\ \n",
        " \\hline\n",
        "  n^3 &  464 &  1817 & 7114 &  20520  &  146646 & 680668 & 6806683 \\\\ \n",
        " \\hline\n",
        "  n^4 &  100  &  278  & 775 & 1714 & 7494 & 23697  & 133261 \\\\ \n",
        " \\hline\n",
        "  2^n &  26  &  32 & 38 & 42 & 51 & 58 & 68 \\\\ \n",
        " \\hline\n",
        " n! &  11  & 12 &  14 & 15 & 17 & 19  &  21\\\\ \n",
        " \\hline\n",
        " n^n &  8  &  9 & 11 & 11 & 13 & 14 & 16 \\\\ \n",
        " \\hline\n",
        "\\end{array}\n",
        "$$"
      ]
    },
    {
      "cell_type": "markdown",
      "metadata": {
        "id": "ZurJos2cih7H"
      },
      "source": [
        "$\\bf{ Time\\ Complexity\\ \\lg(n) }$\n",
        "\n",
        "$Second$\n",
        "$$ \\lg(n) \\times 10^{-8}\\ s\\le 1\\ s$$ \n",
        "$$ \\lg(n) \\le 1 * 10^{8}$$ \n",
        "$$ 2^{\\lg(n)} \\le 2^{10^{8}}$$ \n",
        "$$ n \\le 2^{10^{8}}$$ \n",
        "\n",
        "$Minute$\n",
        "$$ \\lg(n) \\times 10^{-8} \\ s \\le 60\\ s$$ \n",
        "$$ \\lg(n) \\le 60 \\times 10^{8} $$ \n",
        "$$ 2^{\\lg(n)} \\le 2^{60 \\times 10^{8} }$$ \n",
        "$$ n \\le 2^{60 \\times 10^{8} }$$ \n",
        "\n",
        "$Hour$\n",
        "$$ \\lg(n) \\times 10^{-8} \\ s \\le 3600\\ s$$ \n",
        "$$ \\lg(n) \\le 3600 \\times 10^{8} $$ \n",
        "$$ 2^{\\lg(n)} \\le 2^{3.6 \\times 10^{11}}$$ \n",
        "$$ n \\le 2^{3.6 \\times 10^{11}}$$ \n",
        "\n",
        "$Day$\n",
        "$$ \\lg(n) \\times 10^{-8} \\ s \\le 86400\\ s$$ \n",
        "$$ \\lg(n) \\le 86400\\times 10^{8} $$ \n",
        "$$ 2^{\\lg(n)} \\le 2^{8.64 \\times 10^{12}}$$ \n",
        "$$ n \\le 2^{8.64 \\times 10^{12}}$$ \n",
        "\n",
        "$Year$\n",
        "$$ \\lg(n) \\times 10^{-8} \\ s \\le 31536000\\ s$$ \n",
        "$$ \\lg(n) \\le 31536000\\times 10^{8} $$ \n",
        "$$ 2^{\\lg(n)} \\le 2^{3.1536 \\times 10^{15}}$$ \n",
        "$$ n \\le 2^{3.1536 \\times 10^{15}}$$ \n",
        "\n",
        "$Century$\n",
        "$$ \\lg(n) \\times 10^{-8} \\ s \\le 3153600000\\ s$$ \n",
        "$$ \\lg(n) \\le 3153600000\\times 10^{8} $$ \n",
        "$$ 2^{\\lg(n)} \\le 2^{3.1536 \\times 10^{17}}$$ \n",
        "$$ n \\le 2^{3.1536 \\times 10^{17}}$$ \n",
        "\n",
        "$Mileniun$\n",
        "$$ \\lg(n) \\times 10^{-8} \\ s \\le 3153600000000\\ s$$ \n",
        "$$ \\lg(n) \\le 3153600000000\\times 10^{8} $$ \n",
        "$$ 2^{\\lg(n)} \\le 2^{3.1536 \\times 10^{20}}$$ \n",
        "$$ n \\le 2^{3.1536 \\times 10^{20}}$$ "
      ]
    },
    {
      "cell_type": "markdown",
      "metadata": {
        "id": "sxKGV4rJih7H"
      },
      "source": [
        "$\\bf{ Time\\ Complexity\\ \\lg^2(n) }$\n",
        "\n",
        "$Second$\n",
        "$$ \\lg^2(n) \\times 10^{-8} \\ s\\le 1\\ s$$ \n",
        "$$ \\lg(n) \\le \\sqrt{1 * 10^{8}} $$ \n",
        "$$ 2^{\\lg(n)} \\le 2^{\\sqrt{1 * 10^{8}} }$$ \n",
        "$$ n \\le 2^{ 10000  }$$ \n",
        "\n",
        "$Minute$\n",
        "$$ \\lg^2(n) \\times 10^{-8} \\ s \\le 60\\ s$$ \n",
        "$$ \\lg(n) \\le \\sqrt{60 \\times 10^{8}} $$ \n",
        "$$ 2^{\\lg(n)} \\le 2^{\\sqrt{60 \\times 10^{8}} }$$ \n",
        "$$ n \\le 2^{ 77460  }$$ \n",
        "\n",
        "$Hour$\n",
        "$$ \\lg^2(n) \\times 10^{-8} \\ s \\le 3600\\ s$$ \n",
        "$$ \\lg(n) \\le \\sqrt{3600 \\times 10^{8}} $$ \n",
        "$$ 2^{\\lg(n)} \\le 2^{\\sqrt{3.6 \\times 10^{11}}}$$ \n",
        "$$ n \\le  2^{ 600000  }$$ \n",
        "\n",
        "$Day$\n",
        "$$ \\lg^2(n) \\times 10^{-8} \\ s \\le 86400\\ s$$ \n",
        "$$ \\lg(n) \\le \\sqrt{86400\\times 10^{8}} $$ \n",
        "$$ 2^{\\lg(n)} \\le 2^{\\sqrt{8.6400\\times 10^{12}}}$$ \n",
        "$$ n \\le 2^{ 2939388  }$$ \n",
        "\n",
        "$Year$\n",
        "$$ \\lg^2(n) \\times 10^{-8} \\ s \\le 31536000\\ s$$ \n",
        "$$ \\lg(n) \\le \\sqrt{31536000\\times 10^{8}} $$ \n",
        "$$ 2^{\\lg(n)} \\le 2^{\\sqrt{3.1536\\times 10^{15}}}$$ \n",
        "$$ n \\le 2^{ 56156923  }$$ \n",
        "\n",
        "$Century$\n",
        "$$ \\lg^2(n) \\times 10^{-8} \\ s \\le 3153600000\\ s$$ \n",
        "$$ \\lg(n) \\le \\sqrt{3153600000\\times 10^{8}} $$ \n",
        "$$ 2^{\\lg(n)} \\le 2^{\\sqrt{3.1536 \\times 10^{17}}}$$ \n",
        "$$ n \\le 2^{ 561569230  }$$ \n",
        "\n",
        "$Mileniun$\n",
        "$$ \\lg^2(n) \\times 10^{-8} \\ s \\le 3153600000000\\ s$$ \n",
        "$$ \\lg(n) \\le \\sqrt{3153600000000\\times 10^{8}} $$ \n",
        "$$ 2^{\\lg(n)} \\le 2^{\\sqrt{3.1536 \\times 10^{20}}}$$ \n",
        "$$ n \\le 2^{ 17758378304  }$$ "
      ]
    },
    {
      "cell_type": "code",
      "execution_count": null,
      "metadata": {
        "id": "2ZWxtsOYih7H",
        "outputId": "18ab48cb-9ed1-4c83-d2bb-695854aee26c"
      },
      "outputs": [
        {
          "name": "stdout",
          "output_type": "stream",
          "text": [
            "Second 2^{ 10000 }\n",
            "Minute 2^{ 77460 }\n",
            "Hour 2^{ 600000 }\n",
            "Day 2^{ 2939388 }\n",
            "Year 2^{ 56156923 }\n",
            "Century 2^{ 561569230 }\n",
            "Mileniun 2^{ 17758378304 }\n"
          ]
        }
      ],
      "source": [
        "import math\n",
        "i = 10**8\n",
        "print(\"Second 2^{\",round(math.sqrt(i)),\"}\")\n",
        "print(\"Minute 2^{\",round(math.sqrt(60*i)),\"}\")\n",
        "print(\"Hour 2^{\",round(math.sqrt(60*60*i)),\"}\")\n",
        "print(\"Day 2^{\",round(math.sqrt(24*60*60*i)),\"}\")\n",
        "print(\"Year 2^{\",round(math.sqrt(365*24*60*60*i)),\"}\")\n",
        "print(\"Century 2^{\",round(math.sqrt(100*365*24*60*60*i)),\"}\")\n",
        "print(\"Mileniun 2^{\",round(math.sqrt(1000*100*365*24*60*60*i)),\"}\")"
      ]
    },
    {
      "cell_type": "markdown",
      "metadata": {
        "id": "34F6imsCih7I"
      },
      "source": [
        "$\\bf{ Time\\ Complexity\\ \\sqrt{n} }$\n",
        "\n",
        "$Second$\n",
        "$$  \\sqrt{n}  \\times 10^{-8} \\ s\\le 1\\ s$$ \n",
        "$$  \\sqrt{n}  \\le 10^{8} $$\n",
        "$$  n \\le   10^{ 16 }$$ \n",
        "\n",
        "$Minute$\n",
        "$$  \\sqrt{n} \\times 10^{-8} \\ s\\le 60\\ s$$ \n",
        "$$  \\sqrt{n}  \\le 60 \\times 10^{8}$$ \n",
        "$$  n \\le 3.600 \\times10^{19}$$ \n",
        "\n",
        "$Hour$\n",
        "$$  \\sqrt{n}\\times 10^{-8} \\ s\\le 3600\\ s$$ \n",
        "$$  \\sqrt{n} \\le 3600 \\times 10^{6}$$ \n",
        "$$  n  \\le 1.296 \\times10^{23}$$ \n",
        "\n",
        "$Day$\n",
        "$$  \\sqrt{n} \\times 10^{-8} \\ s\\le 86400\\ s$$ \n",
        "$$  \\sqrt{n}\\le 86400 \\times 10^{8}$$ \n",
        "$$  n \\le 7.46496 \\times10^{25}$$ \n",
        "\n",
        "$Year$\n",
        "$$  \\sqrt{n} \\times 10^{-8} \\ s\\le 31536000\\ s$$ \n",
        "$$  \\sqrt{n} \\le 31536000 \\times 10^{8}$$ \n",
        "$$  n \\le 9.94519296 \\times10^{30}$$ \n",
        "\n",
        "$Century$\n",
        "$$  \\sqrt{n} \\times 10^{-8} \\ s\\le 3153600000\\ s$$ \n",
        "$$  \\sqrt{n} \\le 3153600000 \\times 10^{8}$$ \n",
        "$$  n \\le 9.94519296  \\times10^{ 34 }$$ \n",
        "\n",
        "$Mileniun$\n",
        "$$  \\sqrt{n} \\times 10^{-8} \\ s\\le 3153600000000\\ s$$ \n",
        "$$  \\sqrt{n} \\le 3153600000000 \\times 10^{8}$$ \n",
        "$$  n \\le 9.94519296 \\times10^{ 40 }$$ \n",
        "\n"
      ]
    },
    {
      "cell_type": "code",
      "execution_count": null,
      "metadata": {
        "id": "PS7X_1l2ih7I",
        "outputId": "7cbb998d-8640-437f-fd0b-b67bcec56366"
      },
      "outputs": [
        {
          "name": "stdout",
          "output_type": "stream",
          "text": [
            "Second  1.00000000E+16\n",
            "Minute   3.60000000E+19\n",
            "Hour  1.29600000E+23\n",
            "Day  7.46496000E+25\n",
            "Year  9.94519296E+30\n",
            "Century  9.94519296E+34\n",
            "Mileniun   9.94519296E+40\n"
          ]
        }
      ],
      "source": [
        "import math\n",
        "i = 10**8 \n",
        "print(\"Second \", \"{:.8E}\".format(math.pow(i,2)))\n",
        "print(\"Minute  \",\"{:.8E}\".format(math.pow(60*i,2)))\n",
        "print(\"Hour \",\"{:.8E}\".format(math.pow(60*60*i,2)))\n",
        "print(\"Day \",\"{:.8E}\".format(math.pow(24*60*60*i,2)))\n",
        "print(\"Year \",\"{:.8E}\".format(math.pow(365*24*60*60*i,2)))\n",
        "print(\"Century \",\"{:.8E}\".format(math.pow(100*365*24*60*60*i,2)))\n",
        "print(\"Mileniun  \",\"{:.8E}\".format(math.pow(1000*100*365*24*60*60*i,2)))"
      ]
    },
    {
      "cell_type": "markdown",
      "metadata": {
        "id": "b5Pzkpzrih7I"
      },
      "source": [
        "$\\bf{ Time\\ Complexity\\ n }$\n",
        "\n",
        "$Second$\n",
        "$$  n  \\times 10^{-8}\\ s\\le 1\\ s$$ \n",
        "$$  n \\le  10^{8}$$ \n",
        "\n",
        "\n",
        "$Minute$\n",
        "$$  n \\times 10^{-8}\\ s\\le 60\\ s$$ \n",
        "$$  n \\le 60 \\times 10^{8}$$ \n",
        "\n",
        "\n",
        "$Hour$\n",
        "$$  n \\times 10^{-8}\\ s\\le 3600\\ s$$ \n",
        "$$  n \\le 3600 \\times 10^{8} = 3.6 \\times 10^{11}$$ \n",
        "\n",
        "\n",
        "$Day$\n",
        "$$  n \\times 10^{-8}\\ s\\le 86400\\ s$$ \n",
        "$$  n \\le 86400 \\times 10^{8} = 8.64 \\times 10^{12}$$ \n",
        "\n",
        "\n",
        "$Year$\n",
        "$$  n \\times 10^{-8}\\ s\\le 31536000\\ s$$ \n",
        "$$  n \\le 31536000 \\times 10^{8}  = 3.153 \\times 10^{15}$$ \n",
        "\n",
        "\n",
        "\n",
        "$Century$\n",
        "$$  n \\times 10^{-8}\\ s\\le 3153600000\\ s$$ \n",
        "$$  n \\le 3153600000 \\times 10^{8} = 3.153 \\times 10^{17}$$ \n",
        " \n",
        "\n",
        "$Mileniun$\n",
        "$$  n \\times 10^{-8}\\ s\\le 3153600000000\\ s$$ \n",
        "$$  n \\le 3153600000000 \\times 10^{8} = 3.153 \\times 10^{20}$$ "
      ]
    },
    {
      "cell_type": "code",
      "execution_count": null,
      "metadata": {
        "id": "WWTBcuLDih7I",
        "outputId": "d5689ffc-ea92-4423-9795-917bf9f35135"
      },
      "outputs": [
        {
          "name": "stdout",
          "output_type": "stream",
          "text": [
            "Second  1.00000000E+08\n",
            "Minute   6.00000000E+09\n",
            "Hour  3.60000000E+11\n",
            "Day  8.64000000E+12\n",
            "Year  3.15360000E+15\n",
            "Century  3.15360000E+17\n",
            "Mileniun   3.15360000E+20\n"
          ]
        }
      ],
      "source": [
        "import math\n",
        "i = 10**8 \n",
        "print(\"Second \", \"{:.8E}\".format(i))\n",
        "print(\"Minute  \",\"{:.8E}\".format(60*i))\n",
        "print(\"Hour \",\"{:.8E}\".format(60*60*i))\n",
        "print(\"Day \",\"{:.8E}\".format(24*60*60*i))\n",
        "print(\"Year \",\"{:.8E}\".format(365*24*60*60*i))\n",
        "print(\"Century \",\"{:.8E}\".format(100*365*24*60*60*i))\n",
        "print(\"Mileniun  \",\"{:.8E}\".format(1000*100*365*24*60*60*i))"
      ]
    },
    {
      "cell_type": "markdown",
      "metadata": {
        "id": "5kA-d8PLih7J"
      },
      "source": [
        "$\\bf{ Time\\ Complexity\\ n\\lg{n} }$\n",
        "\n",
        "$Second$\n",
        "$$   n\\lg{n}  \\times 10^{-8} \\ s\\le 1\\ s$$ \n",
        "$$   n\\lg{n} \\le  10^{8} $$ \n",
        "\n",
        "\n",
        "$Minute$\n",
        "$$   n\\lg{n} \\times 10^{-8} \\ s\\le 60\\ s$$ \n",
        "$$   n\\lg{n} \\le 60 \\times 10^{8} $$ \n",
        "\n",
        "\n",
        "$Hour$\n",
        "$$   n\\lg{n} \\times 10^{-8} \\ s\\le 3600\\ s$$ \n",
        "$$   n\\lg{n} \\le 3600 \\times 10^{8} $$ \n",
        "\n",
        "\n",
        "$Day$\n",
        "$$   n\\lg{n} \\times 10^{-8} \\ s\\le 86400\\ s$$ \n",
        "$$   n\\lg{n} \\le 86400 \\times 10^{8} $$ \n",
        "\n",
        "\n",
        "$Year$\n",
        "$$   n\\lg{n} \\times 10^{-8} \\ s\\le 31536000\\ s$$ \n",
        "$$   n\\lg{n} \\le 31536000 \\times 10^{8} $$ \n",
        "\n",
        "\n",
        "\n",
        "$Century$\n",
        "$$   n\\lg{n} \\times 10^{-8} \\ s\\le 3153600000\\ s$$ \n",
        "$$   n\\lg{n} \\le 3153600000 \\times 10^{8} $$ \n",
        " \n",
        "\n",
        "$Mileniun$\n",
        "$$   n\\lg{n} \\times 10^{-8} \\ s\\le 3153600000000\\ s$$ \n",
        "$$  n \\le 3153600000000 \\times 10^{8} $$ "
      ]
    },
    {
      "cell_type": "code",
      "execution_count": null,
      "metadata": {
        "id": "6aqiQrafih7J",
        "outputId": "15faf178-ed66-4f3c-eda7-9bb4c3a6cb58"
      },
      "outputs": [
        {
          "name": "stdout",
          "output_type": "stream",
          "text": [
            "Second  4523071  =  4.52307100E+06\n",
            "Minute   216677120  =  2.16677120E+08\n",
            "Hour  10800938300  =  1.08009383E+10\n",
            "Day  228957337705  =  2.28957338E+11\n",
            "Year  68610956750570  =  6.86109568E+13\n",
            "Century  6016277763015247  =  6.01627776E+15\n",
            "Mileniun  5075142713362522112  =  5.07514271E+18\n"
          ]
        }
      ],
      "source": [
        "import math\n",
        "def f(n):\n",
        "  return n*math.log2(n)\n",
        "\n",
        "\n",
        "def find(f,v):\n",
        "  l = 1\n",
        "  r = v\n",
        "  while True:\n",
        "    m = int((l+r)/2)\n",
        "    if ((f(m+1) > v) and (f(m) <= v) ) or (l == m) or  (r == m):\n",
        "      return int(m)   \n",
        "    elif f(m) < v:\n",
        "      l = m\n",
        "    else: \n",
        "      r = m\n",
        "      \n",
        "i = 10**8 \n",
        "print(\"Second \", find(f,i),\" = \", \"{:.8E}\".format(find(f,i )))\n",
        "print(\"Minute  \",find(f,60*i),\" = \", \"{:.8E}\".format(find(f,60*i )))\n",
        "print(\"Hour \",find(f,60*60*i),\" = \", \"{:.8E}\".format(find(f,60*60*i )))\n",
        "print(\"Day \",find(f,24*60*60*i ),\" = \", \"{:.8E}\".format(find(f,24*60*60*i )) )\n",
        "print(\"Year \",find(f,365*24*60*60*i ),\" = \", \"{:.8E}\".format(find(f,365*24*60*60*i )) )\n",
        "print(\"Century \",find(f,100*365*24*60*60*i ),\" = \", \"{:.8E}\".format(find(f,100*365*24*60*60*i )) )\n",
        "print(\"Mileniun \",find(f,1000*100*365*24*60*60*i ),\" = \", \"{:.8E}\".format(find(f,1000*100*365*24*60*60*i )) )"
      ]
    },
    {
      "cell_type": "markdown",
      "metadata": {
        "id": "dXv_pfHgih7J"
      },
      "source": [
        "$\\bf{ Time\\ Complexity\\ n^2}$\n",
        "\n",
        "$Second$\n",
        "$$  n^2 \\times 10^{-8} \\ s\\le 1\\ s$$ \n",
        "$$  n^2 \\le  10^{8} $$ \n",
        "$$ \\sqrt{n^2} \\le \\sqrt{10^{8} }$$ \n",
        "$$ n \\le 10000 $$ \n",
        "\n",
        "$Minute$\n",
        "$$  n^2\\times 10^{-8} \\ s\\le 60\\ s$$ \n",
        "$$  n^2 \\le 60 \\times 10^{8} $$ \n",
        "$$ \\sqrt{n^2} \\le \\sqrt{60 \\times10^{8} }$$ \n",
        "$$ n \\le  77460 $$\n",
        "  \n",
        "$Hour$\n",
        "$$  n^2 \\times 10^{-8} \\ s\\le 3600\\ s$$ \n",
        "$$ n^2 \\le 3600 \\times 10^{8} $$ \n",
        "$$ \\sqrt{n^2} \\le \\sqrt{3.6 \\times10^{11}}$$ \n",
        "$$ n \\le 600000 $$\n",
        "\n",
        "$Day$\n",
        "$$  n^2 \\times 10^{-8} \\ s\\le 86400\\ s$$ \n",
        "$$  n^2 \\le 86400 \\times 10^{8} $$ \n",
        "$$ \\sqrt{n^2} \\le \\sqrt{8.64 \\times10^{12}}$$ \n",
        "$$ n \\le 2939388 $$\n",
        "\n",
        "$Year$\n",
        "$$  n^2 \\times 10^{-8} \\ s\\le 31536000\\ s$$ \n",
        "$$  n^2 \\le 31536000 \\times 10^{8} $$ \n",
        "$$ \\sqrt{n^2} \\le \\sqrt{3.1536 \\times10^{15}}$$ \n",
        "$$ n \\le 56156923 $$ \n",
        "\n",
        "$Century$\n",
        "$$  n^2 \\times 10^{-8} \\ s\\le 3153600000\\ s$$ \n",
        "$$  n^2 \\le 3153600000 \\times 10^{8} $$ \n",
        "$$ \\sqrt{n^2} \\le \\sqrt{3.1536 \\times10^{17}}$$ \n",
        "$$ n \\le 561569230 $$ \n",
        "\n",
        "$Mileniun$\n",
        "$$  n^2 \\times 10^{-8} \\ s\\le 3153600000000\\ s$$ \n",
        "$$ n^2 \\le 3153600000000 \\times 10^{8} $$ \n",
        "$$ \\sqrt{n^2} \\le \\sqrt{3.1536 \\times10^{20}}$$ \n",
        "$$ n \\le 17758378304 $$  \n"
      ]
    },
    {
      "cell_type": "code",
      "execution_count": null,
      "metadata": {
        "id": "BeCWVZrQih7J",
        "outputId": "bfade550-73bc-4c79-af6b-5dd72f90ff32"
      },
      "outputs": [
        {
          "name": "stdout",
          "output_type": "stream",
          "text": [
            "Second  10000\n",
            "Minute   77460\n",
            "Hour  600000\n",
            "Day  2939388\n",
            "Year  56156923\n",
            "Century  561569230\n",
            "Mileniun  17758378304\n"
          ]
        }
      ],
      "source": [
        "import math\n",
        "i = 10**8\n",
        "print(\"Second \",round(math.sqrt(i )))\n",
        "print(\"Minute  \",round(math.sqrt(60*i )))\n",
        "print(\"Hour \",round(math.sqrt(60*60*i )))\n",
        "print(\"Day \",round(math.sqrt(24*60*60*i )))\n",
        "print(\"Year \",round(math.sqrt(365*24*60*60*i )))\n",
        "print(\"Century \",round(math.sqrt(100*365*24*60*60*i )))\n",
        "print(\"Mileniun \",round(math.sqrt(1000*100*365*24*60*60*i )))"
      ]
    },
    {
      "cell_type": "markdown",
      "metadata": {
        "id": "dHXzrEtPih7K"
      },
      "source": [
        "$\\bf{ Time\\ Complexity\\ n^3 }$\n",
        "\n",
        "$Second$\n",
        "$$  n^3 \\times 10^{-8} \\ s\\le 1\\ s$$ \n",
        "$$  n^3 \\le  10^{8} $$ \n",
        "$$ \\sqrt[4]{n^3} \\le \\sqrt[3]{10^{8} }$$ \n",
        "$$ n \\le  464 $$ \n",
        "\n",
        "$Minute$\n",
        "$$  n^3 \\times 10^{-8} \\ s\\le 60\\ s$$ \n",
        "$$  n^3 \\le 60 \\times 10^{8} $$ \n",
        "$$ \\sqrt[3]{n^3} \\le \\sqrt[3]{60 \\times10^{8} }$$ \n",
        "$$ n \\le  1817 $$\n",
        "  \n",
        "$Hour$\n",
        "$$  n^3 \\times 10^{-8} \\ s\\le 3600\\ s$$ \n",
        "$$  n^3 \\le 3600 \\times 10^{8} $$ \n",
        "$$ \\sqrt[3]{n^3 } \\le \\sqrt[3]{3.6 \\times10^{11}}$$ \n",
        "$$ n \\le 7114 $$\n",
        "\n",
        "$Day$\n",
        "$$  n^3 \\times 10^{-8} \\ s\\le 86400\\ s$$ \n",
        "$$  n^3 \\le 86400 \\times 10^{8} $$ \n",
        "$$ \\sqrt[3]{n^3} \\le \\sqrt[3]{8.64 \\times10^{12}}$$ \n",
        "$$ n \\le 20520 $$\n",
        "\n",
        "$Year$\n",
        "$$  n^3 \\times 10^{-8} \\ s\\le 31536000\\ s$$ \n",
        "$$  n^3 \\le 31536000 \\times 10^{8} $$ \n",
        "$$ \\sqrt[3]{n^3} \\le \\sqrt[3]{3.1536 \\times10^{15}}$$ \n",
        "$$ n \\le 146646 $$ \n",
        "\n",
        "$Century$\n",
        "$$  n^3 \\times 10^{-8} \\ s\\le 3153600000\\ s$$ \n",
        "$$  n^3 \\le 3153600000 \\times 10^{8} $$ \n",
        "$$ \\sqrt[3]{n^3} \\le \\sqrt[3]{3.1536 \\times10^{17}}$$ \n",
        "$$ n \\le 680668 $$ \n",
        "\n",
        "$Mileniun$\n",
        "$$  n^3 \\times 10^{-8} \\ s\\le 3153600000000\\ s$$ \n",
        "$$  n^3 \\le 3153600000000 \\times 10^{8} $$ \n",
        "$$ \\sqrt[3]{n^3} \\le \\sqrt[3]{3.1536 \\times10^{20}}$$ \n",
        "$$ n \\le 6806683 $$ "
      ]
    },
    {
      "cell_type": "code",
      "execution_count": null,
      "metadata": {
        "id": "N5j05wPOih7K",
        "outputId": "c4d26dc7-5540-4b66-8021-8a673857b532"
      },
      "outputs": [
        {
          "name": "stdout",
          "output_type": "stream",
          "text": [
            "Second  464\n",
            "Minute   1817\n",
            "Hour  7114\n",
            "Day  20520\n",
            "Year  146646\n",
            "Century  680668\n",
            "Mileniun  6806683\n"
          ]
        }
      ],
      "source": [
        "import math\n",
        "i = 10**8\n",
        "print(\"Second \",round(math.pow(i ,1/3)))\n",
        "print(\"Minute  \",round(math.pow(60*i ,1/3)))\n",
        "print(\"Hour \",round(math.pow(60*60*i ,1/3)))\n",
        "print(\"Day \",round(math.pow(24*60*60*i ,1/3)))\n",
        "print(\"Year \",round(math.pow(365*24*60*60*i ,1/3)))\n",
        "print(\"Century \",round(math.pow(100*365*24*60*60*i ,1/3)))\n",
        "print(\"Mileniun \",round(math.pow(1000*100*365*24*60*60*i ,1/3)))\n"
      ]
    },
    {
      "cell_type": "markdown",
      "metadata": {
        "id": "xlD7-XLEih7K"
      },
      "source": [
        "$\\bf{ Time\\ Complexity\\ n^4 }$\n",
        "\n",
        "$Second$\n",
        "$$  n^4 \\times 10^{-8} \\ s\\le 1\\ s$$ \n",
        "$$  n^4\\le  10^{8} $$ \n",
        "$$ \\sqrt[4]{n^4 } \\le \\sqrt[4]{10^{8} }$$ \n",
        "$$ n \\le   100 $$ \n",
        "\n",
        "$Minute$\n",
        "$$  n^4 \\times 10^{-8} \\ s\\le 60\\ s$$ \n",
        "$$  n^4 \\le 60 \\times 10^{8} $$ \n",
        "$$ \\sqrt[4]{n^4 } \\le \\sqrt[4]{60 \\times10^{8} }$$ \n",
        "$$ n \\le 278 $$\n",
        "  \n",
        "$Hour$\n",
        "$$  n^4 \\times 10^{-8} \\ s\\le 3600\\ s$$ \n",
        "$$  n^4 \\le 3600 \\times 10^{8} $$ \n",
        "$$ \\sqrt[4]{n^4} \\le \\sqrt[4]{3.6 \\times10^{11}}$$ \n",
        "$$ n \\le 775 $$  \n",
        "\n",
        "$Day$\n",
        "$$  n^4 \\times 10^{-8} \\ s\\le 86400\\ s$$ \n",
        "$$  n^4 \\le 86400 \\times 10^{8} $$ \n",
        "$$ \\sqrt[4]{n^4} \\le \\sqrt[4]{8.64 \\times10^{12}}$$ \n",
        "$$ n \\le 1714 $$\n",
        "\n",
        "$Year$\n",
        "$$  n^4 \\times 10^{-8} \\ s\\le 31536000\\ s$$ \n",
        "$$  n^4 \\le 31536000 \\times 10^{8} $$ \n",
        "$$ \\sqrt[4]{n^4} \\le \\sqrt[4]{3.1536 \\times10^{15}}$$ \n",
        "$$ n \\le 7494 $$ \n",
        "\n",
        "$Century$\n",
        "$$  n^4 \\times 10^{-8} \\ s\\le 3153600000\\ s$$ \n",
        "$$  n^4 \\le 3153600000 \\times 10^{8} $$ \n",
        "$$ \\sqrt[4]{n^4} \\le \\sqrt[4]{3.1536 \\times10^{17}}$$ \n",
        "$$ n \\le 23697 $$ \n",
        "\n",
        "$Mileniun$\n",
        "$$  n^4 \\times 10^{-8} \\ s\\le 3153600000000\\ s$$ \n",
        "$$  n^4 \\le 3153600000000 \\times 10^{8} $$ \n",
        "$$ \\sqrt[4]{n^4} \\le \\sqrt[4]{3.1536 \\times10^{20}}$$ \n",
        "$$ n \\le 133261 $$ \n",
        "\n",
        "  "
      ]
    },
    {
      "cell_type": "code",
      "execution_count": null,
      "metadata": {
        "id": "GG1kgGivih7L",
        "outputId": "eaf43189-19ad-428f-d128-c90e83e411e7"
      },
      "outputs": [
        {
          "name": "stdout",
          "output_type": "stream",
          "text": [
            "Second  100\n",
            "Minute   278\n",
            "Hour  775\n",
            "Day  1714\n",
            "Year  7494\n",
            "Century  23697\n",
            "Mileniun  133261\n"
          ]
        }
      ],
      "source": [
        "import math\n",
        "i = 10**8\n",
        "print(\"Second \",round(math.pow(i ,1/4)))\n",
        "print(\"Minute  \",round(math.pow(60*i ,1/4)))\n",
        "print(\"Hour \",round(math.pow(60*60*i ,1/4)))\n",
        "print(\"Day \",round(math.pow(24*60*60*i ,1/4)))\n",
        "print(\"Year \",round(math.pow(365*24*60*60*i ,1/4)))\n",
        "print(\"Century \",round(math.pow(100*365*24*60*60*i ,1/4)))\n",
        "print(\"Mileniun \",round(math.pow(1000*100*365*24*60*60*i ,1/4)))"
      ]
    },
    {
      "cell_type": "markdown",
      "metadata": {
        "id": "a671DKi-ih7L"
      },
      "source": [
        "$\\bf{ Time\\ Complexity\\ 2^n }$\n",
        "\n",
        "$Second$\n",
        "$$  2^n  \\times 10^{-8} \\ s\\le 1\\ s$$ \n",
        "$$  2^n \\le  10^{8}  $$ \n",
        "$$  \\lg(2^n) \\le  \\lg(10^{8}  )$$ \n",
        "$$  n \\le  \\lg(10^{8}  ) = 26 $$\n",
        "\n",
        "$Minute$\n",
        "$$  2^n  \\times 10^{-8} s \\le 60\\ s$$ \n",
        "$$  2^n \\le   60 \\times  10^{8}  $$ \n",
        "$$  \\lg(2^n) \\le  \\lg(60 \\times  10^{8}  )$$ \n",
        "$$  n \\le  \\lg(10^{60 \\times  10^{8}  }) = 32 $$\n",
        "\n",
        "\n",
        "$Hour$\n",
        "$$  2^n  \\times 10^{-8} s \\le 3600\\ s$$ \n",
        "$$  2^n \\le   3600 \\times  10^{8}  $$ \n",
        "$$  \\lg(2^n) \\le  \\lg(3.6 \\times  10^{11})$$ \n",
        "$$  n \\le  \\lg(10^{3.6 \\times  10^{11}}) = 38 $$\n",
        "\n",
        "$Day$\n",
        "$$  2^n  \\times 10^{-8} s \\le  86400\\ s$$ \n",
        "$$  2^n \\le    86400\\times  10^{8}  $$ \n",
        "$$  \\lg(2^n) \\le  \\lg( 8.64 \\times  10^{12})$$ \n",
        "$$  n \\le  \\lg(10^{8.64 \\times  10^{12}}) = 42 $$\n",
        "\n",
        "$Year$\n",
        "$$  2^n  \\times 10^{-8} s \\le  31536000\\ s$$ \n",
        "$$  2^n \\le    31536000\\times  10^{8}  $$ \n",
        "$$  \\lg(2^n) \\le  \\lg( 3.1536 \\times  10^{15})$$ \n",
        "$$  n \\le  \\lg(10^{3.1536 \\times  10^{15}}) = 51 $$\n",
        "\n",
        "$Century$\n",
        "$$  2^n  \\times 10^{-8} s \\le  3153600000\\ s$$ \n",
        "$$  2^n \\le    3153600000\\times  10^{8}  $$ \n",
        "$$  \\lg(2^n) \\le  \\lg( 3.1536 \\times  10^{17})$$ \n",
        "$$  n \\le  \\lg(10^{3.1536 \\times  10^{17}}) = 58 $$\n",
        " \n",
        "\n",
        "$Mileniun$\n",
        "$$  2^n  \\times 10^{-8} s \\le  3153600000000\\ s$$ \n",
        "$$  2^n \\le    3153600000000\\times  10^{8}  $$ \n",
        "$$  \\lg(2^n) \\le  \\lg( 3.1536 \\times  10^{20})$$ \n",
        "$$  n \\le  \\lg(10^{3.1536 \\times  10^{20}}) = 68 $$"
      ]
    },
    {
      "cell_type": "code",
      "execution_count": null,
      "metadata": {
        "id": "kRv3JnY-ih7L",
        "outputId": "b26d0aeb-5799-4379-d822-ea53b6333d4c"
      },
      "outputs": [
        {
          "name": "stdout",
          "output_type": "stream",
          "text": [
            "Second  26\n",
            "Minute   32\n",
            "Hour  38\n",
            "Day  42\n",
            "Year  51\n",
            "Century  58\n",
            "Mileniun  68\n"
          ]
        }
      ],
      "source": [
        "import math\n",
        "i = 10**8\n",
        "print(\"Second \",int(math.log2(i )))\n",
        "print(\"Minute  \",int(math.log2(60*i )))\n",
        "print(\"Hour \",int(math.log2(60*60*i )))\n",
        "print(\"Day \",int(math.log2(24*60*60*i )))\n",
        "print(\"Year \",int(math.log2(365*24*60*60*i )))\n",
        "print(\"Century \",int(math.log2(100*365*24*60*60*i )))\n",
        "print(\"Mileniun \",int(math.log2(1000*100*365*24*60*60*i )))"
      ]
    },
    {
      "cell_type": "code",
      "execution_count": null,
      "metadata": {
        "id": "44zt5Rhqih7L",
        "outputId": "0ac055f0-b5a1-4552-f203-a850bbdff9a1"
      },
      "outputs": [
        {
          "name": "stdout",
          "output_type": "stream",
          "text": [
            "Second  26\n",
            "Minute   32\n",
            "Hour  38\n",
            "Day  42\n",
            "Year  51\n",
            "Century  58\n",
            "Mileniun  68\n"
          ]
        }
      ],
      "source": [
        "import math\n",
        "def f(n):\n",
        "  return 2**n\n",
        "\n",
        "def find(f,v):\n",
        "  l = 1\n",
        "  r = 100\n",
        "  while True:\n",
        "    m = int((l+r)/2)\n",
        "    if ((f(m+1) > v) and (f(m) <= v) ) or (l == m)  or (r== m):\n",
        "      return int(m)\n",
        "    elif f(m) < v:\n",
        "      l = m\n",
        "    else: \n",
        "      r = m\n",
        "\n",
        "i = 10**8\n",
        "print(\"Second \", find(f,i))\n",
        "print(\"Minute  \",find(f,60*i))\n",
        "print(\"Hour \",find(f,60*60*i))\n",
        "print(\"Day \",find(f,24*60*60*i))\n",
        "print(\"Year \",find(f,365*24*60*60*i))\n",
        "print(\"Century \",find(f,100*365*24*60*60*i))\n",
        "print(\"Mileniun \",find(f,1000*100*365*24*60*60*i))"
      ]
    },
    {
      "cell_type": "markdown",
      "metadata": {
        "id": "bH-mHqqmih7M"
      },
      "source": [
        "$\\bf{ Time\\ Complexity\\ n! }$\n",
        "\n",
        "$Second$\n",
        "$$  n!  \\times 10^{-8} \\ s\\le 1\\ s$$ \n",
        "$$  n! \\le  10^{8} $$ \n",
        "$$  n \\le  11 $$\n",
        "\n",
        "\n",
        "$Minute$\n",
        "$$  n! \\times 10^{-8} \\ s\\le 60\\ s$$ \n",
        "$$  n! \\le 60 \\times 10^{8} $$ \n",
        "$$  n \\le  12 $$\n",
        "\n",
        "$Hour$\n",
        "$$  n! \\times 10^{-8} \\ s\\le 3600\\ s$$ \n",
        "$$  n! \\le 3600 \\times 10^{8}  = 3.6 \\times 10^{11}$$ \n",
        "$$  n \\le 14 $$\n",
        "\n",
        "\n",
        "$Day$\n",
        "$$  n! \\times 10^{-8} \\ s\\le 86400\\ s$$ \n",
        "$$  n! \\le 86400 \\times 10^{8}  = 8.64 \\times 10^{12}$$ \n",
        "$$  n \\le 15 $$\n",
        "\n",
        "$Year$\n",
        "$$  n! \\times 10^{-8} \\ s\\le 31536000\\ s$$ \n",
        "$$  n! \\le 31536000 \\times 10^{8}   = 3.153 \\times 10^{15}$$ \n",
        "$$  n \\le 17 $$\n",
        "\n",
        "$Century$\n",
        "$$  n! \\times 10^{-8} \\ s\\le 3153600000\\ s$$ \n",
        "$$  n! \\le 3153600000 \\times 10^{8}  = 3.153 \\times 10^{17}$$ \n",
        "$$  n \\le 19 $$\n",
        "\n",
        "$Mileniun$\n",
        "$$  n! \\times 10^{-8} \\ s\\le 3153600000000\\ s$$ \n",
        "$$  n! \\le 3153600000000 \\times 10^{8}  = 3.153 \\times 10^{20}$$ \n",
        "$$  n \\le 21 $$"
      ]
    },
    {
      "cell_type": "code",
      "execution_count": null,
      "metadata": {
        "id": "pOaHSy8Xih7M",
        "outputId": "5b84e4d6-a670-459f-fab6-c268131e586b"
      },
      "outputs": [
        {
          "name": "stdout",
          "output_type": "stream",
          "text": [
            "Second  11\n",
            "Minute   12\n",
            "Hour  14\n",
            "Day  15\n",
            "Year  17\n",
            "Century  19\n",
            "Mileniun  21\n"
          ]
        }
      ],
      "source": [
        "import math\n",
        "def f(n):\n",
        "  return math.factorial(n)\n",
        "\n",
        "def find(f,v):\n",
        "  l = 1\n",
        "  r = 100\n",
        "  while True:\n",
        "    m = int((l+r)/2)\n",
        "    if ((f(m+1) > v) and (f(m) <= v) ) or (l == m) or (r== m):\n",
        "      return int(m)\n",
        "    elif f(m) < v:\n",
        "      l = m\n",
        "    else: \n",
        "      r = m\n",
        "\n",
        "i = 10**8\n",
        "print(\"Second \", find(f,i))\n",
        "print(\"Minute  \",find(f,60*i))\n",
        "print(\"Hour \",find(f,60*60*i))\n",
        "print(\"Day \",find(f,24*60*60*i))\n",
        "print(\"Year \",find(f,365*24*60*60*i))\n",
        "print(\"Century \",find(f,100*365*24*60*60*i))\n",
        "print(\"Mileniun \",find(f,1000*100*365*24*60*60*i))"
      ]
    },
    {
      "cell_type": "markdown",
      "metadata": {
        "id": "dB2xLGTBih7M"
      },
      "source": [
        "$\\bf{ Time\\ Complexity\\ n^n }$\n",
        "\n",
        "$Second$\n",
        "$$  n^n  \\times 10^{-8} \\ s\\le 1\\ s$$ \n",
        "$$  n^n \\le  10^{8} $$ \n",
        "$$  n \\le  8 $$ \n",
        "\n",
        "$Minute$\n",
        "$$  n^n \\times 10^{-8} \\ s\\le 60\\ s$$ \n",
        "$$  n^n \\le 60 \\times 10^{8} $$ \n",
        "$$  n \\le 9 $$\n",
        "\n",
        "$Hour$\n",
        "$$  n^n \\times 10^{-8} \\ s\\le 3600\\ s$$ \n",
        "$$  n^n \\le 3600 \\times 10^{8}  = 3.6 \\times 10^{11}$$ \n",
        "$$  n \\le 11 $$\n",
        "\n",
        "$Day$\n",
        "$$  n^n \\times 10^{-8} \\ s\\le 86400\\ s$$ \n",
        "$$  n^n \\le 86400 \\times 10^{8}  = 8.64 \\times 10^{12}$$ \n",
        "$$  n \\le 11 $$\n",
        "\n",
        "$Year$\n",
        "$$  n^n \\times 10^{-8} \\ s\\le 31536000\\ s$$ \n",
        "$$  n^n \\le 31536000 \\times 10^{8}   = 3.153 \\times 10^{15}$$ \n",
        "$$  n \\le 13 $$\n",
        "\n",
        "\n",
        "$Century$\n",
        "$$  n^n \\times 10^{-8} \\ s\\le 3153600000\\ s$$ \n",
        "$$  n^n \\le 3153600000 \\times 10^{8}  = 3.153 \\times 10^{17}$$ \n",
        "$$  n \\le 14 $$ \n",
        "\n",
        "$Mileniun$\n",
        "$$  n^n \\times 10^{-8} \\ s\\le 3153600000000\\ s$$ \n",
        "$$  n^n \\le 3153600000000 \\times 10^{8}  = 3.153 \\times 10^{20}$$ \n",
        "$$  n \\le 16 $$\n"
      ]
    },
    {
      "cell_type": "code",
      "execution_count": null,
      "metadata": {
        "id": "_FxnF3fHih7M",
        "outputId": "ce5b3a8f-1da8-48a9-a95f-2b5e470eaa1e"
      },
      "outputs": [
        {
          "name": "stdout",
          "output_type": "stream",
          "text": [
            "Second  8\n",
            "Minute   9\n",
            "Hour  11\n",
            "Day  11\n",
            "Year  13\n",
            "Century  14\n",
            "Mileniun  16\n"
          ]
        }
      ],
      "source": [
        "import math\n",
        "def f(n):\n",
        "  return n**n\n",
        "\n",
        "def find(f,v):\n",
        "  l = 1\n",
        "  r = 100\n",
        "  while True:\n",
        "    m = int((l+r)/2)\n",
        "    if ((f(m+1) > v) and (f(m) <= v) ) or (l == m) or (r== m):\n",
        "      return int(m)\n",
        "    elif f(m) < v:\n",
        "      l = m\n",
        "    else: \n",
        "      r = m\n",
        "\n",
        "i = 10**8\n",
        "print(\"Second \", find(f,i))\n",
        "print(\"Minute  \",find(f,60*i))\n",
        "print(\"Hour \",find(f,60*60*i))\n",
        "print(\"Day \",find(f,24*60*60*i))\n",
        "print(\"Year \",find(f,365*24*60*60*i))\n",
        "print(\"Century \",find(f,100*365*24*60*60*i))\n",
        "print(\"Mileniun \",find(f,1000*100*365*24*60*60*i))"
      ]
    },
    {
      "cell_type": "markdown",
      "metadata": {
        "id": "E9JQVQW4ih7M"
      },
      "source": [
        "# 2.(2.5  nanoseconds by instruction)\n",
        "\n",
        "Asuuming that you can execute a 400 million instructions $400 \\times 10^6$ every second, i.e. each instrcution takes 2.5  nanoseconds, 2.5 $\\eta s  = 2.5 \\times 10^{-9} s$. If you have algorithms take $\\bf{ Time\\ Complexity}$ steps to solve a problem of size $n$ as specified in column one. What is the size of the largest problem that you can solve in the time specified in row one?\n",
        "\n",
        "$$\n",
        "\\begin{array}{|c|c|c|c|c|c|c|c|} \n",
        " \\hline\n",
        " \\bf{ Time\\ Complexity} & Second  & Minute  & Hour & Day & Year & Century & Mileniun  \\\\ \n",
        "  \\hline\\\\ \n",
        "\\lg(n) & 2^{0.4 \\times 10^{9} }    & 2^{24 \\times 10^{9}} & 2^{1.44 \\times 10^{12}} &  2^{ 3.456\\times 10^{13}}& 2^{1.26144 \\times 10^{15}} & 2^{1.26144 \\times 10^{18}} & 2^{1.26144 \\times 10^{21}} \\\\ \n",
        "   \\hline\\\\ \n",
        "\\lg^2(n) &   2^{20000}  & 2^{154919}  & 2^{1200000} & 2^{5878775} & 2^{112313846} & 2^{1123138460} &  2^{35516756609} \\\\ \n",
        "   \\hline\\\\ \n",
        "\\sqrt{n} &  1.6 \\times 10^{17}  & 5.76 \\times 10^{20}  & 2.0736\\times 10^{24} & 1.1943936 \\times 10^{27}& 1.59123087 \\times 10^{32} & 1.59123087   \\times 10^{36} & 1.59123087  \\times 10^{42}\\\\ \n",
        " \\hline\n",
        " n & 0.4 \\times 10^{9}    & 24 \\times 10^{9}   & 1.44 \\times 10^{12} & 3.456 \\times 10^{13} & 1.26144 \\times 10^{16} & 1.26144 \\times 10^{18} &  1.26144 \\times 10^{21}\\\\ \n",
        " \\hline\n",
        " n\\lg(n) &  16672916  & 8.10946912\\times 10^{8}  &   4.08514484\\times 10^{10} & 8.71310386\\times 10^{11}  &  2.63327470 \\times 10^{14} &2.32030927\\times 10^{16} &  1.96812603\\times 10^{19} \\\\ \n",
        " \\hline\n",
        " n^2 &  20000  & 154919  & 1200000 & 5878775 & 112313846 & 1123138460 &  35516756609 \\\\ \n",
        " \\hline\n",
        "  n^3 &  737 &  2884 & 11292 &  32573  &  232785 & 1080494 & 10804936 \\\\ \n",
        " \\hline\n",
        "  n^4 &  141  &  394  & 1095 & 2425 & 10598 & 33513  & 188459 \\\\ \n",
        " \\hline\n",
        "  2^n &  28  &  34 & 40 & 44 & 53 & 60 & 70 \\\\ \n",
        " \\hline\n",
        " n! &  11  & 13 &  15 & 16 & 18 & 19  &  22\\\\ \n",
        " \\hline\n",
        " n^n &  9  &  10 & 11 & 12 & 14 & 15 & 17 \\\\ \n",
        " \\hline\n",
        "\\end{array}\n",
        "$$"
      ]
    },
    {
      "cell_type": "markdown",
      "metadata": {
        "id": "98BEXtzIih7N"
      },
      "source": [
        "$\\bf{ Time\\ Complexity\\ \\lg(n) }$\n",
        "\n",
        "$Second$\n",
        "$$ \\lg(n) \\times 2.5\\times 10^{-9}\\ s\\le 1\\ s$$ \n",
        "$$ \\lg(n) \\le 0.4 * 10^{9}$$ \n",
        "$$ 2^{\\lg(n)} \\le 2^{0.4 * 10^{9}}$$  \n",
        "$$ n \\le 2^{0.4 \\times 10^{9}}$$ \n",
        "\n",
        "$Minute$\n",
        "$$ \\lg(n) \\times 2.5\\times 10^{-9} \\ s \\le 60\\ s$$ \n",
        "$$ \\lg(n) \\le 60 \\times 0.4\\times 10^{9} $$ \n",
        "$$ 2^{\\lg(n)} \\le 2^{24 \\times  10^{9} }$$ \n",
        "$$ n \\le 2^{24 \\times  10^{9} }$$ \n",
        "\n",
        "$Hour$\n",
        "$$ \\lg(n) \\times 2.5\\times 10^{-9} \\ s \\le 3600\\ s$$ \n",
        "$$ \\lg(n) \\le 3600 \\times 0.4\\times 10^{9} $$ \n",
        "$$ 2^{\\lg(n)} \\le 2^{1.44 \\times  10^{12}}$$ \n",
        "$$ n \\le 2^{1.44\\times 10^{12}}$$ \n",
        "\n",
        "$Day$\n",
        "$$ \\lg(n) \\times 2.5\\times 10^{-9} \\ s \\le 86400\\ s$$ \n",
        "$$ \\lg(n) \\le 86400\\times 0.4\\times 10^{9} $$ \n",
        "$$ 2^{\\lg(n)} \\le 2^{3.456 \\times 10^{13}}$$ \n",
        "$$ n \\le 2^{3.456 \\times 10^{13}}$$ \n",
        "\n",
        "$Year$\n",
        "$$ \\lg(n) \\times 2.5\\times 10^{-9} \\ s \\le 31536000\\ s$$ \n",
        "$$ \\lg(n) \\le 31536000\\times 0.4\\times 10^{9} $$ \n",
        "$$ 2^{\\lg(n)} \\le 2^{1.26144 \\times 10^{16}}$$ \n",
        "$$ n \\le 2^{1.26144 \\times 10^{16}}$$ \n",
        "\n",
        "$Century$\n",
        "$$ \\lg(n) \\times 2.5\\times 10^{-9} \\ s \\le 3153600000\\ s$$ \n",
        "$$ \\lg(n) \\le 3153600000\\times 0.4\\times 10^{9} $$ \n",
        "$$ 2^{\\lg(n)} \\le 2^{1.26144 \\times 10^{18}}$$ \n",
        "$$ n \\le 2^{1.26144 \\times 10^{18}}$$ \n",
        "\n",
        "$Mileniun$\n",
        "$$ \\lg(n) \\times 2.5\\times 10^{-9} \\ s \\le 3153600000000\\ s$$ \n",
        "$$ \\lg(n) \\le 3153600000000\\times 0.4\\times 10^{9} $$ \n",
        "$$ 2^{\\lg(n)} \\le 2^{1.26144 \\times 10^{21}}$$ \n",
        "$$ n \\le 2^{1.26144\\times 10^{21}}$$ "
      ]
    },
    {
      "cell_type": "markdown",
      "metadata": {
        "id": "JFGanTGPih7N"
      },
      "source": [
        "$\\bf{ Time\\ Complexity\\ \\lg^2(n) }$\n",
        "\n",
        "$Second$\n",
        "$$ \\lg^2(n) \\times 2.5 \\times 10^{-9} \\ s\\le 1\\ s$$ \n",
        "$$ \\lg(n) \\le \\sqrt{0.4 * 10^{9}} $$ \n",
        "$$ 2^{\\lg(n)} \\le 2^{\\sqrt{0.4* 10^{9}} }$$ \n",
        "$$ n \\le 2^{ 20000     }$$ \n",
        "\n",
        "$Minute$\n",
        "$$ \\lg^2(n) \\times 2.5\\times  10^{-9} \\ s \\le 60\\ s$$ \n",
        "$$ \\lg(n) \\le \\sqrt{60 \\times 0.4\\times 10^{9}} $$ \n",
        "$$ 2^{\\lg(n)} \\le 2^{\\sqrt{24 \\times 10^{9}} }$$ \n",
        "$$ n \\le 2^{ 154919     }$$ \n",
        "\n",
        "$Hour$\n",
        "$$ \\lg^2(n) \\times 2.5\\times 10^{-9} \\ s \\le 3600\\ s$$ \n",
        "$$ \\lg(n) \\le \\sqrt{3600 \\times 0.4\\times 10^{9}} $$ \n",
        "$$ 2^{\\lg(n)} \\le 2^{\\sqrt{1.44 \\times 10^{12}}}$$ \n",
        "$$ n \\le  2^{ 1200000     }$$ \n",
        "\n",
        "$Day$\n",
        "$$ \\lg^2(n) \\times 2.5\\times 10^{-9} \\ s \\le 86400\\ s$$ \n",
        "$$ \\lg(n) \\le \\sqrt{86400\\times 0.4\\times 10^{9}} $$ \n",
        "$$ 2^{\\lg(n)} \\le 2^{\\sqrt{3.456\\times 10^{13}}}$$ \n",
        "$$ n \\le 2^{ 5878775     }$$ \n",
        "\n",
        "$Year$\n",
        "$$ \\lg^2(n) \\times 2.5\\times 10^{-9} \\ s \\le 31536000\\ s$$ \n",
        "$$ \\lg(n) \\le \\sqrt{31536000\\times 0.4\\times 10^{9}} $$ \n",
        "$$ 2^{\\lg(n)} \\le 2^{\\sqrt{1.26144\\times 10^{16}}}$$ \n",
        "$$ n \\le 2^{ 112313846     }$$ \n",
        "\n",
        "$Century$\n",
        "$$ \\lg^2(n) \\times 2.5\\times 10^{-9} \\ s \\le 3153600000\\ s$$ \n",
        "$$ \\lg(n) \\le \\sqrt{3153600000\\times 0.4\\times 10^{9}} $$ \n",
        "$$ 2^{\\lg(n)} \\le 2^{\\sqrt{1.26144 \\times 10^{18}}}$$ \n",
        "$$ n \\le 2^{ 1123138460     }$$ \n",
        "\n",
        "$Mileniun$\n",
        "$$ \\lg^2(n) \\times 2.5\\times 10^{-9} \\ s \\le 3153600000000\\ s$$ \n",
        "$$ \\lg(n) \\le \\sqrt{3153600000000\\times 0.4\\times 10^{9}} $$ \n",
        "$$ 2^{\\lg(n)} \\le 2^{\\sqrt{1.26144 \\times 10^{21}}}$$ \n",
        "$$ n \\le 2^{ 35516756609    }$$ "
      ]
    },
    {
      "cell_type": "code",
      "execution_count": null,
      "metadata": {
        "id": "-_kj0fBfih7N",
        "outputId": "0313b800-318c-475f-a344-0701fbe7a052"
      },
      "outputs": [
        {
          "name": "stdout",
          "output_type": "stream",
          "text": [
            "Second 2^{ 20000 }\n",
            "Minute 2^{ 154919 }\n",
            "Hour 2^{ 1200000 }\n",
            "Day 2^{ 5878775 }\n",
            "Year 2^{ 112313846 }\n",
            "Century 2^{ 1123138460 }\n",
            "Mileniun 2^{ 35516756609 }\n"
          ]
        }
      ],
      "source": [
        "import math\n",
        "i = 0.4*10**9\n",
        "print(\"Second 2^{\",round(math.sqrt(i)),\"}\")\n",
        "print(\"Minute 2^{\",round(math.sqrt(60*i)),\"}\")\n",
        "print(\"Hour 2^{\",round(math.sqrt(60*60*i)),\"}\")\n",
        "print(\"Day 2^{\",round(math.sqrt(24*60*60*i)),\"}\")\n",
        "print(\"Year 2^{\",round(math.sqrt(365*24*60*60*i)),\"}\")\n",
        "print(\"Century 2^{\",round(math.sqrt(100*365*24*60*60*i)),\"}\")\n",
        "print(\"Mileniun 2^{\",round(math.sqrt(1000*100*365*24*60*60*i)),\"}\")"
      ]
    },
    {
      "cell_type": "markdown",
      "metadata": {
        "id": "lBxxOOF4ih7P"
      },
      "source": [
        "$\\bf{ Time\\ Complexity\\ \\sqrt{n} }$\n",
        "\n",
        "$Second$\n",
        "$$  \\sqrt{n}  \\times 2.5\\times 10^{-9} \\ s\\le 1\\ s$$ \n",
        "$$  \\sqrt{n}  \\le 0.4\\times10^{9} $$\n",
        "$$  n \\le   1.6 \\times 10^{ 17 }$$ \n",
        "\n",
        "$Minute$\n",
        "$$  \\sqrt{n} \\times 2.5\\times 10^{-9} \\ s\\le 60\\ s$$ \n",
        "$$  \\sqrt{n}  \\le 60 \\times 0.4\\times 10^{9}$$ \n",
        "$$  n \\le 5.76 \\times10^{ 20 }$$ \n",
        "\n",
        "$Hour$\n",
        "$$  \\sqrt{n}\\times 2.5\\times 10^{-9} \\ s\\le 3600\\ s$$ \n",
        "$$  \\sqrt{n} \\le 3600 \\times 0.4\\times 10^{9}$$ \n",
        "$$  n  \\le 2.0736 \\times10^{ 24 }$$ \n",
        "\n",
        "$Day$\n",
        "$$  \\sqrt{n} \\times 2.5\\times 10^{-9} \\ s\\le 86400\\ s$$ \n",
        "$$  \\sqrt{n}\\le 86400 \\times 0.4\\times 10^{9}$$ \n",
        "$$  n \\le 1.1943936 \\times10^{ 27 }$$ \n",
        "\n",
        "$Year$\n",
        "$$  \\sqrt{n} \\times 2.5\\times 10^{-9} \\ s\\le 31536000\\ s$$ \n",
        "$$  \\sqrt{n} \\le 31536000 \\times 0.4\\times 10^{9}$$ \n",
        "$$  n \\le 1.59123087\\times10^{ 32 }$$ \n",
        "\n",
        "$Century$\n",
        "$$  \\sqrt{n} \\times 2.5\\times 10^{-9} \\ s\\le 3153600000\\ s$$ \n",
        "$$  \\sqrt{n} \\le 3153600000 \\times 0.4\\times 10^{9}$$ \n",
        "$$  n \\le 1.59123087  \\times10^{ 36 }$$ \n",
        "\n",
        "$Mileniun$\n",
        "$$  \\sqrt{n} \\times 2.5\\times 10^{-9} \\ s\\le 3153600000000\\ s$$ \n",
        "$$  \\sqrt{n} \\le 3153600000000 \\times 0.4\\times 10^{9}$$ \n",
        "$$  n \\le 1.59123087\\times10^{ 42 }$$ \n",
        "\n"
      ]
    },
    {
      "cell_type": "code",
      "execution_count": null,
      "metadata": {
        "id": "4Rb4UP4eih7P",
        "outputId": "b56c24f6-2338-425f-f85c-1626a24861ef"
      },
      "outputs": [
        {
          "name": "stdout",
          "output_type": "stream",
          "text": [
            "Second  1.60000000E+17\n",
            "Minute   5.76000000E+20\n",
            "Hour  2.07360000E+24\n",
            "Day  1.19439360E+27\n",
            "Year  1.59123087E+32\n",
            "Century  1.59123087E+36\n",
            "Mileniun   1.59123087E+42\n"
          ]
        }
      ],
      "source": [
        "import math\n",
        "i = 0.4*10**9\n",
        "print(\"Second \", \"{:.8E}\".format(math.pow(i,2)))\n",
        "print(\"Minute  \",\"{:.8E}\".format(math.pow(60*i,2)))\n",
        "print(\"Hour \",\"{:.8E}\".format(math.pow(60*60*i,2)))\n",
        "print(\"Day \",\"{:.8E}\".format(math.pow(24*60*60*i,2)))\n",
        "print(\"Year \",\"{:.8E}\".format(math.pow(365*24*60*60*i,2)))\n",
        "print(\"Century \",\"{:.8E}\".format(math.pow(100*365*24*60*60*i,2)))\n",
        "print(\"Mileniun  \",\"{:.8E}\".format(math.pow(1000*100*365*24*60*60*i,2)))"
      ]
    },
    {
      "cell_type": "markdown",
      "metadata": {
        "id": "ZLEMujwlih7P"
      },
      "source": [
        "$\\bf{ Time\\ Complexity\\ n }$\n",
        "\n",
        "$Second$\n",
        "$$  n  \\times 2.5\\times 10^{-9}\\ s\\le 1\\ s$$ \n",
        "$$  n \\le  0.4\\times 10^{9}$$ \n",
        "\n",
        "\n",
        "$Minute$\n",
        "$$  n \\times 2.5\\times 10^{-9}\\ s\\le 60\\ s$$ \n",
        "$$  n \\le 24 \\times  10^{9}$$ \n",
        "\n",
        "\n",
        "$Hour$\n",
        "$$  n \\times 2.5\\times 10^{-9}\\ s\\le 3600\\ s$$ \n",
        "$$  n \\le 3600 \\times 0.4\\times 10^{9} = 1.44\\times 10^{12}$$ \n",
        "\n",
        "\n",
        "$Day$\n",
        "$$  n \\times 2.5\\times 10^{-9}\\ s\\le 86400\\ s$$ \n",
        "$$  n \\le 86400 \\times 0.4\\times 10^{9} = 3.456\\times 10^{13}$$ \n",
        "\n",
        "\n",
        "$Year$\n",
        "$$  n \\times 2.5\\times 10^{-9}\\ s\\le 31536000\\ s$$ \n",
        "$$  n \\le 31536000 \\times 0.4\\times 10^{9}  = 1.26144 \\times 10^{16}$$ \n",
        "\n",
        "\n",
        "\n",
        "$Century$\n",
        "$$  n \\times 2.5\\times 10^{-9}\\ s\\le 3153600000\\ s$$ \n",
        "$$  n \\le 3153600000 \\times 0.4\\times 10^{9} = 1.26144 \\times  10^{18}$$ \n",
        " \n",
        "\n",
        "$Mileniun$\n",
        "$$  n \\times 2.5\\times 10^{-9}\\ s\\le 3153600000000\\ s$$ \n",
        "$$  n \\le 3153600000000 \\times 0.4\\times 10^{9} = 1.26144 \\times  10^{21}$$ "
      ]
    },
    {
      "cell_type": "code",
      "execution_count": null,
      "metadata": {
        "id": "DHeRQbWwih7P",
        "outputId": "056effe1-1728-4b5f-f9f4-1a61af9acfa6"
      },
      "outputs": [
        {
          "name": "stdout",
          "output_type": "stream",
          "text": [
            "Second  4.00000000E+08\n",
            "Minute   2.40000000E+10\n",
            "Hour  1.44000000E+12\n",
            "Day  3.45600000E+13\n",
            "Year  1.26144000E+16\n",
            "Century  1.26144000E+18\n",
            "Mileniun   1.26144000E+21\n"
          ]
        }
      ],
      "source": [
        "import math\n",
        "i = 0.4*10**9\n",
        "print(\"Second \", \"{:.8E}\".format(i))\n",
        "print(\"Minute  \",\"{:.8E}\".format(60*i))\n",
        "print(\"Hour \",\"{:.8E}\".format(60*60*i))\n",
        "print(\"Day \",\"{:.8E}\".format(24*60*60*i))\n",
        "print(\"Year \",\"{:.8E}\".format(365*24*60*60*i))\n",
        "print(\"Century \",\"{:.8E}\".format(100*365*24*60*60*i))\n",
        "print(\"Mileniun  \",\"{:.8E}\".format(1000*100*365*24*60*60*i))"
      ]
    },
    {
      "cell_type": "markdown",
      "metadata": {
        "id": "aNC66MOqih7P"
      },
      "source": [
        "$\\bf{ Time\\ Complexity\\ n\\lg{n} }$\n",
        "\n",
        "$Second$\n",
        "$$   n\\lg{n}  \\times 2.5\\times 10^{-9} \\ s\\le 1\\ s$$ \n",
        "$$   n\\lg{n} \\le  0.4\\times 10^{9} $$ \n",
        "\n",
        "\n",
        "$Minute$\n",
        "$$   n\\lg{n} \\times 2.5\\times 10^{-9} \\ s\\le 60\\ s$$ \n",
        "$$   n\\lg{n} \\le 60 \\times 0.4\\times 10^{9} $$ \n",
        "\n",
        "\n",
        "$Hour$\n",
        "$$   n\\lg{n} \\times 2.5\\times 10^{-9} \\ s\\le 3600\\ s$$ \n",
        "$$   n\\lg{n} \\le 3600 \\times 0.4\\times 10^{9} $$ \n",
        "\n",
        "\n",
        "$Day$\n",
        "$$   n\\lg{n} \\times 2.5\\times 10^{-9} \\ s\\le 86400\\ s$$ \n",
        "$$   n\\lg{n} \\le 86400 \\times 0.4\\times 10^{9} $$ \n",
        "\n",
        "\n",
        "$Year$\n",
        "$$   n\\lg{n} \\times 2.5\\times 10^{-9} \\ s\\le 31536000\\ s$$ \n",
        "$$   n\\lg{n} \\le 31536000 \\times 0.4\\times 10^{9} $$ \n",
        "\n",
        "\n",
        "\n",
        "$Century$\n",
        "$$   n\\lg{n} \\times 2.5\\times 10^{-9} \\ s\\le 3153600000\\ s$$ \n",
        "$$   n\\lg{n} \\le 3153600000 \\times 0.4\\times 10^{9} $$ \n",
        " \n",
        "\n",
        "$Mileniun$\n",
        "$$   n\\lg{n} \\times 2.5\\times 10^{-9} \\ s\\le 3153600000000\\ s$$ \n",
        "$$  n \\le 3153600000000 \\times 0.4\\times 10^{9} $$ "
      ]
    },
    {
      "cell_type": "code",
      "execution_count": null,
      "metadata": {
        "id": "Kx8gyOQ3ih7Q",
        "outputId": "a5c888f0-e1db-4d68-c9c2-f9c9cb4b522f"
      },
      "outputs": [
        {
          "name": "stdout",
          "output_type": "stream",
          "text": [
            "Second  16672916  =  1.66729160E+07\n",
            "Minute   810946912  =  8.10946912E+08\n",
            "Hour  40851448379  =  4.08514484E+10\n",
            "Day  871310385977  =  8.71310386E+11\n",
            "Year  263327470378616  =  2.63327470E+14\n",
            "Century  23203092682389592  =  2.32030927E+16\n",
            "Mileniun  19681260313173401600  =  1.96812603E+19\n"
          ]
        }
      ],
      "source": [
        "import math\n",
        "def f(n):\n",
        "  return n*math.log2(n)\n",
        "\n",
        "\n",
        "def find(f,v):\n",
        "  l = 1\n",
        "  r = v\n",
        "  while True:\n",
        "    m = int((l+r)/2)\n",
        "    if ((f(m+1) > v) and (f(m) <= v) ) or (l == m) or  (r == m):\n",
        "      return int(m)   \n",
        "    elif f(m) < v:\n",
        "      l = m\n",
        "    else: \n",
        "      r = m\n",
        "      \n",
        "i = 0.4*10**9 \n",
        "print(\"Second \", find(f,i),\" = \", \"{:.8E}\".format(find(f,i )))\n",
        "print(\"Minute  \",find(f,60*i),\" = \", \"{:.8E}\".format(find(f,60*i )))\n",
        "print(\"Hour \",find(f,60*60*i),\" = \", \"{:.8E}\".format(find(f,60*60*i )))\n",
        "print(\"Day \",find(f,24*60*60*i ),\" = \", \"{:.8E}\".format(find(f,24*60*60*i )) )\n",
        "print(\"Year \",find(f,365*24*60*60*i ),\" = \", \"{:.8E}\".format(find(f,365*24*60*60*i )) )\n",
        "print(\"Century \",find(f,100*365*24*60*60*i ),\" = \", \"{:.8E}\".format(find(f,100*365*24*60*60*i )) )\n",
        "print(\"Mileniun \",find(f,1000*100*365*24*60*60*i ),\" = \", \"{:.8E}\".format(find(f,1000*100*365*24*60*60*i )) )"
      ]
    },
    {
      "cell_type": "markdown",
      "metadata": {
        "id": "myOqdOGjih7Q"
      },
      "source": [
        "$\\bf{ Time\\ Complexity\\ n^2}$\n",
        "\n",
        "$Second$\n",
        "$$  n^2 \\times 2.5\\times 10^{-9} \\ s\\le 1\\ s$$ \n",
        "$$  n^2 \\le  0.4\\times 10^{9} $$ \n",
        "$$ \\sqrt{n^2} \\le \\sqrt{0.4 \\times 10^{9} }$$ \n",
        "$$ n \\le 20000 $$ \n",
        "\n",
        "$Minute$\n",
        "$$  n^2\\times 2.5\\times 10^{-9} \\ s\\le 60\\ s$$ \n",
        "$$  n^2 \\le 60 \\times 0.4\\times 10^{9} $$ \n",
        "$$ \\sqrt{n^2} \\le \\sqrt{24 \\times10^{9} }$$ \n",
        "$$ n \\le  154919 $$\n",
        "  \n",
        "$Hour$\n",
        "$$  n^2 \\times 2.5\\times 10^{-9} \\ s\\le 3600\\ s$$ \n",
        "$$ n^2 \\le 3600 \\times 0.4\\times 10^{9} $$ \n",
        "$$ \\sqrt{n^2} \\le \\sqrt{1.44 \\times10^{12}}$$ \n",
        "$$ n \\le 1200000 $$\n",
        "\n",
        "$Day$\n",
        "$$  n^2 \\times 2.5\\times 10^{-9} \\ s\\le 86400\\ s$$ \n",
        "$$  n^2 \\le 86400 \\times 0.4\\times 10^{9} $$ \n",
        "$$ \\sqrt{n^2} \\le \\sqrt{3.456 \\times10^{13}}$$ \n",
        "$$ n \\le 5878775 $$\n",
        "\n",
        "$Year$\n",
        "$$  n^2 \\times 2.5\\times 10^{-9} \\ s\\le 31536000\\ s$$ \n",
        "$$  n^2 \\le 31536000 \\times 0.4\\times 10^{9} $$ \n",
        "$$ \\sqrt{n^2} \\le \\sqrt{1.26144 \\times10^{16}}$$ \n",
        "$$ n \\le 112313846 $$ \n",
        "\n",
        "$Century$\n",
        "$$  n^2 \\times 2.5\\times 10^{-9} \\ s\\le 3153600000\\ s$$ \n",
        "$$  n^2 \\le 3153600000 \\times 0.4\\times 10^{9} $$ \n",
        "$$ \\sqrt{n^2} \\le \\sqrt{1.26144 \\times10^{18}}$$ \n",
        "$$ n \\le 1123138460 $$ \n",
        "\n",
        "$Mileniun$\n",
        "$$  n^2 \\times 2.5\\times 10^{-9} \\ s\\le 3153600000000\\ s$$ \n",
        "$$ n^2 \\le 3153600000000 \\times 0.4\\times 10^{9} $$ \n",
        "$$ \\sqrt{n^2} \\le \\sqrt{1.26144 \\times10^{21}}$$ \n",
        "$$ n \\le 35516756609 $$  \n"
      ]
    },
    {
      "cell_type": "code",
      "execution_count": null,
      "metadata": {
        "id": "rKO0mpypih7Q",
        "outputId": "5a6dfc34-edc1-48df-ddb8-30f1211ba84c"
      },
      "outputs": [
        {
          "name": "stdout",
          "output_type": "stream",
          "text": [
            "Second  20000\n",
            "Minute   154919\n",
            "Hour  1200000\n",
            "Day  5878775\n",
            "Year  112313846\n",
            "Century  1123138460\n",
            "Mileniun  35516756609\n"
          ]
        }
      ],
      "source": [
        "import math\n",
        "i = 0.4*10**9\n",
        "print(\"Second \",round(math.sqrt(i )))\n",
        "print(\"Minute  \",round(math.sqrt(60*i )))\n",
        "print(\"Hour \",round(math.sqrt(60*60*i )))\n",
        "print(\"Day \",round(math.sqrt(24*60*60*i )))\n",
        "print(\"Year \",round(math.sqrt(365*24*60*60*i )))\n",
        "print(\"Century \",round(math.sqrt(100*365*24*60*60*i )))\n",
        "print(\"Mileniun \",round(math.sqrt(1000*100*365*24*60*60*i )))"
      ]
    },
    {
      "cell_type": "markdown",
      "metadata": {
        "id": "SUYdRrMBih7Q"
      },
      "source": [
        "$\\bf{ Time\\ Complexity\\ n^3 }$\n",
        "\n",
        "$Second$\n",
        "$$  n^3 \\times 2.5\\times 10^{-9} \\ s\\le 1\\ s$$ \n",
        "$$  n^3 \\le  0.4 \\times 10^{9} $$ \n",
        "$$ \\sqrt[4]{n^3} \\le \\sqrt[3]{0.4 \\times10^{9} }$$ \n",
        "$$ n \\le  737 $$ \n",
        "\n",
        "$Minute$\n",
        "$$  n^3 \\times 2.5\\times 10^{-9} \\ s\\le 60\\ s$$ \n",
        "$$  n^3 \\le 60 \\times 0.4\\times 10^{9} $$ \n",
        "$$ \\sqrt[3]{n^3} \\le \\sqrt[3]{24 \\times10^{9} }$$ \n",
        "$$ n \\le  2884 $$\n",
        "  \n",
        "$Hour$\n",
        "$$  n^3 \\times 2.5\\times 10^{-9} \\ s\\le 3600\\ s$$ \n",
        "$$  n^3 \\le 3600 \\times 0.4\\times 10^{9} $$ \n",
        "$$ \\sqrt[3]{n^3 } \\le \\sqrt[3]{1.44 \\times10^{12}}$$ \n",
        "$$ n \\le 11292 $$\n",
        "\n",
        "$Day$\n",
        "$$  n^3 \\times 2.5\\times 10^{-9} \\ s\\le 86400\\ s$$ \n",
        "$$  n^3 \\le 86400 \\times 0.4\\times 10^{9} $$ \n",
        "$$ \\sqrt[3]{n^3} \\le \\sqrt[3]{3.456 \\times10^{13}}$$ \n",
        "$$ n \\le 32573 $$\n",
        "\n",
        "$Year$\n",
        "$$  n^3 \\times 2.5\\times 10^{-9} \\ s\\le 31536000\\ s$$ \n",
        "$$  n^3 \\le 31536000 \\times 0.4\\times 10^{9} $$ \n",
        "$$ \\sqrt[3]{n^3} \\le \\sqrt[3]{1.26144 \\times10^{16}}$$ \n",
        "$$ n \\le 232785 $$ \n",
        "\n",
        "$Century$\n",
        "$$  n^3 \\times 2.5\\times 10^{-9} \\ s\\le 3153600000\\ s$$ \n",
        "$$  n^3 \\le 3153600000 \\times 0.4\\times 10^{9} $$ \n",
        "$$ \\sqrt[3]{n^3} \\le \\sqrt[3]{1.26144 \\times10^{18}}$$ \n",
        "$$ n \\le 1080494 $$ \n",
        "\n",
        "$Mileniun$\n",
        "$$  n^3 \\times 2.5\\times 10^{-9} \\ s\\le 3153600000000\\ s$$ \n",
        "$$  n^3 \\le 3153600000000 \\times 0.4\\times 10^{9} $$ \n",
        "$$ \\sqrt[3]{n^3} \\le \\sqrt[3]{1.26144 \\times10^{21}}$$ \n",
        "$$ n \\le 10804936 $$ "
      ]
    },
    {
      "cell_type": "code",
      "execution_count": null,
      "metadata": {
        "id": "L5WEJ8Qgih7R",
        "outputId": "08dcacc0-ed0e-4c8e-cbb8-e1df0e0a9eb4"
      },
      "outputs": [
        {
          "name": "stdout",
          "output_type": "stream",
          "text": [
            "Second  737\n",
            "Minute   2884\n",
            "Hour  11292\n",
            "Day  32573\n",
            "Year  232785\n",
            "Century  1080494\n",
            "Mileniun  10804936\n"
          ]
        }
      ],
      "source": [
        "import math\n",
        "i = 0.4*10**9\n",
        "print(\"Second \",round(math.pow(i ,1/3)))\n",
        "print(\"Minute  \",round(math.pow(60*i ,1/3)))\n",
        "print(\"Hour \",round(math.pow(60*60*i ,1/3)))\n",
        "print(\"Day \",round(math.pow(24*60*60*i ,1/3)))\n",
        "print(\"Year \",round(math.pow(365*24*60*60*i ,1/3)))\n",
        "print(\"Century \",round(math.pow(100*365*24*60*60*i ,1/3)))\n",
        "print(\"Mileniun \",round(math.pow(1000*100*365*24*60*60*i ,1/3)))\n"
      ]
    },
    {
      "cell_type": "markdown",
      "metadata": {
        "id": "FYhxKRA-ih7R"
      },
      "source": [
        "$\\bf{ Time\\ Complexity\\ n^4 }$\n",
        "\n",
        "$Second$\n",
        "$$  n^4 \\times 2.5\\times 10^{-9} \\ s\\le 1\\ s$$ \n",
        "$$  n^4\\le   0.4\\times 10^{9} $$ \n",
        "$$ \\sqrt[4]{n^4 } \\le \\sqrt[4]{0.4\\times 10^{9} }$$ \n",
        "$$ n \\le   141 $$ \n",
        "\n",
        "$Minute$\n",
        "$$  n^4 \\times 2.5\\times 10^{-9} \\ s\\le 60\\ s$$ \n",
        "$$  n^4 \\le 60 \\times 0.4\\times 10^{9} $$ \n",
        "$$ \\sqrt[4]{n^4 } \\le \\sqrt[4]{24 \\times10^{9} }$$ \n",
        "$$ n \\le 394 $$\n",
        "  \n",
        "$Hour$\n",
        "$$  n^4 \\times 2.5\\times 10^{-9} \\ s\\le 3600\\ s$$ \n",
        "$$  n^4 \\le 3600 \\times 0.4\\times 10^{9} $$ \n",
        "$$ \\sqrt[4]{n^4} \\le \\sqrt[4]{1.44 \\times10^{12}}$$ \n",
        "$$ n \\le 1095 $$  \n",
        "\n",
        "$Day$\n",
        "$$  n^4 \\times 2.5\\times 10^{-9} \\ s\\le 86400\\ s$$ \n",
        "$$  n^4 \\le 86400 \\times 0.4\\times 10^{9} $$ \n",
        "$$ \\sqrt[4]{n^4} \\le \\sqrt[4]{3.456 \\times10^{13}}$$ \n",
        "$$ n \\le 2425 $$\n",
        "\n",
        "$Year$\n",
        "$$  n^4 \\times 2.5\\times 10^{-9} \\ s\\le 31536000\\ s$$ \n",
        "$$  n^4 \\le 31536000 \\times 0.4\\times 10^{9} $$ \n",
        "$$ \\sqrt[4]{n^4} \\le \\sqrt[4]{1.26144\\times10^{16}}$$ \n",
        "$$ n \\le 10598 $$ \n",
        "\n",
        "$Century$\n",
        "$$  n^4 \\times 2.5\\times 10^{-9} \\ s\\le 3153600000\\ s$$ \n",
        "$$  n^4 \\le 3153600000 \\times 0.4\\times 10^{9} $$ \n",
        "$$ \\sqrt[4]{n^4} \\le \\sqrt[4]{1.26144 \\times10^{18}}$$ \n",
        "$$ n \\le 33513 $$ \n",
        "\n",
        "$Mileniun$\n",
        "$$  n^4 \\times 2.5\\times 10^{-9} \\ s\\le 3153600000000\\ s$$ \n",
        "$$  n^4 \\le 3153600000000 \\times 0.4\\times 10^{9} $$ \n",
        "$$ \\sqrt[4]{n^4} \\le \\sqrt[4]{1.26144 \\times10^{21}}$$ \n",
        "$$ n \\le 188459 $$ \n",
        "\n",
        "  "
      ]
    },
    {
      "cell_type": "code",
      "execution_count": null,
      "metadata": {
        "id": "C2Yom9Taih7R",
        "outputId": "f900b214-4aea-42a8-814b-51e32e4f8eaf"
      },
      "outputs": [
        {
          "name": "stdout",
          "output_type": "stream",
          "text": [
            "Second  141\n",
            "Minute   394\n",
            "Hour  1095\n",
            "Day  2425\n",
            "Year  10598\n",
            "Century  33513\n",
            "Mileniun  188459\n"
          ]
        }
      ],
      "source": [
        "import math\n",
        "i = 0.4*10**9\n",
        "print(\"Second \",round(math.pow(i ,1/4)))\n",
        "print(\"Minute  \",round(math.pow(60*i ,1/4)))\n",
        "print(\"Hour \",round(math.pow(60*60*i ,1/4)))\n",
        "print(\"Day \",round(math.pow(24*60*60*i ,1/4)))\n",
        "print(\"Year \",round(math.pow(365*24*60*60*i ,1/4)))\n",
        "print(\"Century \",round(math.pow(100*365*24*60*60*i ,1/4)))\n",
        "print(\"Mileniun \",round(math.pow(1000*100*365*24*60*60*i ,1/4)))"
      ]
    },
    {
      "cell_type": "markdown",
      "metadata": {
        "id": "qazz2wBEih7R"
      },
      "source": [
        "$\\bf{ Time\\ Complexity\\ 2^n }$\n",
        "\n",
        "$Second$\n",
        "$$  2^n  \\times 2.5 \\times 10^{-9} \\ s\\le 1\\ s$$ \n",
        "$$  2^n \\le  0.4 \\times 10^{9}  $$ \n",
        "$$  \\lg(2^n) \\le  \\lg( 0.4 \\times 10^{9}  )$$ \n",
        "$$  n \\le  \\lg( 0.4 \\times 10^{9}  ) = 28 $$\n",
        "\n",
        "$Minute$\n",
        "$$  2^n  \\times 2.5 \\times 10^{-9} s \\le 60\\ s$$ \n",
        "$$  2^n \\le   60 \\times 0.4\\times 10^{9}  $$ \n",
        "$$  \\lg(2^n) \\le  \\lg(60 \\times 0.4\\times 10^{9}  )$$ \n",
        "$$  n \\le  \\lg(10^{24\\times 10^{9}  }) = 34 $$\n",
        "\n",
        "\n",
        "$Hour$\n",
        "$$  2^n  \\times 2.5 \\times 10^{-9} s \\le 3600\\ s$$ \n",
        "$$  2^n \\le   3600 \\times 0.4\\times 10^{9}  $$ \n",
        "$$  \\lg(2^n) \\le  \\lg(1.44 \\times  10^{12})$$ \n",
        "$$  n \\le  \\lg(10^{1.44 \\times  10^{12}}) = 40 $$\n",
        "\n",
        "$Day$\n",
        "$$  2^n  \\times 2.5 \\times 10^{-9} s \\le  86400\\ s$$ \n",
        "$$  2^n \\le    86400\\times 0.4\\times 10^{9}  $$ \n",
        "$$  \\lg(2^n) \\le  \\lg( 3.456  \\times  10^{13})$$ \n",
        "$$  n \\le  \\lg(10^{3.456 \\times  10^{13}}) = 44 $$\n",
        "\n",
        "$Year$\n",
        "$$  2^n  \\times 2.5 \\times10^{-9} s \\le  31536000\\ s$$ \n",
        "$$  2^n \\le    31536000\\times 0.4\\times 10^{9}  $$ \n",
        "$$  \\lg(2^n) \\le  \\lg( 1.26144 \\times  10^{16})$$ \n",
        "$$  n \\le  \\lg(10^{1.26144\\times  10^{16}}) = 53 $$\n",
        "\n",
        "$Century$\n",
        "$$  2^n  \\times 2.5 \\times10^{-9} s \\le  3153600000\\ s$$ \n",
        "$$  2^n \\le    3153600000\\times 0.4\\times 10^{9}  $$ \n",
        "$$  \\lg(2^n) \\le  \\lg( 1.26144 \\times  10^{18})$$ \n",
        "$$  n \\le  \\lg(10^{1.26144 \\times  10^{18}}) = 60 $$\n",
        " \n",
        "\n",
        "$Mileniun$\n",
        "$$  2^n  \\times 2.5 \\times 10^{-9} s \\le  3153600000000\\ s$$ \n",
        "$$  2^n \\le    3153600000000\\times 0.4\\times 10^{9}  $$ \n",
        "$$  \\lg(2^n) \\le  \\lg( 1.26144 \\times  10^{21})$$ \n",
        "$$  n \\le  \\lg(10^{1.26144\\times  10^{21}}) = 70 $$"
      ]
    },
    {
      "cell_type": "code",
      "execution_count": null,
      "metadata": {
        "id": "6S2rWH6kih7R",
        "outputId": "029b6613-2550-4ad4-d826-b0472a9192c6"
      },
      "outputs": [
        {
          "name": "stdout",
          "output_type": "stream",
          "text": [
            "Second  28\n",
            "Minute   34\n",
            "Hour  40\n",
            "Day  44\n",
            "Year  53\n",
            "Century  60\n",
            "Mileniun  70\n"
          ]
        }
      ],
      "source": [
        "import math\n",
        "i = 0.4*10**9\n",
        "print(\"Second \",int(math.log2(i )))\n",
        "print(\"Minute  \",int(math.log2(60*i )))\n",
        "print(\"Hour \",int(math.log2(60*60*i )))\n",
        "print(\"Day \",int(math.log2(24*60*60*i )))\n",
        "print(\"Year \",int(math.log2(365*24*60*60*i )))\n",
        "print(\"Century \",int(math.log2(100*365*24*60*60*i )))\n",
        "print(\"Mileniun \",int(math.log2(1000*100*365*24*60*60*i )))"
      ]
    },
    {
      "cell_type": "code",
      "execution_count": null,
      "metadata": {
        "id": "bu0lwtZQih7S",
        "outputId": "c3a77732-af68-4739-df90-4cd79acb15b1"
      },
      "outputs": [
        {
          "name": "stdout",
          "output_type": "stream",
          "text": [
            "Second  28\n",
            "Minute   34\n",
            "Hour  40\n",
            "Day  44\n",
            "Year  53\n",
            "Century  60\n",
            "Mileniun  70\n"
          ]
        }
      ],
      "source": [
        "import math\n",
        "def f(n):\n",
        "  return 2**n\n",
        "\n",
        "def find(f,v):\n",
        "  l = 1\n",
        "  r = 100\n",
        "  while True:\n",
        "    m = int((l+r)/2)\n",
        "    if ((f(m+1) > v) and (f(m) <= v) ) or (l == m)  or (r== m):\n",
        "      return int(m)\n",
        "    elif f(m) < v:\n",
        "      l = m\n",
        "    else: \n",
        "      r = m\n",
        "\n",
        "i = 0.4*10**9\n",
        "print(\"Second \", find(f,i))\n",
        "print(\"Minute  \",find(f,60*i))\n",
        "print(\"Hour \",find(f,60*60*i))\n",
        "print(\"Day \",find(f,24*60*60*i))\n",
        "print(\"Year \",find(f,365*24*60*60*i))\n",
        "print(\"Century \",find(f,100*365*24*60*60*i))\n",
        "print(\"Mileniun \",find(f,1000*100*365*24*60*60*i))"
      ]
    },
    {
      "cell_type": "markdown",
      "metadata": {
        "id": "ee0ekmYWih7S"
      },
      "source": [
        "$\\bf{ Time\\ Complexity\\ n! }$\n",
        "\n",
        "$Second$\n",
        "$$  n!  \\times 2.5\\times 10^{-9} \\ s\\le 1\\ s$$ \n",
        "$$  n! \\le  0.4 \\times 10^{9} $$ \n",
        "$$  n \\le  11 $$\n",
        "\n",
        "\n",
        "$Minute$\n",
        "$$  n! \\times 2.5\\times 10^{-9} \\ s\\le 60\\ s$$ \n",
        "$$  n! \\le 60 \\times 0.4\\times 10^{9} $$ \n",
        "$$  n \\le  13 $$\n",
        "\n",
        "$Hour$\n",
        "$$  n! \\times 2.5\\times 10^{-9} \\ s\\le 3600\\ s$$ \n",
        "$$  n! \\le 3600 \\times 0.4\\times 10^{9}  = 1.44 \\times 10^{12}$$ \n",
        "$$  n \\le 15 $$\n",
        "\n",
        "\n",
        "$Day$\n",
        "$$  n! \\times 2.5\\times 10^{-9} \\ s\\le 86400\\ s$$ \n",
        "$$  n! \\le 86400 \\times 0.4\\times 10^{9}  = 3.456 \\times 10^{13}$$ \n",
        "$$  n \\le 16 $$\n",
        "\n",
        "$Year$\n",
        "$$  n! \\times 2.5\\times 10^{-9} \\ s\\le 31536000\\ s$$ \n",
        "$$  n! \\le 31536000 \\times 0.4\\times 10^{9}   = 1.26144  \\times 10^{16}$$ \n",
        "$$  n \\le 18 $$\n",
        "\n",
        "$Century$\n",
        "$$  n! \\times 2.5\\times 10^{-9} \\ s\\le 3153600000\\ s$$ \n",
        "$$  n! \\le 3153600000 \\times 0.4\\times 10^{9}  = 1.26144  \\times 10^{18}$$ \n",
        "$$  n \\le 19 $$\n",
        "\n",
        "$Mileniun$\n",
        "$$  n! \\times 2.5\\times 10^{-9} \\ s\\le 3153600000000\\ s$$ \n",
        "$$  n! \\le 3153600000000 \\times 0.4\\times 10^{9}  = 1.26144  \\times 10^{21}$$ \n",
        "$$  n \\le 22 $$"
      ]
    },
    {
      "cell_type": "code",
      "execution_count": null,
      "metadata": {
        "id": "M1U9jiHnih7S",
        "outputId": "93998ac8-a5ec-4bee-a6d1-b7a47e4f5bf3"
      },
      "outputs": [
        {
          "name": "stdout",
          "output_type": "stream",
          "text": [
            "Second  11\n",
            "Minute   13\n",
            "Hour  15\n",
            "Day  16\n",
            "Year  18\n",
            "Century  19\n",
            "Mileniun  22\n"
          ]
        }
      ],
      "source": [
        "import math\n",
        "def f(n):\n",
        "  return math.factorial(n)\n",
        "\n",
        "def find(f,v):\n",
        "  l = 1\n",
        "  r = 100\n",
        "  while True:\n",
        "    m = int((l+r)/2)\n",
        "    if ((f(m+1) > v) and (f(m) <= v) ) or (l == m) or (r== m):\n",
        "      return int(m)\n",
        "    elif f(m) < v:\n",
        "      l = m\n",
        "    else: \n",
        "      r = m\n",
        "\n",
        "i = 0.4*10**9\n",
        "print(\"Second \", find(f,i))\n",
        "print(\"Minute  \",find(f,60*i))\n",
        "print(\"Hour \",find(f,60*60*i))\n",
        "print(\"Day \",find(f,24*60*60*i))\n",
        "print(\"Year \",find(f,365*24*60*60*i))\n",
        "print(\"Century \",find(f,100*365*24*60*60*i))\n",
        "print(\"Mileniun \",find(f,1000*100*365*24*60*60*i))"
      ]
    },
    {
      "cell_type": "markdown",
      "metadata": {
        "id": "Ujzq6BgRih7S"
      },
      "source": [
        "$\\bf{ Time\\ Complexity\\ n^n }$\n",
        "\n",
        "$Second$\n",
        "$$  n^n  \\times 2.5\\times 10^{-9} \\ s\\le 1\\ s$$ \n",
        "$$  n^n \\le  0.4 \\times 10^{9} $$ \n",
        "$$  n \\le  9 $$ \n",
        "\n",
        "$Minute$\n",
        "$$  n^n \\times 2.5\\times 10^{-9} \\ s\\le 60\\ s$$ \n",
        "$$  n^n \\le 60 \\times 0.4\\times 10^{9} $$ \n",
        "$$  n \\le 10 $$\n",
        "\n",
        "$Hour$\n",
        "$$  n^n \\times 2.5\\times 10^{-9} \\ s\\le 3600\\ s$$ \n",
        "$$  n^n \\le 3600 \\times 0.4\\times 10^{9}  = 1.44 \\times 10^{12}$$ \n",
        "$$  n \\le 11 $$\n",
        "\n",
        "$Day$\n",
        "$$  n^n \\times 2.5\\times 10^{-9} \\ s\\le 86400\\ s$$ \n",
        "$$  n^n \\le 86400 \\times 0.4\\times 10^{9}  = 3.456 \\times 10^{13}$$ \n",
        "$$  n \\le 12 $$\n",
        "\n",
        "$Year$\n",
        "$$  n^n \\times 2.5\\times 10^{-9} \\ s\\le 31536000\\ s$$ \n",
        "$$  n^n \\le 31536000 \\times 0.4\\times 10^{9}   = 1.26144  \\times 10^{16}$$ \n",
        "$$  n \\le 14 $$\n",
        "\n",
        "\n",
        "$Century$\n",
        "$$  n^n \\times 2.5\\times 10^{-9} \\ s\\le 3153600000\\ s$$ \n",
        "$$  n^n \\le 3153600000 \\times 0.4\\times 10^{9}  = 1.26144  \\times 10^{18}$$ \n",
        "$$  n \\le 15 $$ \n",
        "\n",
        "$Mileniun$\n",
        "$$  n^n \\times 2.5\\times 10^{-9} \\ s\\le 3153600000000\\ s$$ \n",
        "$$  n^n \\le 3153600000000 \\times 0.4\\times 10^{9}  = 1.26144  \\times 10^{21}$$ \n",
        "$$  n \\le 17 $$\n"
      ]
    },
    {
      "cell_type": "code",
      "execution_count": null,
      "metadata": {
        "id": "-ZyuH_2Dih7S",
        "outputId": "a0236bdb-48d1-4d99-aee6-f761121cce86"
      },
      "outputs": [
        {
          "name": "stdout",
          "output_type": "stream",
          "text": [
            "Second  9\n",
            "Minute   10\n",
            "Hour  11\n",
            "Day  12\n",
            "Year  14\n",
            "Century  15\n",
            "Mileniun  17\n"
          ]
        }
      ],
      "source": [
        "import math\n",
        "def f(n):\n",
        "  return n**n\n",
        "\n",
        "def find(f,v):\n",
        "  l = 1\n",
        "  r = 100\n",
        "  while True:\n",
        "    m = int((l+r)/2)\n",
        "    if ((f(m+1) > v) and (f(m) <= v) ) or (l == m) or (r== m):\n",
        "      return int(m)\n",
        "    elif f(m) < v:\n",
        "      l = m\n",
        "    else: \n",
        "      r = m\n",
        "\n",
        "i = 0.4*10**9\n",
        "print(\"Second \", find(f,i))\n",
        "print(\"Minute  \",find(f,60*i))\n",
        "print(\"Hour \",find(f,60*60*i))\n",
        "print(\"Day \",find(f,24*60*60*i))\n",
        "print(\"Year \",find(f,365*24*60*60*i))\n",
        "print(\"Century \",find(f,100*365*24*60*60*i))\n",
        "print(\"Mileniun \",find(f,1000*100*365*24*60*60*i))"
      ]
    },
    {
      "cell_type": "markdown",
      "metadata": {
        "id": "-wuhNgyFih7T"
      },
      "source": [
        "# 3. (1 noneosecond by instruction)\n",
        "\n",
        "Asuuming that you can execute a 1000 million instructions $10^9$ every second, i.e. each instrcution takes 1  nanosecond, 1 $\\eta s  = 10^{-9} s$. If you have algorithms take $\\bf{ Time\\ Complexity}$ steps to solve a problem of size $n$ as specified in column one. What is the size of the largest problem that you can solve in the time specified in row one?\n",
        "\n",
        "$$\n",
        "\\begin{array}{|c|c|c|c|c|c|c|c|} \n",
        " \\hline\n",
        " \\bf{ Time\\ Complexity} & Second  & Minute  & Hour & Day & Year & Century & Mileniun  \\\\ \n",
        "  \\hline\\\\ \n",
        "\\lg(n) & 2^{10^{9} }    & 2^{60 \\times 10^{9}} & 2^{3.6 \\times 10^{12}} &  2^{8.64 \\times 10^{13}}& 2^{3.1536 \\times 10^{15}} & 2^{3.1536 \\times 10^{18}} & 2^{3.1536 \\times 10^{21}} \\\\ \n",
        "   \\hline\\\\ \n",
        "\\lg^2(n) &   2^{31623}  & 2^{244949}  & 2^{1897367} & 2^{9295160} & 2^{177583783} & 2^{1775837830} &  2^{56156922993} \\\\ \n",
        "   \\hline\\\\ \n",
        "\\sqrt{n} &  10^{18}  & 3.6 \\times 10^{21}  & 1.296 \\times 10^{25} & 7.46496 \\times 10^{27}& 9.94519296 \\times 10^{32} & 9.94519296  \\times 10^{36} & 9.94519296 \\times 10^{42}\\\\ \n",
        " \\hline\n",
        " n & 10^{9}    & 6 \\times 10^{10}   & 3.6 \\times 10^{12} & 8.64 \\times 10^{13} & 6.41136862 \\times 10^{16} & 3.1536 \\times 10^{18} &  3.1536 \\times 10^{21}\\\\ \n",
        " \\hline\n",
        " n\\lg(n) &  39620077  & 1.94447045\\times 10^{9}  &   9.85747745\\times 10^{10} & 2.11037274\\times 10^{12}  &  6.41136862 \\times 10^{14} & 5.66650934\\times 10^{16} &  4.82300896\\times 10^{19} \\\\ \n",
        " \\hline\n",
        " n^2 &  31623  & 244949  & 1897367 & 9295160 & 177583783 & 1775837830 &  56156922993 \\\\ \n",
        " \\hline\n",
        "  n^3 &  1000 &  3915 & 15326 &  44208  &  315938 & 1466455 & 14664554 \\\\ \n",
        " \\hline\n",
        "  n^4 &  178  &  495  & 1377 & 3049 & 13326 & 42141  & 236975 \\\\ \n",
        " \\hline\n",
        "  2^n &  29  &  35 & 41 & 46 & 54 & 61 & 71 \\\\ \n",
        " \\hline\n",
        " n! &  12  & 13 &  15 & 16 & 18 & 20  &  22\\\\ \n",
        " \\hline\n",
        " n^n &  9  &  10 & 11 & 12 & 14 & 15 & 17 \\\\ \n",
        " \\hline\n",
        "\\end{array}\n",
        "$$"
      ]
    },
    {
      "cell_type": "markdown",
      "metadata": {
        "id": "To0Pw2DXih7T"
      },
      "source": [
        "$\\bf{ Time\\ Complexity\\ \\lg(n) }$\n",
        "\n",
        "$Second$\n",
        "$$ \\lg(n) \\times 10^{-9}\\ s\\le 1\\ s$$ \n",
        "$$ \\lg(n) \\le 1 * 10^{9}$$ \n",
        "$$ 2^{\\lg(n)} \\le 2^{10^{9}}$$ \n",
        "$$ n \\le 2^{10^{9}}$$ \n",
        "\n",
        "$Minute$\n",
        "$$ \\lg(n) \\times 10^{-9} \\ s \\le 60\\ s$$ \n",
        "$$ \\lg(n) \\le 60 \\times 10^{9} $$ \n",
        "$$ 2^{\\lg(n)} \\le 2^{60 \\times 10^{9} }$$ \n",
        "$$ n \\le 2^{60 \\times 10^{9} }$$ \n",
        "\n",
        "$Hour$\n",
        "$$ \\lg(n) \\times 10^{-9} \\ s \\le 3600\\ s$$ \n",
        "$$ \\lg(n) \\le 3600 \\times 10^{9} $$ \n",
        "$$ 2^{\\lg(n)} \\le 2^{3.6 \\times 10^{12}}$$ \n",
        "$$ n \\le 2^{3.6 \\times 10^{12}}$$ \n",
        "\n",
        "$Day$\n",
        "$$ \\lg(n) \\times 10^{-9} \\ s \\le 86400\\ s$$ \n",
        "$$ \\lg(n) \\le 86400\\times 10^{9} $$ \n",
        "$$ 2^{\\lg(n)} \\le 2^{8.64 \\times 10^{13}}$$ \n",
        "$$ n \\le 2^{8.64 \\times 10^{13}}$$ \n",
        "\n",
        "$Year$\n",
        "$$ \\lg(n) \\times 10^{-9} \\ s \\le 31536000\\ s$$ \n",
        "$$ \\lg(n) \\le 31536000\\times 10^{9} $$ \n",
        "$$ 2^{\\lg(n)} \\le 2^{3.1536 \\times 10^{16}}$$ \n",
        "$$ n \\le 2^{3.1536 \\times 10^{16}}$$ \n",
        "\n",
        "$Century$\n",
        "$$ \\lg(n) \\times 10^{-9} \\ s \\le 3153600000\\ s$$ \n",
        "$$ \\lg(n) \\le 3153600000\\times 10^{9} $$ \n",
        "$$ 2^{\\lg(n)} \\le 2^{3.1536 \\times 10^{18}}$$ \n",
        "$$ n \\le 2^{3.1536 \\times 10^{18}}$$ \n",
        "\n",
        "$Mileniun$\n",
        "$$ \\lg(n) \\times 10^{-9} \\ s \\le 3153600000000\\ s$$ \n",
        "$$ \\lg(n) \\le 3153600000000\\times 10^{9} $$ \n",
        "$$ 2^{\\lg(n)} \\le 2^{3.1536 \\times 10^{21}}$$ \n",
        "$$ n \\le 2^{3.1536 \\times 10^{21}}$$ "
      ]
    },
    {
      "cell_type": "markdown",
      "metadata": {
        "id": "QOwQ8QHvih7T"
      },
      "source": [
        "$\\bf{ Time\\ Complexity\\ \\lg^2(n) }$\n",
        "\n",
        "$Second$\n",
        "$$ \\lg^2(n) \\times 10^{-9} \\ s\\le 1\\ s$$ \n",
        "$$ \\lg(n) \\le \\sqrt{1 * 10^{9}} $$ \n",
        "$$ 2^{\\lg(n)} \\le 2^{\\sqrt{1 * 10^{9}} }$$ \n",
        "$$ n \\le 2^{ 31623   }$$ \n",
        "\n",
        "$Minute$\n",
        "$$ \\lg^2(n) \\times 10^{-9} \\ s \\le 60\\ s$$ \n",
        "$$ \\lg(n) \\le \\sqrt{60 \\times 10^{9}} $$ \n",
        "$$ 2^{\\lg(n)} \\le 2^{\\sqrt{60 \\times 10^{9}} }$$ \n",
        "$$ n \\le 2^{ 244949   }$$ \n",
        "\n",
        "$Hour$\n",
        "$$ \\lg^2(n) \\times 10^{-9} \\ s \\le 3600\\ s$$ \n",
        "$$ \\lg(n) \\le \\sqrt{3600 \\times 10^{9}} $$ \n",
        "$$ 2^{\\lg(n)} \\le 2^{\\sqrt{3.6 \\times 10^{12}}}$$ \n",
        "$$ n \\le  2^{ 1897367   }$$ \n",
        "\n",
        "$Day$\n",
        "$$ \\lg^2(n) \\times 10^{-9} \\ s \\le 86400\\ s$$ \n",
        "$$ \\lg(n) \\le \\sqrt{86400\\times 10^{9}} $$ \n",
        "$$ 2^{\\lg(n)} \\le 2^{\\sqrt{8.6400\\times 10^{13}}}$$ \n",
        "$$ n \\le 2^{ 9295160   }$$ \n",
        "\n",
        "$Year$\n",
        "$$ \\lg^2(n) \\times 10^{-9} \\ s \\le 31536000\\ s$$ \n",
        "$$ \\lg(n) \\le \\sqrt{31536000\\times 10^{9}} $$ \n",
        "$$ 2^{\\lg(n)} \\le 2^{\\sqrt{3.1536\\times 10^{16}}}$$ \n",
        "$$ n \\le 2^{ 177583783   }$$ \n",
        "\n",
        "$Century$\n",
        "$$ \\lg^2(n) \\times 10^{-9} \\ s \\le 3153600000\\ s$$ \n",
        "$$ \\lg(n) \\le \\sqrt{3153600000\\times 10^{9}} $$ \n",
        "$$ 2^{\\lg(n)} \\le 2^{\\sqrt{3.1536 \\times 10^{18}}}$$ \n",
        "$$ n \\le 2^{ 1775837830   }$$ \n",
        "\n",
        "$Mileniun$\n",
        "$$ \\lg^2(n) \\times 10^{-9} \\ s \\le 3153600000000\\ s$$ \n",
        "$$ \\lg(n) \\le \\sqrt{3153600000000\\times 10^{9}} $$ \n",
        "$$ 2^{\\lg(n)} \\le 2^{\\sqrt{3.1536 \\times 10^{21}}}$$ \n",
        "$$ n \\le 2^{ 56156922993   }$$ "
      ]
    },
    {
      "cell_type": "code",
      "execution_count": null,
      "metadata": {
        "id": "Brd-Ps45ih7T",
        "outputId": "a6b287b5-b5ad-4a5f-f15b-58df61373471"
      },
      "outputs": [
        {
          "name": "stdout",
          "output_type": "stream",
          "text": [
            "Second 2^{ 31623 }\n",
            "Minute 2^{ 244949 }\n",
            "Hour 2^{ 1897367 }\n",
            "Day 2^{ 9295160 }\n",
            "Year 2^{ 177583783 }\n",
            "Century 2^{ 1775837830 }\n",
            "Mileniun 2^{ 56156922993 }\n"
          ]
        }
      ],
      "source": [
        "import math\n",
        "i = 10**9\n",
        "print(\"Second 2^{\",round(math.sqrt(i)),\"}\")\n",
        "print(\"Minute 2^{\",round(math.sqrt(60*i)),\"}\")\n",
        "print(\"Hour 2^{\",round(math.sqrt(60*60*i)),\"}\")\n",
        "print(\"Day 2^{\",round(math.sqrt(24*60*60*i)),\"}\")\n",
        "print(\"Year 2^{\",round(math.sqrt(365*24*60*60*i)),\"}\")\n",
        "print(\"Century 2^{\",round(math.sqrt(100*365*24*60*60*i)),\"}\")\n",
        "print(\"Mileniun 2^{\",round(math.sqrt(1000*100*365*24*60*60*i)),\"}\")"
      ]
    },
    {
      "cell_type": "markdown",
      "metadata": {
        "id": "X68ORHM2ih7T"
      },
      "source": [
        "$\\bf{ Time\\ Complexity\\ \\sqrt{n} }$\n",
        "\n",
        "$Second$\n",
        "$$  \\sqrt{n}  \\times 10^{-9} \\ s\\le 1\\ s$$ \n",
        "$$  \\sqrt{n}  \\le 10^{9} $$\n",
        "$$  n \\le   10^{ 18 }$$ \n",
        "\n",
        "$Minute$\n",
        "$$  \\sqrt{n} \\times 10^{-9} \\ s\\le 60\\ s$$ \n",
        "$$  \\sqrt{n}  \\le 60 \\times 10^{9}$$ \n",
        "$$  n \\le 3.600 \\times10^{ 21 }$$ \n",
        "\n",
        "$Hour$\n",
        "$$  \\sqrt{n}\\times 10^{-9} \\ s\\le 3600\\ s$$ \n",
        "$$  \\sqrt{n} \\le 3600 \\times 10^{6}$$ \n",
        "$$  n  \\le 1.296 \\times10^{ 25 }$$ \n",
        "\n",
        "$Day$\n",
        "$$  \\sqrt{n} \\times 10^{-9} \\ s\\le 86400\\ s$$ \n",
        "$$  \\sqrt{n}\\le 86400 \\times 10^{9}$$ \n",
        "$$  n \\le 7.46496 \\times10^{ 27 }$$ \n",
        "\n",
        "$Year$\n",
        "$$  \\sqrt{n} \\times 10^{-9} \\ s\\le 31536000\\ s$$ \n",
        "$$  \\sqrt{n} \\le 31536000 \\times 10^{9}$$ \n",
        "$$  n \\le 9.94519296 \\times10^{ 32 }$$ \n",
        "\n",
        "$Century$\n",
        "$$  \\sqrt{n} \\times 10^{-9} \\ s\\le 3153600000\\ s$$ \n",
        "$$  \\sqrt{n} \\le 3153600000 \\times 10^{9}$$ \n",
        "$$  n \\le 9.94519296  \\times10^{ 36 }$$ \n",
        "\n",
        "$Mileniun$\n",
        "$$  \\sqrt{n} \\times 10^{-9} \\ s\\le 3153600000000\\ s$$ \n",
        "$$  \\sqrt{n} \\le 3153600000000 \\times 10^{9}$$ \n",
        "$$  n \\le 9.94519296 \\times10^{ 42 }$$ \n",
        "\n"
      ]
    },
    {
      "cell_type": "code",
      "execution_count": null,
      "metadata": {
        "id": "Bmafj4S8ih7U",
        "outputId": "bb670171-20fa-47f0-b1b7-d7ff73779534"
      },
      "outputs": [
        {
          "name": "stdout",
          "output_type": "stream",
          "text": [
            "Second  1.00000000E+18\n",
            "Minute   3.60000000E+21\n",
            "Hour  1.29600000E+25\n",
            "Day  7.46496000E+27\n",
            "Year  9.94519296E+32\n",
            "Century  9.94519296E+36\n",
            "Mileniun   9.94519296E+42\n"
          ]
        }
      ],
      "source": [
        "import math\n",
        "i = 10**9\n",
        "print(\"Second \", \"{:.8E}\".format(math.pow(i,2)))\n",
        "print(\"Minute  \",\"{:.8E}\".format(math.pow(60*i,2)))\n",
        "print(\"Hour \",\"{:.8E}\".format(math.pow(60*60*i,2)))\n",
        "print(\"Day \",\"{:.8E}\".format(math.pow(24*60*60*i,2)))\n",
        "print(\"Year \",\"{:.8E}\".format(math.pow(365*24*60*60*i,2)))\n",
        "print(\"Century \",\"{:.8E}\".format(math.pow(100*365*24*60*60*i,2)))\n",
        "print(\"Mileniun  \",\"{:.8E}\".format(math.pow(1000*100*365*24*60*60*i,2)))"
      ]
    },
    {
      "cell_type": "markdown",
      "metadata": {
        "id": "hS9O5YQ9ih7U"
      },
      "source": [
        "$\\bf{ Time\\ Complexity\\ n }$\n",
        "\n",
        "$Second$\n",
        "$$  n  \\times 10^{-9}\\ s\\le 1\\ s$$ \n",
        "$$  n \\le  10^{9}$$ \n",
        "\n",
        "\n",
        "$Minute$\n",
        "$$  n \\times 10^{-9}\\ s\\le 60\\ s$$ \n",
        "$$  n \\le 60 \\times 10^{9}$$ \n",
        "\n",
        "\n",
        "$Hour$\n",
        "$$  n \\times 10^{-9}\\ s\\le 3600\\ s$$ \n",
        "$$  n \\le 3600 \\times 10^{9} = 3.6 \\times 10^{12}$$ \n",
        "\n",
        "\n",
        "$Day$\n",
        "$$  n \\times 10^{-9}\\ s\\le 86400\\ s$$ \n",
        "$$  n \\le 86400 \\times 10^{9} = 8.64 \\times 10^{13}$$ \n",
        "\n",
        "\n",
        "$Year$\n",
        "$$  n \\times 10^{-9}\\ s\\le 31536000\\ s$$ \n",
        "$$  n \\le 31536000 \\times 10^{9}  = 3.153 \\times 10^{16}$$ \n",
        "\n",
        "\n",
        "\n",
        "$Century$\n",
        "$$  n \\times 10^{-9}\\ s\\le 3153600000\\ s$$ \n",
        "$$  n \\le 3153600000 \\times 10^{9} = 3.153 \\times 10^{18}$$ \n",
        " \n",
        "\n",
        "$Mileniun$\n",
        "$$  n \\times 10^{-9}\\ s\\le 3153600000000\\ s$$ \n",
        "$$  n \\le 3153600000000 \\times 10^{9} = 3.153 \\times 10^{21}$$ "
      ]
    },
    {
      "cell_type": "code",
      "execution_count": null,
      "metadata": {
        "id": "jRp0RVMtih7U",
        "outputId": "609bcff6-5733-48d7-f20e-0acbb8029fa3"
      },
      "outputs": [
        {
          "name": "stdout",
          "output_type": "stream",
          "text": [
            "Second  1.00000000E+09\n",
            "Minute   6.00000000E+10\n",
            "Hour  3.60000000E+12\n",
            "Day  8.64000000E+13\n",
            "Year  3.15360000E+16\n",
            "Century  3.15360000E+18\n",
            "Mileniun   3.15360000E+21\n"
          ]
        }
      ],
      "source": [
        "import math\n",
        "i = 10**9\n",
        "print(\"Second \", \"{:.8E}\".format(i))\n",
        "print(\"Minute  \",\"{:.8E}\".format(60*i))\n",
        "print(\"Hour \",\"{:.8E}\".format(60*60*i))\n",
        "print(\"Day \",\"{:.8E}\".format(24*60*60*i))\n",
        "print(\"Year \",\"{:.8E}\".format(365*24*60*60*i))\n",
        "print(\"Century \",\"{:.8E}\".format(100*365*24*60*60*i))\n",
        "print(\"Mileniun  \",\"{:.8E}\".format(1000*100*365*24*60*60*i))"
      ]
    },
    {
      "cell_type": "markdown",
      "metadata": {
        "id": "XG4iI98Lih7U"
      },
      "source": [
        "$\\bf{ Time\\ Complexity\\ n\\lg{n} }$\n",
        "\n",
        "$Second$\n",
        "$$   n\\lg{n}  \\times 10^{-9} \\ s\\le 1\\ s$$ \n",
        "$$   n\\lg{n} \\le  10^{9} $$ \n",
        "\n",
        "\n",
        "$Minute$\n",
        "$$   n\\lg{n} \\times 10^{-9} \\ s\\le 60\\ s$$ \n",
        "$$   n\\lg{n} \\le 60 \\times 10^{9} $$ \n",
        "\n",
        "\n",
        "$Hour$\n",
        "$$   n\\lg{n} \\times 10^{-9} \\ s\\le 3600\\ s$$ \n",
        "$$   n\\lg{n} \\le 3600 \\times 10^{9} $$ \n",
        "\n",
        "\n",
        "$Day$\n",
        "$$   n\\lg{n} \\times 10^{-9} \\ s\\le 86400\\ s$$ \n",
        "$$   n\\lg{n} \\le 86400 \\times 10^{9} $$ \n",
        "\n",
        "\n",
        "$Year$\n",
        "$$   n\\lg{n} \\times 10^{-9} \\ s\\le 31536000\\ s$$ \n",
        "$$   n\\lg{n} \\le 31536000 \\times 10^{9} $$ \n",
        "\n",
        "\n",
        "\n",
        "$Century$\n",
        "$$   n\\lg{n} \\times 10^{-9} \\ s\\le 3153600000\\ s$$ \n",
        "$$   n\\lg{n} \\le 3153600000 \\times 10^{9} $$ \n",
        " \n",
        "\n",
        "$Mileniun$\n",
        "$$   n\\lg{n} \\times 10^{-9} \\ s\\le 3153600000000\\ s$$ \n",
        "$$  n \\le 3153600000000 \\times 10^{9} $$ "
      ]
    },
    {
      "cell_type": "code",
      "execution_count": null,
      "metadata": {
        "id": "bt3GGhdpih7U",
        "outputId": "664c75b5-93d2-45cf-995a-afd9ef202a17"
      },
      "outputs": [
        {
          "name": "stdout",
          "output_type": "stream",
          "text": [
            "Second  39620077  =  3.96200770E+07\n",
            "Minute   1944470450  =  1.94447045E+09\n",
            "Hour  98574774544  =  9.85747745E+10\n",
            "Day  2110372739876  =  2.11037274E+12\n",
            "Year  641136862352841  =  6.41136862E+14\n",
            "Century  56665093434063120  =  5.66650934E+16\n",
            "Mileniun  48230089612197773312  =  4.82300896E+19\n"
          ]
        }
      ],
      "source": [
        "import math\n",
        "def f(n):\n",
        "  return n*math.log2(n)\n",
        "\n",
        "\n",
        "def find(f,v):\n",
        "  l = 1\n",
        "  r = v\n",
        "  while True:\n",
        "    m = int((l+r)/2)\n",
        "    if ((f(m+1) > v) and (f(m) <= v) ) or (l == m) or  (r == m):\n",
        "      return int(m)   \n",
        "    elif f(m) < v:\n",
        "      l = m\n",
        "    else: \n",
        "      r = m\n",
        "      \n",
        "i = 10**9 \n",
        "print(\"Second \", find(f,i),\" = \", \"{:.8E}\".format(find(f,i )))\n",
        "print(\"Minute  \",find(f,60*i),\" = \", \"{:.8E}\".format(find(f,60*i )))\n",
        "print(\"Hour \",find(f,60*60*i),\" = \", \"{:.8E}\".format(find(f,60*60*i )))\n",
        "print(\"Day \",find(f,24*60*60*i ),\" = \", \"{:.8E}\".format(find(f,24*60*60*i )) )\n",
        "print(\"Year \",find(f,365*24*60*60*i ),\" = \", \"{:.8E}\".format(find(f,365*24*60*60*i )) )\n",
        "print(\"Century \",find(f,100*365*24*60*60*i ),\" = \", \"{:.8E}\".format(find(f,100*365*24*60*60*i )) )\n",
        "print(\"Mileniun \",find(f,1000*100*365*24*60*60*i ),\" = \", \"{:.8E}\".format(find(f,1000*100*365*24*60*60*i )) )"
      ]
    },
    {
      "cell_type": "markdown",
      "metadata": {
        "id": "yHKJhUnkih7V"
      },
      "source": [
        "$\\bf{ Time\\ Complexity\\ n^2}$\n",
        "\n",
        "$Second$\n",
        "$$  n^2 \\times 10^{-9} \\ s\\le 1\\ s$$ \n",
        "$$  n^2 \\le  10^{9} $$ \n",
        "$$ \\sqrt{n^2} \\le \\sqrt{10^{9} }$$ \n",
        "$$ n \\le 31623 $$ \n",
        "\n",
        "$Minute$\n",
        "$$  n^2\\times 10^{-9} \\ s\\le 60\\ s$$ \n",
        "$$  n^2 \\le 60 \\times 10^{9} $$ \n",
        "$$ \\sqrt{n^2} \\le \\sqrt{60 \\times10^{9} }$$ \n",
        "$$ n \\le  244949 $$\n",
        "  \n",
        "$Hour$\n",
        "$$  n^2 \\times 10^{-9} \\ s\\le 3600\\ s$$ \n",
        "$$ n^2 \\le 3600 \\times 10^{9} $$ \n",
        "$$ \\sqrt{n^2} \\le \\sqrt{3.6 \\times10^{12}}$$ \n",
        "$$ n \\le 1897367 $$\n",
        "\n",
        "$Day$\n",
        "$$  n^2 \\times 10^{-9} \\ s\\le 86400\\ s$$ \n",
        "$$  n^2 \\le 86400 \\times 10^{9} $$ \n",
        "$$ \\sqrt{n^2} \\le \\sqrt{8.64 \\times10^{13}}$$ \n",
        "$$ n \\le 9295160 $$\n",
        "\n",
        "$Year$\n",
        "$$  n^2 \\times 10^{-9} \\ s\\le 31536000\\ s$$ \n",
        "$$  n^2 \\le 31536000 \\times 10^{9} $$ \n",
        "$$ \\sqrt{n^2} \\le \\sqrt{3.1536 \\times10^{16}}$$ \n",
        "$$ n \\le 177583783 $$ \n",
        "\n",
        "$Century$\n",
        "$$  n^2 \\times 10^{-9} \\ s\\le 3153600000\\ s$$ \n",
        "$$  n^2 \\le 3153600000 \\times 10^{9} $$ \n",
        "$$ \\sqrt{n^2} \\le \\sqrt{3.1536 \\times10^{18}}$$ \n",
        "$$ n \\le 1775837830 $$ \n",
        "\n",
        "$Mileniun$\n",
        "$$  n^2 \\times 10^{-9} \\ s\\le 3153600000000\\ s$$ \n",
        "$$ n^2 \\le 3153600000000 \\times 10^{9} $$ \n",
        "$$ \\sqrt{n^2} \\le \\sqrt{3.1536 \\times10^{21}}$$ \n",
        "$$ n \\le 56156922993 $$  \n"
      ]
    },
    {
      "cell_type": "code",
      "execution_count": null,
      "metadata": {
        "id": "CVBGiBuYih7V",
        "outputId": "c73492d7-cf0c-4dc6-f7e9-6436614a7056"
      },
      "outputs": [
        {
          "name": "stdout",
          "output_type": "stream",
          "text": [
            "Second  31623\n",
            "Minute   244949\n",
            "Hour  1897367\n",
            "Day  9295160\n",
            "Year  177583783\n",
            "Century  1775837830\n",
            "Mileniun  56156922993\n"
          ]
        }
      ],
      "source": [
        "import math\n",
        "i = 10**9\n",
        "print(\"Second \",round(math.sqrt(i )))\n",
        "print(\"Minute  \",round(math.sqrt(60*i )))\n",
        "print(\"Hour \",round(math.sqrt(60*60*i )))\n",
        "print(\"Day \",round(math.sqrt(24*60*60*i )))\n",
        "print(\"Year \",round(math.sqrt(365*24*60*60*i )))\n",
        "print(\"Century \",round(math.sqrt(100*365*24*60*60*i )))\n",
        "print(\"Mileniun \",round(math.sqrt(1000*100*365*24*60*60*i )))"
      ]
    },
    {
      "cell_type": "markdown",
      "metadata": {
        "id": "XdjaIgkEih7V"
      },
      "source": [
        "$\\bf{ Time\\ Complexity\\ n^3 }$\n",
        "\n",
        "$Second$\n",
        "$$  n^3 \\times 10^{-9} \\ s\\le 1\\ s$$ \n",
        "$$  n^3 \\le  10^{9} $$ \n",
        "$$ \\sqrt[4]{n^3} \\le \\sqrt[3]{10^{9} }$$ \n",
        "$$ n \\le  1000 $$ \n",
        "\n",
        "$Minute$\n",
        "$$  n^3 \\times 10^{-9} \\ s\\le 60\\ s$$ \n",
        "$$  n^3 \\le 60 \\times 10^{9} $$ \n",
        "$$ \\sqrt[3]{n^3} \\le \\sqrt[3]{60 \\times10^{9} }$$ \n",
        "$$ n \\le  3915 $$\n",
        "  \n",
        "$Hour$\n",
        "$$  n^3 \\times 10^{-9} \\ s\\le 3600\\ s$$ \n",
        "$$  n^3 \\le 3600 \\times 10^{9} $$ \n",
        "$$ \\sqrt[3]{n^3 } \\le \\sqrt[3]{3.6 \\times10^{12}}$$ \n",
        "$$ n \\le 15326 $$\n",
        "\n",
        "$Day$\n",
        "$$  n^3 \\times 10^{-9} \\ s\\le 86400\\ s$$ \n",
        "$$  n^3 \\le 86400 \\times 10^{9} $$ \n",
        "$$ \\sqrt[3]{n^3} \\le \\sqrt[3]{8.64 \\times10^{13}}$$ \n",
        "$$ n \\le 44208 $$\n",
        "\n",
        "$Year$\n",
        "$$  n^3 \\times 10^{-9} \\ s\\le 31536000\\ s$$ \n",
        "$$  n^3 \\le 31536000 \\times 10^{9} $$ \n",
        "$$ \\sqrt[3]{n^3} \\le \\sqrt[3]{3.1536 \\times10^{16}}$$ \n",
        "$$ n \\le 315938 $$ \n",
        "\n",
        "$Century$\n",
        "$$  n^3 \\times 10^{-9} \\ s\\le 3153600000\\ s$$ \n",
        "$$  n^3 \\le 3153600000 \\times 10^{9} $$ \n",
        "$$ \\sqrt[3]{n^3} \\le \\sqrt[3]{3.1536 \\times10^{18}}$$ \n",
        "$$ n \\le 1466455 $$ \n",
        "\n",
        "$Mileniun$\n",
        "$$  n^3 \\times 10^{-9} \\ s\\le 3153600000000\\ s$$ \n",
        "$$  n^3 \\le 3153600000000 \\times 10^{9} $$ \n",
        "$$ \\sqrt[3]{n^3} \\le \\sqrt[3]{3.1536 \\times10^{21}}$$ \n",
        "$$ n \\le 14664554 $$ "
      ]
    },
    {
      "cell_type": "code",
      "execution_count": null,
      "metadata": {
        "id": "XzqFPySsih7V",
        "outputId": "263d0f8b-551e-4127-c9fc-995bfbb697b5"
      },
      "outputs": [
        {
          "name": "stdout",
          "output_type": "stream",
          "text": [
            "Second  1000\n",
            "Minute   3915\n",
            "Hour  15326\n",
            "Day  44208\n",
            "Year  315938\n",
            "Century  1466455\n",
            "Mileniun  14664554\n"
          ]
        }
      ],
      "source": [
        "import math\n",
        "i = 10**9\n",
        "print(\"Second \",round(math.pow(i ,1/3)))\n",
        "print(\"Minute  \",round(math.pow(60*i ,1/3)))\n",
        "print(\"Hour \",round(math.pow(60*60*i ,1/3)))\n",
        "print(\"Day \",round(math.pow(24*60*60*i ,1/3)))\n",
        "print(\"Year \",round(math.pow(365*24*60*60*i ,1/3)))\n",
        "print(\"Century \",round(math.pow(100*365*24*60*60*i ,1/3)))\n",
        "print(\"Mileniun \",round(math.pow(1000*100*365*24*60*60*i ,1/3)))\n"
      ]
    },
    {
      "cell_type": "markdown",
      "metadata": {
        "id": "vUA9HjRiih7V"
      },
      "source": [
        "$\\bf{ Time\\ Complexity\\ n^4 }$\n",
        "\n",
        "$Second$\n",
        "$$  n^4 \\times 10^{-9} \\ s\\le 1\\ s$$ \n",
        "$$  n^4\\le  10^{9} $$ \n",
        "$$ \\sqrt[4]{n^4 } \\le \\sqrt[4]{10^{9} }$$ \n",
        "$$ n \\le   178 $$ \n",
        "\n",
        "$Minute$\n",
        "$$  n^4 \\times 10^{-9} \\ s\\le 60\\ s$$ \n",
        "$$  n^4 \\le 60 \\times 10^{9} $$ \n",
        "$$ \\sqrt[4]{n^4 } \\le \\sqrt[4]{60 \\times10^{9} }$$ \n",
        "$$ n \\le 495 $$\n",
        "  \n",
        "$Hour$\n",
        "$$  n^4 \\times 10^{-9} \\ s\\le 3600\\ s$$ \n",
        "$$  n^4 \\le 3600 \\times 10^{9} $$ \n",
        "$$ \\sqrt[4]{n^4} \\le \\sqrt[4]{3.6 \\times10^{12}}$$ \n",
        "$$ n \\le 1377 $$  \n",
        "\n",
        "$Day$\n",
        "$$  n^4 \\times 10^{-9} \\ s\\le 86400\\ s$$ \n",
        "$$  n^4 \\le 86400 \\times 10^{9} $$ \n",
        "$$ \\sqrt[4]{n^4} \\le \\sqrt[4]{8.64 \\times10^{13}}$$ \n",
        "$$ n \\le 3049 $$\n",
        "\n",
        "$Year$\n",
        "$$  n^4 \\times 10^{-9} \\ s\\le 31536000\\ s$$ \n",
        "$$  n^4 \\le 31536000 \\times 10^{9} $$ \n",
        "$$ \\sqrt[4]{n^4} \\le \\sqrt[4]{3.1536 \\times10^{16}}$$ \n",
        "$$ n \\le 13326 $$ \n",
        "\n",
        "$Century$\n",
        "$$  n^4 \\times 10^{-9} \\ s\\le 3153600000\\ s$$ \n",
        "$$  n^4 \\le 3153600000 \\times 10^{9} $$ \n",
        "$$ \\sqrt[4]{n^4} \\le \\sqrt[4]{3.1536 \\times10^{18}}$$ \n",
        "$$ n \\le 42141 $$ \n",
        "\n",
        "$Mileniun$\n",
        "$$  n^4 \\times 10^{-9} \\ s\\le 3153600000000\\ s$$ \n",
        "$$  n^4 \\le 3153600000000 \\times 10^{9} $$ \n",
        "$$ \\sqrt[4]{n^4} \\le \\sqrt[4]{3.1536 \\times10^{21}}$$ \n",
        "$$ n \\le 236975 $$ \n",
        "\n",
        "  "
      ]
    },
    {
      "cell_type": "code",
      "execution_count": null,
      "metadata": {
        "id": "6THjU8nhih7V",
        "outputId": "bf4f46cf-b1a8-46e2-91aa-21a59f46488b"
      },
      "outputs": [
        {
          "name": "stdout",
          "output_type": "stream",
          "text": [
            "Second  178\n",
            "Minute   495\n",
            "Hour  1377\n",
            "Day  3049\n",
            "Year  13326\n",
            "Century  42141\n",
            "Mileniun  236975\n"
          ]
        }
      ],
      "source": [
        "import math\n",
        "i = 10**9\n",
        "print(\"Second \",round(math.pow(i ,1/4)))\n",
        "print(\"Minute  \",round(math.pow(60*i ,1/4)))\n",
        "print(\"Hour \",round(math.pow(60*60*i ,1/4)))\n",
        "print(\"Day \",round(math.pow(24*60*60*i ,1/4)))\n",
        "print(\"Year \",round(math.pow(365*24*60*60*i ,1/4)))\n",
        "print(\"Century \",round(math.pow(100*365*24*60*60*i ,1/4)))\n",
        "print(\"Mileniun \",round(math.pow(1000*100*365*24*60*60*i ,1/4)))"
      ]
    },
    {
      "cell_type": "markdown",
      "metadata": {
        "id": "7Kuki4Miih7W"
      },
      "source": [
        "$\\bf{ Time\\ Complexity\\ 2^n }$\n",
        "\n",
        "$Second$\n",
        "$$  2^n  \\times 10^{-9} \\ s\\le 1\\ s$$ \n",
        "$$  2^n \\le  10^{9}  $$ \n",
        "$$  \\lg(2^n) \\le  \\lg(10^{9}  )$$ \n",
        "$$  n \\le  \\lg(10^{9}  ) = 29 $$\n",
        "\n",
        "$Minute$\n",
        "$$  2^n  \\times 10^{-9} s \\le 60\\ s$$ \n",
        "$$  2^n \\le   60 \\times  10^{9}  $$ \n",
        "$$  \\lg(2^n) \\le  \\lg(60 \\times  10^{9}  )$$ \n",
        "$$  n \\le  \\lg(10^{60 \\times  10^{9}  }) = 35 $$\n",
        "\n",
        "\n",
        "$Hour$\n",
        "$$  2^n  \\times 10^{-9} s \\le 3600\\ s$$ \n",
        "$$  2^n \\le   3600 \\times  10^{9}  $$ \n",
        "$$  \\lg(2^n) \\le  \\lg(3.6 \\times  10^{12})$$ \n",
        "$$  n \\le  \\lg(10^{3.6 \\times  10^{12}}) = 41 $$\n",
        "\n",
        "$Day$\n",
        "$$  2^n  \\times 10^{-9} s \\le  86400\\ s$$ \n",
        "$$  2^n \\le    86400\\times  10^{9}  $$ \n",
        "$$  \\lg(2^n) \\le  \\lg( 8.64 \\times  10^{13})$$ \n",
        "$$  n \\le  \\lg(10^{8.64 \\times  10^{13}}) = 46 $$\n",
        "\n",
        "$Year$\n",
        "$$  2^n  \\times 10^{-9} s \\le  31536000\\ s$$ \n",
        "$$  2^n \\le    31536000\\times  10^{9}  $$ \n",
        "$$  \\lg(2^n) \\le  \\lg( 3.1536 \\times  10^{16})$$ \n",
        "$$  n \\le  \\lg(10^{3.1536 \\times  10^{16}}) = 54 $$\n",
        "\n",
        "$Century$\n",
        "$$  2^n  \\times 10^{-9} s \\le  3153600000\\ s$$ \n",
        "$$  2^n \\le    3153600000\\times  10^{9}  $$ \n",
        "$$  \\lg(2^n) \\le  \\lg( 3.1536 \\times  10^{18})$$ \n",
        "$$  n \\le  \\lg(10^{3.1536 \\times  10^{18}}) = 61 $$\n",
        " \n",
        "\n",
        "$Mileniun$\n",
        "$$  2^n  \\times 10^{-9} s \\le  3153600000000\\ s$$ \n",
        "$$  2^n \\le    3153600000000\\times  10^{9}  $$ \n",
        "$$  \\lg(2^n) \\le  \\lg( 3.1536 \\times  10^{21})$$ \n",
        "$$  n \\le  \\lg(10^{3.1536 \\times  10^{21}}) = 71 $$"
      ]
    },
    {
      "cell_type": "code",
      "execution_count": null,
      "metadata": {
        "id": "MgIMQ5qUih7W",
        "outputId": "4d6f4d3c-6299-4abb-ad5f-e4215182c3b5"
      },
      "outputs": [
        {
          "name": "stdout",
          "output_type": "stream",
          "text": [
            "Second  29\n",
            "Minute   35\n",
            "Hour  41\n",
            "Day  46\n",
            "Year  54\n",
            "Century  61\n",
            "Mileniun  71\n"
          ]
        }
      ],
      "source": [
        "import math\n",
        "i = 10**9\n",
        "print(\"Second \",int(math.log2(i )))\n",
        "print(\"Minute  \",int(math.log2(60*i )))\n",
        "print(\"Hour \",int(math.log2(60*60*i )))\n",
        "print(\"Day \",int(math.log2(24*60*60*i )))\n",
        "print(\"Year \",int(math.log2(365*24*60*60*i )))\n",
        "print(\"Century \",int(math.log2(100*365*24*60*60*i )))\n",
        "print(\"Mileniun \",int(math.log2(1000*100*365*24*60*60*i )))"
      ]
    },
    {
      "cell_type": "code",
      "execution_count": null,
      "metadata": {
        "id": "55_A5k0Mih7W",
        "outputId": "0444049f-16d1-43c8-cfb2-4049f9e99df8"
      },
      "outputs": [
        {
          "name": "stdout",
          "output_type": "stream",
          "text": [
            "Second  29\n",
            "Minute   35\n",
            "Hour  41\n",
            "Day  46\n",
            "Year  54\n",
            "Century  61\n",
            "Mileniun  71\n"
          ]
        }
      ],
      "source": [
        "import math\n",
        "def f(n):\n",
        "  return 2**n\n",
        "\n",
        "def find(f,v):\n",
        "  l = 1\n",
        "  r = 100\n",
        "  while True:\n",
        "    m = int((l+r)/2)\n",
        "    if ((f(m+1) > v) and (f(m) <= v) ) or (l == m)  or (r== m):\n",
        "      return int(m)\n",
        "    elif f(m) < v:\n",
        "      l = m\n",
        "    else: \n",
        "      r = m\n",
        "\n",
        "i = 10**9\n",
        "print(\"Second \", find(f,i))\n",
        "print(\"Minute  \",find(f,60*i))\n",
        "print(\"Hour \",find(f,60*60*i))\n",
        "print(\"Day \",find(f,24*60*60*i))\n",
        "print(\"Year \",find(f,365*24*60*60*i))\n",
        "print(\"Century \",find(f,100*365*24*60*60*i))\n",
        "print(\"Mileniun \",find(f,1000*100*365*24*60*60*i))"
      ]
    },
    {
      "cell_type": "markdown",
      "metadata": {
        "id": "e_8FAcz-ih7W"
      },
      "source": [
        "$\\bf{ Time\\ Complexity\\ n! }$\n",
        "\n",
        "$Second$\n",
        "$$  n!  \\times 10^{-9} \\ s\\le 1\\ s$$ \n",
        "$$  n! \\le  10^{9} $$ \n",
        "$$  n \\le  12 $$\n",
        "\n",
        "\n",
        "$Minute$\n",
        "$$  n! \\times 10^{-9} \\ s\\le 60\\ s$$ \n",
        "$$  n! \\le 60 \\times 10^{9} $$ \n",
        "$$  n \\le  13 $$\n",
        "\n",
        "$Hour$\n",
        "$$  n! \\times 10^{-9} \\ s\\le 3600\\ s$$ \n",
        "$$  n! \\le 3600 \\times 10^{9}  = 3.6 \\times 10^{12}$$ \n",
        "$$  n \\le 15 $$\n",
        "\n",
        "\n",
        "$Day$\n",
        "$$  n! \\times 10^{-9} \\ s\\le 86400\\ s$$ \n",
        "$$  n! \\le 86400 \\times 10^{9}  = 8.64 \\times 10^{13}$$ \n",
        "$$  n \\le 16 $$\n",
        "\n",
        "$Year$\n",
        "$$  n! \\times 10^{-9} \\ s\\le 31536000\\ s$$ \n",
        "$$  n! \\le 31536000 \\times 10^{9}   = 3.153 \\times 10^{16}$$ \n",
        "$$  n \\le 18 $$\n",
        "\n",
        "$Century$\n",
        "$$  n! \\times 10^{-9} \\ s\\le 3153600000\\ s$$ \n",
        "$$  n! \\le 3153600000 \\times 10^{9}  = 3.153 \\times 10^{18}$$ \n",
        "$$  n \\le 20 $$\n",
        "\n",
        "$Mileniun$\n",
        "$$  n! \\times 10^{-9} \\ s\\le 3153600000000\\ s$$ \n",
        "$$  n! \\le 3153600000000 \\times 10^{9}  = 3.153 \\times 10^{21}$$ \n",
        "$$  n \\le 22 $$"
      ]
    },
    {
      "cell_type": "code",
      "execution_count": null,
      "metadata": {
        "id": "Gsewx5dqih7W",
        "outputId": "386173c0-e6ce-4b6b-a117-7fd2071cf87e"
      },
      "outputs": [
        {
          "name": "stdout",
          "output_type": "stream",
          "text": [
            "Second  12\n",
            "Minute   13\n",
            "Hour  15\n",
            "Day  16\n",
            "Year  18\n",
            "Century  20\n",
            "Mileniun  22\n"
          ]
        }
      ],
      "source": [
        "import math\n",
        "def f(n):\n",
        "  return math.factorial(n)\n",
        "\n",
        "def find(f,v):\n",
        "  l = 1\n",
        "  r = 100\n",
        "  while True:\n",
        "    m = int((l+r)/2)\n",
        "    if ((f(m+1) > v) and (f(m) <= v) ) or (l == m) or (r== m):\n",
        "      return int(m)\n",
        "    elif f(m) < v:\n",
        "      l = m\n",
        "    else: \n",
        "      r = m\n",
        "\n",
        "i = 10**9\n",
        "print(\"Second \", find(f,i))\n",
        "print(\"Minute  \",find(f,60*i))\n",
        "print(\"Hour \",find(f,60*60*i))\n",
        "print(\"Day \",find(f,24*60*60*i))\n",
        "print(\"Year \",find(f,365*24*60*60*i))\n",
        "print(\"Century \",find(f,100*365*24*60*60*i))\n",
        "print(\"Mileniun \",find(f,1000*100*365*24*60*60*i))"
      ]
    },
    {
      "cell_type": "markdown",
      "metadata": {
        "id": "W-2X9lYhih7X"
      },
      "source": [
        "$\\bf{ Time\\ Complexity\\ n^n }$\n",
        "\n",
        "$Second$\n",
        "$$  n^n  \\times 10^{-9} \\ s\\le 1\\ s$$ \n",
        "$$  n^n \\le  10^{9} $$ \n",
        "$$  n \\le  9 $$ \n",
        "\n",
        "$Minute$\n",
        "$$  n^n \\times 10^{-9} \\ s\\le 60\\ s$$ \n",
        "$$  n^n \\le 60 \\times 10^{9} $$ \n",
        "$$  n \\le 10 $$\n",
        "\n",
        "$Hour$\n",
        "$$  n^n \\times 10^{-9} \\ s\\le 3600\\ s$$ \n",
        "$$  n^n \\le 3600 \\times 10^{9}  = 3.6 \\times 10^{12}$$ \n",
        "$$  n \\le 11 $$\n",
        "\n",
        "$Day$\n",
        "$$  n^n \\times 10^{-9} \\ s\\le 86400\\ s$$ \n",
        "$$  n^n \\le 86400 \\times 10^{9}  = 8.64 \\times 10^{13}$$ \n",
        "$$  n \\le 12 $$\n",
        "\n",
        "$Year$\n",
        "$$  n^n \\times 10^{-9} \\ s\\le 31536000\\ s$$ \n",
        "$$  n^n \\le 31536000 \\times 10^{9}   = 3.153 \\times 10^{16}$$ \n",
        "$$  n \\le 14 $$\n",
        "\n",
        "\n",
        "$Century$\n",
        "$$  n^n \\times 10^{-9} \\ s\\le 3153600000\\ s$$ \n",
        "$$  n^n \\le 3153600000 \\times 10^{9}  = 3.153 \\times 10^{18}$$ \n",
        "$$  n \\le 15 $$ \n",
        "\n",
        "$Mileniun$\n",
        "$$  n^n \\times 10^{-9} \\ s\\le 3153600000000\\ s$$ \n",
        "$$  n^n \\le 3153600000000 \\times 10^{9}  = 3.153 \\times 10^{21}$$ \n",
        "$$  n \\le 17 $$\n"
      ]
    },
    {
      "cell_type": "code",
      "execution_count": null,
      "metadata": {
        "id": "hifBy9k0ih7X",
        "outputId": "4e17f721-5f31-4adc-eb30-4f63b00afd04"
      },
      "outputs": [
        {
          "name": "stdout",
          "output_type": "stream",
          "text": [
            "Second  9\n",
            "Minute   10\n",
            "Hour  11\n",
            "Day  12\n",
            "Year  14\n",
            "Century  15\n",
            "Mileniun  17\n"
          ]
        }
      ],
      "source": [
        "import math\n",
        "def f(n):\n",
        "  return n**n\n",
        "\n",
        "def find(f,v):\n",
        "  l = 1\n",
        "  r = 100\n",
        "  while True:\n",
        "    m = int((l+r)/2)\n",
        "    if ((f(m+1) > v) and (f(m) <= v) ) or (l == m) or (r== m):\n",
        "      return int(m)\n",
        "    elif f(m) < v:\n",
        "      l = m\n",
        "    else: \n",
        "      r = m\n",
        "\n",
        "i = 10**9\n",
        "print(\"Second \", find(f,i))\n",
        "print(\"Minute  \",find(f,60*i))\n",
        "print(\"Hour \",find(f,60*60*i))\n",
        "print(\"Day \",find(f,24*60*60*i))\n",
        "print(\"Year \",find(f,365*24*60*60*i))\n",
        "print(\"Century \",find(f,100*365*24*60*60*i))\n",
        "print(\"Mileniun \",find(f,1000*100*365*24*60*60*i))"
      ]
    }
  ],
  "metadata": {
    "colab": {
      "collapsed_sections": [],
      "name": "CormenSizeTimeComplexityGroup3.ipynb",
      "provenance": []
    },
    "interpreter": {
      "hash": "6a2c7044fdf49af6baf7003b50f0a05eccc850dd98edb6e4c558b9f8f263024f"
    },
    "kernelspec": {
      "display_name": "Python 3.10.4 64-bit",
      "language": "python",
      "name": "python3"
    },
    "language_info": {
      "codemirror_mode": {
        "name": "ipython",
        "version": 3
      },
      "file_extension": ".py",
      "mimetype": "text/x-python",
      "name": "python",
      "nbconvert_exporter": "python",
      "pygments_lexer": "ipython3",
      "version": "3.10.4"
    }
  },
  "nbformat": 4,
  "nbformat_minor": 0
}