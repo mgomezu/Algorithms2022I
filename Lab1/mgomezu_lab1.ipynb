{
  "nbformat": 4,
  "nbformat_minor": 0,
  "metadata": {
    "colab": {
      "name": "lab1.ipynb",
      "provenance": [],
      "collapsed_sections": [],
      "authorship_tag": "ABX9TyPDEoz6/bAzf0YVykS0++C3",
      "include_colab_link": true
    },
    "kernelspec": {
      "name": "python3",
      "display_name": "Python 3"
    },
    "language_info": {
      "name": "python"
    }
  },
  "cells": [
    {
      "cell_type": "markdown",
      "metadata": {
        "id": "view-in-github",
        "colab_type": "text"
      },
      "source": [
        "<a href=\"https://colab.research.google.com/github/mgomezu/MetNumUN2022I/blob/main/lab1.ipynb\" target=\"_parent\"><img src=\"https://colab.research.google.com/assets/colab-badge.svg\" alt=\"Open In Colab\"/></a>"
      ]
    },
    {
      "cell_type": "markdown",
      "source": [
        "My own example 1"
      ],
      "metadata": {
        "id": "CG3fsf2FAm4Z"
      }
    },
    {
      "cell_type": "code",
      "source": [
        "1+1"
      ],
      "metadata": {
        "id": "POk4NHMttk7s"
      },
      "execution_count": null,
      "outputs": []
    },
    {
      "cell_type": "markdown",
      "source": [
        "My own example 2"
      ],
      "metadata": {
        "id": "5hZxk8z1tvmK"
      }
    },
    {
      "cell_type": "code",
      "source": [
        "print(1+1)"
      ],
      "metadata": {
        "id": "B0VjNciStlP2"
      },
      "execution_count": null,
      "outputs": []
    },
    {
      "cell_type": "markdown",
      "source": [
        "My own example 3"
      ],
      "metadata": {
        "id": "bsuYOPQUtx5T"
      }
    },
    {
      "cell_type": "code",
      "source": [
        "num=3\n",
        "print(num)"
      ],
      "metadata": {
        "id": "wmVjYf5BtlpU"
      },
      "execution_count": null,
      "outputs": []
    },
    {
      "cell_type": "markdown",
      "source": [
        "My own example 4"
      ],
      "metadata": {
        "id": "apI9H_bruK8d"
      }
    },
    {
      "cell_type": "code",
      "source": [
        "print(1 + 1)\n",
        "1 + 2"
      ],
      "metadata": {
        "id": "QYltAgGJuHKX"
      },
      "execution_count": null,
      "outputs": []
    },
    {
      "cell_type": "markdown",
      "source": [
        "My own example 5"
      ],
      "metadata": {
        "id": "--Q9QMl6tzQ7"
      }
    },
    {
      "cell_type": "code",
      "execution_count": null,
      "metadata": {
        "id": "A3VsK2VL_BvO"
      },
      "outputs": [],
      "source": [
        "string1 = 'hola'\n",
        "print(string1)"
      ]
    },
    {
      "cell_type": "markdown",
      "source": [
        "\n",
        "My own example 6"
      ],
      "metadata": {
        "id": "m2EMENXAByD7"
      }
    },
    {
      "cell_type": "code",
      "source": [
        "string1 = 'hola'\n",
        "string2 = \"mundo\"\n",
        "print(string1 + ' ' + string2)"
      ],
      "metadata": {
        "id": "w0VA7e_WTCnB"
      },
      "execution_count": null,
      "outputs": []
    },
    {
      "cell_type": "markdown",
      "source": [
        "\n",
        "My own example 7"
      ],
      "metadata": {
        "id": "MRj8YC6vBCMh"
      }
    },
    {
      "cell_type": "code",
      "source": [
        "string1 = 'hola'\n",
        "print(type(string1))"
      ],
      "metadata": {
        "id": "TqBFd9kJCK_R"
      },
      "execution_count": null,
      "outputs": []
    },
    {
      "cell_type": "markdown",
      "source": [
        "\n",
        "My own example 8"
      ],
      "metadata": {
        "id": "cwwNheFnBKjM"
      }
    },
    {
      "cell_type": "code",
      "source": [
        "string1 = \"1\"\n",
        "print(type(string1))\n",
        "string1 = int(string1)\n",
        "print(type(string1))"
      ],
      "metadata": {
        "id": "Un2DU5BmCfr8"
      },
      "execution_count": null,
      "outputs": []
    },
    {
      "cell_type": "markdown",
      "source": [
        "\n",
        "My own example 9"
      ],
      "metadata": {
        "id": "7kHaa6tABKsE"
      }
    },
    {
      "cell_type": "code",
      "source": [
        "bool1 = True\n",
        "print(bool1)\n",
        "print(type(bool1))"
      ],
      "metadata": {
        "id": "oHMbO9a2DL3o"
      },
      "execution_count": null,
      "outputs": []
    },
    {
      "cell_type": "markdown",
      "source": [
        "My own example 10\n"
      ],
      "metadata": {
        "id": "jvTmydkQTjD-"
      }
    },
    {
      "cell_type": "code",
      "source": [
        "print(\"Suma\", 1+1)"
      ],
      "metadata": {
        "id": "hnPHiJIeNH9o"
      },
      "execution_count": null,
      "outputs": []
    },
    {
      "cell_type": "markdown",
      "source": [
        "My own example 11"
      ],
      "metadata": {
        "id": "ZIk5yiaUTqQ4"
      }
    },
    {
      "cell_type": "code",
      "source": [
        "print(\"Resta\", 2-1)"
      ],
      "metadata": {
        "id": "xPbeWCS4TZDg"
      },
      "execution_count": null,
      "outputs": []
    },
    {
      "cell_type": "markdown",
      "source": [
        "My own example 12"
      ],
      "metadata": {
        "id": "8HWFKXkeTrt_"
      }
    },
    {
      "cell_type": "code",
      "source": [
        "print(\"Multiplicacion\", 2*2)"
      ],
      "metadata": {
        "id": "_Q8KiCRDTZX1"
      },
      "execution_count": null,
      "outputs": []
    },
    {
      "cell_type": "markdown",
      "source": [
        "My own example 13"
      ],
      "metadata": {
        "id": "IAbOswsITtPy"
      }
    },
    {
      "cell_type": "code",
      "source": [
        "print(\"Division\", 4/2)"
      ],
      "metadata": {
        "id": "BfqGW_BsTZpl"
      },
      "execution_count": null,
      "outputs": []
    },
    {
      "cell_type": "markdown",
      "source": [
        "My own example 14"
      ],
      "metadata": {
        "id": "zQlsRX6_Tu76"
      }
    },
    {
      "cell_type": "code",
      "source": [
        "print('exponente', 2**2)"
      ],
      "metadata": {
        "id": "67wsxt4LTZ99"
      },
      "execution_count": null,
      "outputs": []
    },
    {
      "cell_type": "markdown",
      "source": [
        "\n",
        "My own example 15"
      ],
      "metadata": {
        "id": "4sgHYt59BKvt"
      }
    },
    {
      "cell_type": "code",
      "source": [
        "print(1/2)"
      ],
      "metadata": {
        "id": "ZNAYS8k4fLYP"
      },
      "execution_count": null,
      "outputs": []
    },
    {
      "cell_type": "markdown",
      "source": [
        "\n",
        "My own example 16"
      ],
      "metadata": {
        "id": "00jnYR4vBKyz"
      }
    },
    {
      "cell_type": "code",
      "source": [
        "import math\n",
        "pi = math.pi\n",
        "print('Pi:', pi)"
      ],
      "metadata": {
        "id": "aHAxEbBCyDcQ"
      },
      "execution_count": null,
      "outputs": []
    },
    {
      "cell_type": "markdown",
      "source": [
        "\n",
        "My own example 17"
      ],
      "metadata": {
        "id": "00NbUeHVBK1c"
      }
    },
    {
      "cell_type": "code",
      "source": [
        "import math\n",
        "Euler = math.e\n",
        "print('constante de Euler:', Euler)"
      ],
      "metadata": {
        "id": "A_vzPCnuyMaM"
      },
      "execution_count": null,
      "outputs": []
    },
    {
      "cell_type": "markdown",
      "source": [
        "My own example 18"
      ],
      "metadata": {
        "id": "OAHYX-DJUAKr"
      }
    },
    {
      "cell_type": "code",
      "source": [
        "lista = ['hola', ' ', \"mundo\", 1]\n",
        "print(lista)"
      ],
      "metadata": {
        "id": "KJp2FbB-fZc_"
      },
      "execution_count": null,
      "outputs": []
    },
    {
      "cell_type": "markdown",
      "source": [
        "\n",
        "My own example 19"
      ],
      "metadata": {
        "id": "WLdDvfkcBK4G"
      }
    },
    {
      "cell_type": "code",
      "source": [
        "lista = ['hola', ' ', \"mundo\", 1]\n",
        "print(lista[0])"
      ],
      "metadata": {
        "id": "39T0LH-Efv8M"
      },
      "execution_count": null,
      "outputs": []
    },
    {
      "cell_type": "markdown",
      "source": [
        "\n",
        "My own example 20"
      ],
      "metadata": {
        "id": "wNVTDxhJBK60"
      }
    },
    {
      "cell_type": "code",
      "source": [
        "lista = ['hola', ' ', \"mundo\", 1]\n",
        "print(lista[len(lista) -1])"
      ],
      "metadata": {
        "id": "VpkYY6-MT98i"
      },
      "execution_count": null,
      "outputs": []
    },
    {
      "cell_type": "markdown",
      "source": [
        "\n",
        "My own example 21"
      ],
      "metadata": {
        "id": "aCgRwPFVBK9s"
      }
    },
    {
      "cell_type": "code",
      "source": [
        "lista = ['hola', ' ', \"mundo\", 1]\n",
        "lista[-1] = 'nuevo'\n",
        "print(lista)"
      ],
      "metadata": {
        "id": "toI9oOASf6UW"
      },
      "execution_count": null,
      "outputs": []
    },
    {
      "cell_type": "markdown",
      "source": [
        "\n",
        "My own example 22"
      ],
      "metadata": {
        "id": "lNjBCVNdBLAj"
      }
    },
    {
      "cell_type": "code",
      "source": [
        "lista = ['hola', ' ', \"mundo\", 1]\n",
        "print(lista[1:3])"
      ],
      "metadata": {
        "id": "9olsgnaIgLas"
      },
      "execution_count": null,
      "outputs": []
    },
    {
      "cell_type": "markdown",
      "source": [
        "\n",
        "My own example 23"
      ],
      "metadata": {
        "id": "g1Lr5kShBLDb"
      }
    },
    {
      "cell_type": "code",
      "source": [
        "lista = ['hola', ' ', \"mundo\", 1]\n",
        "print(lista[1:])"
      ],
      "metadata": {
        "id": "zjGmnKMIgcHx"
      },
      "execution_count": null,
      "outputs": []
    },
    {
      "cell_type": "markdown",
      "source": [
        "\n",
        "My own example 24"
      ],
      "metadata": {
        "id": "iWa_IXO_BLJc"
      }
    },
    {
      "cell_type": "code",
      "source": [
        "lista = ['hola', ' ', \"mundo\", 1]\n",
        "print(lista[:3])"
      ],
      "metadata": {
        "id": "RHANJA73gfdY"
      },
      "execution_count": null,
      "outputs": []
    },
    {
      "cell_type": "markdown",
      "source": [
        "\n",
        "My own example 25"
      ],
      "metadata": {
        "id": "Ev6Zr40dBLZ8"
      }
    },
    {
      "cell_type": "code",
      "source": [
        "lista = ['hola', ]\n",
        "lista.append('mundo')\n",
        "print(lista)"
      ],
      "metadata": {
        "id": "zNTJD5MPghHE"
      },
      "execution_count": null,
      "outputs": []
    },
    {
      "cell_type": "markdown",
      "source": [
        "My own example 26"
      ],
      "metadata": {
        "id": "Qki2tvFAhwpY"
      }
    },
    {
      "cell_type": "code",
      "source": [
        "lista = ['hola', 'mundo']\n",
        "lista.append('mundo')\n",
        "print(lista)"
      ],
      "metadata": {
        "id": "cJKAIR4Xgob9"
      },
      "execution_count": null,
      "outputs": []
    },
    {
      "cell_type": "markdown",
      "source": [
        "My own example 27"
      ],
      "metadata": {
        "id": "q6g6irWwh2Yb"
      }
    },
    {
      "cell_type": "code",
      "source": [
        "tupla = ('hola', 'mundo')\n",
        "print(tupla[1:])"
      ],
      "metadata": {
        "id": "XqhpD1srgp49"
      },
      "execution_count": null,
      "outputs": []
    },
    {
      "cell_type": "markdown",
      "source": [
        "My own example 28"
      ],
      "metadata": {
        "id": "NEE3lq8lUf1n"
      }
    },
    {
      "cell_type": "code",
      "source": [
        "lista = ['hola', 'mundo','hola', 'mundo']\n",
        "lista = set(lista)\n",
        "print(lista)"
      ],
      "metadata": {
        "id": "7dCTccAzhHOR"
      },
      "execution_count": null,
      "outputs": []
    },
    {
      "cell_type": "markdown",
      "source": [
        "My own example 29"
      ],
      "metadata": {
        "id": "0NqW3PaTUhCW"
      }
    },
    {
      "cell_type": "code",
      "source": [
        "diccionario = {'grapes': 'uvas','lime': 'lima','lemon': 'limón','cherry': 'cereza','blueberry': 'arándano','banana': 'banano','apple': 'manzana','watermelon': 'sandía'}\n",
        "print(diccionario['grapes'])"
      ],
      "metadata": {
        "id": "_FCefsCRhs-N"
      },
      "execution_count": null,
      "outputs": []
    },
    {
      "cell_type": "markdown",
      "source": [
        "My own example 30"
      ],
      "metadata": {
        "id": "Bx6UGMTlh2eB"
      }
    },
    {
      "cell_type": "code",
      "source": [
        "diccionario = {'grapes': 'uvas','lime': 'lima','lemon': 'limón','cherry': 'cereza','blueberry': 'arándano','banana': 'banano','apple': 'manzana','watermelon': 'sandía'}\n",
        "diccionario['banana'] = 'platano'\n",
        "print(diccionario['banana'])"
      ],
      "metadata": {
        "id": "j_cHsurkjKIZ"
      },
      "execution_count": null,
      "outputs": []
    },
    {
      "cell_type": "markdown",
      "source": [
        "My own example 31"
      ],
      "metadata": {
        "id": "XWI3PP90Ur2X"
      }
    },
    {
      "cell_type": "code",
      "source": [
        "diccionario = {'grapes': 'uvas','lime': 'lima','lemon': 'limón','cherry': 'cereza','blueberry': 'arándano','banana': 'banano','apple': 'manzana','watermelon': 'sandía'}\n",
        "print(diccionario.keys())"
      ],
      "metadata": {
        "id": "nrjRWVuMjbd7"
      },
      "execution_count": null,
      "outputs": []
    },
    {
      "cell_type": "markdown",
      "source": [
        "My own example 32"
      ],
      "metadata": {
        "id": "E6dpEpZJh2kg"
      }
    },
    {
      "cell_type": "code",
      "source": [
        "string1 = 'hola mundo'\n",
        "print(string1[5:])"
      ],
      "metadata": {
        "id": "Vb08uVABjq9b"
      },
      "execution_count": null,
      "outputs": []
    },
    {
      "cell_type": "markdown",
      "source": [
        "My own example 33"
      ],
      "metadata": {
        "id": "HJey-F_Vh2xz"
      }
    },
    {
      "cell_type": "code",
      "source": [
        "print('numero de a´s en esta oracion'.count('a'))"
      ],
      "metadata": {
        "id": "DU4RISAtjxQa"
      },
      "execution_count": null,
      "outputs": []
    },
    {
      "cell_type": "markdown",
      "source": [
        "My own example 34"
      ],
      "metadata": {
        "id": "BvfBeBVFh229"
      }
    },
    {
      "cell_type": "code",
      "source": [
        "print('la primera a en esta oracion'.find('a'))"
      ],
      "metadata": {
        "id": "R_xVoZReUcer"
      },
      "execution_count": null,
      "outputs": []
    },
    {
      "cell_type": "markdown",
      "source": [
        "My own example 35"
      ],
      "metadata": {
        "id": "xQFyiMC6U9Nu"
      }
    },
    {
      "cell_type": "code",
      "source": [
        "print('se van a remplazar todas las a en esta oracion por e'.replace('a','e'))"
      ],
      "metadata": {
        "id": "fFCK3LC_UeD2"
      },
      "execution_count": null,
      "outputs": []
    },
    {
      "cell_type": "markdown",
      "source": [
        "My own example 36"
      ],
      "metadata": {
        "id": "eSjfcJ6XU-Gv"
      }
    },
    {
      "cell_type": "code",
      "source": [
        "Hora = '2020-04-01 09:43:00'\n",
        "splited_list = Hora.split(' ')\n",
        "fecha = splited_list[0]\n",
        "hora = splited_list[1]\n",
        "print(fecha, hora)\n",
        "hour = hora.split(':')[0]\n",
        "print(hour)"
      ],
      "metadata": {
        "id": "gWirWEh8kOGT"
      },
      "execution_count": null,
      "outputs": []
    },
    {
      "cell_type": "markdown",
      "source": [
        "My own example 37"
      ],
      "metadata": {
        "id": "UwGQHorrU_G_"
      }
    },
    {
      "cell_type": "code",
      "source": [
        "Hora = '2020-04-01 09:43:00'\n",
        "splited_list = Hora.split(' ')\n",
        "fecha = splited_list[0]\n",
        "hora = splited_list[1]\n",
        "hour = hora.split(':')[0]\n",
        "print(hour)"
      ],
      "metadata": {
        "id": "urRN-3xsUlNi"
      },
      "execution_count": null,
      "outputs": []
    },
    {
      "cell_type": "markdown",
      "source": [
        "My own example 38"
      ],
      "metadata": {
        "id": "Xq8Z-QqoVAO0"
      }
    },
    {
      "cell_type": "code",
      "source": [
        "hora = 'Hora: {}, Minutos:{}'.format('09','43')\n",
        "print(hora)"
      ],
      "metadata": {
        "id": "cMLmp8gEklZd"
      },
      "execution_count": null,
      "outputs": []
    },
    {
      "cell_type": "markdown",
      "source": [
        "My own example 39"
      ],
      "metadata": {
        "id": "IaPIn197VBhi"
      }
    },
    {
      "cell_type": "code",
      "source": [
        "print('%s to %s'%('Hola','Mundo'))"
      ],
      "metadata": {
        "id": "l1Hcgzkok005"
      },
      "execution_count": null,
      "outputs": []
    },
    {
      "cell_type": "markdown",
      "source": [
        "My own example 40"
      ],
      "metadata": {
        "id": "fq8Y8poWh28y"
      }
    },
    {
      "cell_type": "code",
      "source": [
        "print(1 == 0)"
      ],
      "metadata": {
        "id": "Eb-Nls8Ok_6U"
      },
      "execution_count": null,
      "outputs": []
    },
    {
      "cell_type": "markdown",
      "source": [
        "\n",
        "My own example 41"
      ],
      "metadata": {
        "id": "q_JwueLgVHxm"
      }
    },
    {
      "cell_type": "code",
      "source": [
        "print(1 == 1)"
      ],
      "metadata": {
        "id": "9rteBjTUU0dx"
      },
      "execution_count": null,
      "outputs": []
    },
    {
      "cell_type": "markdown",
      "source": [
        "My own example 41"
      ],
      "metadata": {
        "id": "dAec6XpYh3Ck"
      }
    },
    {
      "cell_type": "code",
      "source": [
        "print(1 != 0)"
      ],
      "metadata": {
        "id": "FmuZXDTrU1wJ"
      },
      "execution_count": null,
      "outputs": []
    },
    {
      "cell_type": "markdown",
      "source": [
        "\n",
        "My own example 42"
      ],
      "metadata": {
        "id": "CUPf_Gu-h3JU"
      }
    },
    {
      "cell_type": "code",
      "source": [
        "print(1 != 1)"
      ],
      "metadata": {
        "id": "O0o-NlB-U2-r"
      },
      "execution_count": null,
      "outputs": []
    },
    {
      "cell_type": "markdown",
      "source": [
        "My own example 43"
      ],
      "metadata": {
        "id": "4shaaU47h3QL"
      }
    },
    {
      "cell_type": "code",
      "source": [
        "print(1 >= 0)"
      ],
      "metadata": {
        "id": "3QXADj2XU4Kt"
      },
      "execution_count": null,
      "outputs": []
    },
    {
      "cell_type": "markdown",
      "source": [
        "My own example 44"
      ],
      "metadata": {
        "id": "p6fk_3sZh3X6"
      }
    },
    {
      "cell_type": "code",
      "source": [
        "print(1 >= 1)"
      ],
      "metadata": {
        "id": "dB75R_nqU6F8"
      },
      "execution_count": null,
      "outputs": []
    },
    {
      "cell_type": "markdown",
      "source": [
        "My own example 45"
      ],
      "metadata": {
        "id": "Eg1EFdD0mnDQ"
      }
    },
    {
      "cell_type": "code",
      "source": [
        "print(1 == 0 and 1 == 1)"
      ],
      "metadata": {
        "id": "tnPw2N5llHAo"
      },
      "execution_count": null,
      "outputs": []
    },
    {
      "cell_type": "markdown",
      "source": [
        "My own example 46"
      ],
      "metadata": {
        "id": "-40dHbFBm31b"
      }
    },
    {
      "cell_type": "code",
      "source": [
        "print(1 == 1 and 1 != 0)"
      ],
      "metadata": {
        "id": "TQGB-7goVEsz"
      },
      "execution_count": null,
      "outputs": []
    },
    {
      "cell_type": "markdown",
      "source": [
        "My own example 47"
      ],
      "metadata": {
        "id": "jtlioG3Sm5Mh"
      }
    },
    {
      "cell_type": "code",
      "source": [
        "if 1 == 1:\n",
        "    print('El enunciado es verdadero')"
      ],
      "metadata": {
        "id": "WHqVQSsklvGv"
      },
      "execution_count": null,
      "outputs": []
    },
    {
      "cell_type": "markdown",
      "source": [
        "My own example 48"
      ],
      "metadata": {
        "id": "S2fe3jclm6XT"
      }
    },
    {
      "cell_type": "code",
      "source": [
        "if 1 == 0:\n",
        "    print('El enunciado es verdadero')\n",
        "elif 1==1:\n",
        "    print('El primer enunciado es falso pero, este es verdadero')"
      ],
      "metadata": {
        "id": "-be7rg4Pl0wS"
      },
      "execution_count": null,
      "outputs": []
    },
    {
      "cell_type": "markdown",
      "source": [
        "My own example 49"
      ],
      "metadata": {
        "id": "wrm1fjyNm7T6"
      }
    },
    {
      "cell_type": "code",
      "source": [
        "if 1 == 0:\n",
        "    print('El enunciado es verdadero')\n",
        "elif 0==1:\n",
        "    print('El primer enunciado es falso pero, este es verdadero')\n",
        "else:\n",
        "    print('Ninguno de los enunciados es verdadero')"
      ],
      "metadata": {
        "id": "3PJqVPTfmAnD"
      },
      "execution_count": null,
      "outputs": []
    },
    {
      "cell_type": "markdown",
      "source": [
        "My own example 50"
      ],
      "metadata": {
        "id": "a9PEZ9Lqm8Wy"
      }
    },
    {
      "cell_type": "code",
      "source": [
        "i = 0\n",
        "while i <= 5:\n",
        "    if i==5:\n",
        "      print(\"i es 5\")\n",
        "    else:\n",
        "      print(\"i no es 5\")\n",
        "    i += 1"
      ],
      "metadata": {
        "id": "6G4rVIlKmKQ-"
      },
      "execution_count": null,
      "outputs": []
    },
    {
      "cell_type": "markdown",
      "source": [
        "My own example 51"
      ],
      "metadata": {
        "id": "a8ZiARnsm9jL"
      }
    },
    {
      "cell_type": "code",
      "source": [
        "sum = 0\n",
        "for i in range(10):\n",
        "    sum += i\n",
        "print(sum)"
      ],
      "metadata": {
        "id": "2Eo2jZN4vTss"
      },
      "execution_count": null,
      "outputs": []
    },
    {
      "cell_type": "markdown",
      "source": [
        "My own example 52"
      ],
      "metadata": {
        "id": "bN3tEzyHm-1k"
      }
    },
    {
      "cell_type": "code",
      "source": [
        "for i in [1,2,3,4,5]:\n",
        "    if i==5:\n",
        "      print(\"i es 5\")\n",
        "    else:\n",
        "      print(\"i no es 5\")"
      ],
      "metadata": {
        "id": "nYF_Ys8dmwLc"
      },
      "execution_count": null,
      "outputs": []
    },
    {
      "cell_type": "markdown",
      "source": [
        "My own example 53"
      ],
      "metadata": {
        "id": "Fs9c-Tw9m_09"
      }
    },
    {
      "cell_type": "code",
      "source": [
        "lista = ['hola', 'mundo',',','como', 'estas','?']\n",
        "seleccion = [',','como', 'estas','?']\n",
        "nuevaLista = []\n",
        "for i in lista:\n",
        "    if i not in seleccion :\n",
        "        nuevaLista.append(i)\n",
        "print(nuevaLista)"
      ],
      "metadata": {
        "id": "wYOyct8vnOGs"
      },
      "execution_count": null,
      "outputs": []
    },
    {
      "cell_type": "markdown",
      "source": [
        "My own example 54"
      ],
      "metadata": {
        "id": "vbnw0_WQnAvw"
      }
    },
    {
      "cell_type": "code",
      "source": [
        "lista = ['hola', 'mundo',',','como', 'estas','?']\n",
        "for i in lista:\n",
        "    if i != ',':\n",
        "        print(i)\n",
        "    else:\n",
        "        break"
      ],
      "metadata": {
        "id": "zkwdtfiZn4j3"
      },
      "execution_count": null,
      "outputs": []
    },
    {
      "cell_type": "markdown",
      "source": [
        "My own example 55"
      ],
      "metadata": {
        "id": "WbF8psVlnCz3"
      }
    },
    {
      "cell_type": "code",
      "source": [
        "lista = ['hola', 'mundo',',','como', 'estas','?']\n",
        "for i in lista:\n",
        "    if i == ',':\n",
        "      continue\n",
        "    print(i)"
      ],
      "metadata": {
        "id": "CY-iP_M7obmB"
      },
      "execution_count": null,
      "outputs": []
    },
    {
      "cell_type": "markdown",
      "source": [
        "My own example 56"
      ],
      "metadata": {
        "id": "FomMtv0SnD6n"
      }
    },
    {
      "cell_type": "code",
      "source": [
        "factorial = []\n",
        "for i in [1,2,3,4,5]:\n",
        "  j=1\n",
        "  fact=1;\n",
        "  while j <= i:\n",
        "    fact=fact*j\n",
        "    j += 1\n",
        "\n",
        "  factorial.append(fact)\n",
        "print(factorial)\n",
        "\n"
      ],
      "metadata": {
        "id": "M4xM0IhhoiQg"
      },
      "execution_count": null,
      "outputs": []
    },
    {
      "cell_type": "markdown",
      "source": [
        "My own example 57"
      ],
      "metadata": {
        "id": "YAL3MGyNzcZi"
      }
    },
    {
      "cell_type": "code",
      "source": [
        "lista = [1,2,3,4,5]\n",
        "cuadrados = [x**2 for x in lista]\n",
        "print(cuadrados)"
      ],
      "metadata": {
        "id": "be_VpLZjqI_a"
      },
      "execution_count": null,
      "outputs": []
    },
    {
      "cell_type": "markdown",
      "source": [
        "My own example 58"
      ],
      "metadata": {
        "id": "-FQN9P3kzd8M"
      }
    },
    {
      "cell_type": "code",
      "source": [
        "import numpy as np\n",
        "x = np.random.normal(0, 1, 10)\n",
        "print(x)"
      ],
      "metadata": {
        "id": "mnyj0jgKv8-S"
      },
      "execution_count": null,
      "outputs": []
    },
    {
      "cell_type": "markdown",
      "source": [
        "My own example 59"
      ],
      "metadata": {
        "id": "2Ks_zB76zfIl"
      }
    },
    {
      "cell_type": "code",
      "source": [
        "import numpy as np\n",
        "import matplotlib.pyplot as plt\n",
        "x = np.random.normal(0, 1, 10)\n",
        "plt.plot(x)"
      ],
      "metadata": {
        "id": "PyMNYlSPwV85"
      },
      "execution_count": null,
      "outputs": []
    },
    {
      "cell_type": "markdown",
      "source": [
        "My own example 60"
      ],
      "metadata": {
        "id": "MWCa6NoizgSF"
      }
    },
    {
      "cell_type": "code",
      "source": [
        "import numpy as np\n",
        "import matplotlib.pyplot as plt\n",
        "x = np.random.normal(0, 1, 10)\n",
        "y = np.random.normal(0, 1, 10)\n",
        "plt.plot(x)\n",
        "plt.plot(y)"
      ],
      "metadata": {
        "id": "REW0tLdzwpWr"
      },
      "execution_count": null,
      "outputs": []
    },
    {
      "cell_type": "markdown",
      "source": [
        "My own example 61"
      ],
      "metadata": {
        "id": "hCHyy-EmziKQ"
      }
    },
    {
      "cell_type": "code",
      "source": [
        "import numpy as np\n",
        "import matplotlib.pyplot as plt\n",
        "x = np.random.normal(0, 1, 10)\n",
        "y = np.random.normal(0, 1, 10)\n",
        "plt.plot(x)\n",
        "plt.plot(y)\n",
        "plt.xlabel('Nombre eje x')\n",
        "plt.ylabel('Nombre eje y')\n",
        "plt.legend(['X', 'X2']);"
      ],
      "metadata": {
        "id": "9jA0pWtQwyQ5"
      },
      "execution_count": null,
      "outputs": []
    },
    {
      "cell_type": "markdown",
      "source": [
        "My own example 62"
      ],
      "metadata": {
        "id": "lqBJpcF-zjYe"
      }
    },
    {
      "cell_type": "code",
      "source": [
        "import numpy as np\n",
        "import matplotlib.pyplot as plt\n",
        "x = np.random.normal(0, 1, 10)\n",
        "y = np.random.normal(0, 1, 10)\n",
        "plt.plot(x)\n",
        "plt.plot(y)\n",
        "plt.xlabel('Nombre eje x')\n",
        "plt.ylabel('Nombre eje y')\n",
        "plt.legend(['Nombre de x', 'Nombre de y']);"
      ],
      "metadata": {
        "id": "6sBgo3SUxBHR"
      },
      "execution_count": null,
      "outputs": []
    },
    {
      "cell_type": "markdown",
      "source": [
        "My own example 63"
      ],
      "metadata": {
        "id": "LwyL-CuCzkg-"
      }
    },
    {
      "cell_type": "code",
      "source": [
        "import numpy as np\n",
        "import matplotlib.pyplot as plt\n",
        "x = np.random.normal(0, 1, 10)\n",
        "promedio = np.mean(x)\n",
        "print(promedio)"
      ],
      "metadata": {
        "id": "_9b2dEH0xPT8"
      },
      "execution_count": null,
      "outputs": []
    },
    {
      "cell_type": "markdown",
      "source": [
        "My own example 64"
      ],
      "metadata": {
        "id": "ZGxbE6f8zlq4"
      }
    },
    {
      "cell_type": "code",
      "source": [
        "import numpy as np\n",
        "import matplotlib.pyplot as plt\n",
        "x = np.random.normal(0, 1, 10)\n",
        "Desviacion = np.std(x)\n",
        "print(Desviacion)"
      ],
      "metadata": {
        "id": "RE0s5WP-xYBX"
      },
      "execution_count": null,
      "outputs": []
    },
    {
      "cell_type": "markdown",
      "source": [
        "My own example 65"
      ],
      "metadata": {
        "id": "0cgaiBFTzmxp"
      }
    },
    {
      "cell_type": "code",
      "source": [
        "import numpy as np\n",
        "lista = [143.73, 145.83, 143.68, 144.02, 143.5, 142.62]\n",
        "returns = np.array(lista)\n",
        "print (returns, type(returns))"
      ],
      "metadata": {
        "id": "rupLooL1qTdN"
      },
      "execution_count": null,
      "outputs": []
    },
    {
      "cell_type": "markdown",
      "source": [
        "My own example 66"
      ],
      "metadata": {
        "id": "eDxoGoanzn5T"
      }
    },
    {
      "cell_type": "code",
      "source": [
        "import numpy as np\n",
        "lista = np.array([143.73, 145.83, 143.68, 144.02, 143.5, 142.62])\n",
        "print (lista, type(lista))"
      ],
      "metadata": {
        "id": "UVaPyab4uS-v"
      },
      "execution_count": null,
      "outputs": []
    },
    {
      "cell_type": "markdown",
      "source": [
        "My own example 67"
      ],
      "metadata": {
        "id": "zzryGFn_zo5x"
      }
    },
    {
      "cell_type": "code",
      "source": [
        "import numpy as np\n",
        "lista = np.array([[143.73, 145.83], [143.68, 144.02], [143.5, 142.62]])\n",
        "print (lista, type(lista))"
      ],
      "metadata": {
        "id": "6DT3Dr6mue1W"
      },
      "execution_count": null,
      "outputs": []
    },
    {
      "cell_type": "markdown",
      "source": [
        "My own example 68"
      ],
      "metadata": {
        "id": "tjo10yoKzpyR"
      }
    },
    {
      "cell_type": "code",
      "source": [
        "import numpy as np\n",
        "lista = np.array([[143.73, 145.83], [143.68, 144.02], [143.5, 142.62]])\n",
        "print (lista.shape)"
      ],
      "metadata": {
        "id": "s8EitfMOu1-e"
      },
      "execution_count": null,
      "outputs": []
    },
    {
      "cell_type": "markdown",
      "source": [
        "My own example 69"
      ],
      "metadata": {
        "id": "r_UmwX-hzqz8"
      }
    },
    {
      "cell_type": "code",
      "source": [
        "import numpy as np\n",
        "lista = np.array([[143.73, 145.83], [143.68, 144.02], [143.5, 142.62]])\n",
        "print (np.log(lista))"
      ],
      "metadata": {
        "id": "ZW0lGV5Nu5B1"
      },
      "execution_count": null,
      "outputs": []
    },
    {
      "cell_type": "markdown",
      "source": [
        "My own example 70"
      ],
      "metadata": {
        "id": "aLU-j7SIzr1K"
      }
    },
    {
      "cell_type": "code",
      "source": [
        "import numpy as np\n",
        "lista = np.array([[143.73, 145.83], [143.68, 144.02], [143.5, 142.62]])\n",
        "print (np.mean(lista))"
      ],
      "metadata": {
        "id": "0WWTYQiLvLsf"
      },
      "execution_count": null,
      "outputs": []
    },
    {
      "cell_type": "markdown",
      "source": [
        "My own example 71"
      ],
      "metadata": {
        "id": "3te-jaIanFbY"
      }
    },
    {
      "cell_type": "code",
      "source": [
        "import numpy as np\n",
        "lista = np.array([[143.73, 145.83], [143.68, 144.02], [143.5, 142.62]])\n",
        "print (np.max(lista))"
      ],
      "metadata": {
        "id": "WeA1uqn7vPne"
      },
      "execution_count": null,
      "outputs": []
    },
    {
      "cell_type": "markdown",
      "source": [
        "My own example 72"
      ],
      "metadata": {
        "id": "pR5bzbA9nGWQ"
      }
    },
    {
      "cell_type": "code",
      "source": [
        "import numpy as np\n",
        "N = 10\n",
        "assets = np.zeros((N, 100))\n",
        "print (assets)"
      ],
      "metadata": {
        "id": "EwD7CeCqvYIT"
      },
      "execution_count": null,
      "outputs": []
    },
    {
      "cell_type": "markdown",
      "source": [
        "My own example 73"
      ],
      "metadata": {
        "id": "ew_hHPUDnHJl"
      }
    },
    {
      "cell_type": "code",
      "source": [
        "import numpy as np\n",
        "N = 10\n",
        "returns = np.zeros((N, 100))\n",
        "print (returns)"
      ],
      "metadata": {
        "id": "QIj0yeTuvu81"
      },
      "execution_count": null,
      "outputs": []
    },
    {
      "cell_type": "markdown",
      "source": [
        "My own example 74"
      ],
      "metadata": {
        "id": "nxhfnUWnnIGp"
      }
    },
    {
      "cell_type": "code",
      "source": [
        "import numpy as np\n",
        "N = 10\n",
        "returns = np.zeros((N, 100))\n",
        "R_1 = np.random.normal(1.01, 0.03, 100)\n",
        "returns[0] = R_1\n",
        "print (returns)"
      ],
      "metadata": {
        "id": "OLJsepCtwEug"
      },
      "execution_count": null,
      "outputs": []
    },
    {
      "cell_type": "markdown",
      "source": [
        "My own example 75"
      ],
      "metadata": {
        "id": "jGgusEAYnI-j"
      }
    },
    {
      "cell_type": "code",
      "source": [
        "import numpy as np\n",
        "N = 10\n",
        "assets = np.zeros((N, 100))\n",
        "R_1 = np.random.normal(1.01, 0.03, 100)\n",
        "assets[0] = np.cumprod(R_1)\n",
        "print (assets)"
      ],
      "metadata": {
        "id": "TUgYcHrSv0un"
      },
      "execution_count": null,
      "outputs": []
    },
    {
      "cell_type": "markdown",
      "source": [
        "My own example 76"
      ],
      "metadata": {
        "id": "L91mb7OqnKHa"
      }
    },
    {
      "cell_type": "code",
      "source": [
        "import numpy as np\n",
        "N = 10\n",
        "returns = np.zeros((N, 100))\n",
        "R_1 = np.random.normal(1.01, 0.03, 100)\n",
        "returns[0] = R_1\n",
        "for i in range(1, N):\n",
        "    R_i = R_1 + np.random.normal(0.001, 0.02, 100)\n",
        "    returns[i] = R_i\n",
        "    \n",
        "print (returns)"
      ],
      "metadata": {
        "id": "Epu_VnadwGTp"
      },
      "execution_count": null,
      "outputs": []
    },
    {
      "cell_type": "markdown",
      "source": [
        "My own example 77"
      ],
      "metadata": {
        "id": "Sqe4JudynLJ7"
      }
    },
    {
      "cell_type": "code",
      "source": [
        "import numpy as np\n",
        "N = 10\n",
        "assets = np.zeros((N, 100))\n",
        "R_1 = np.random.normal(1.01, 0.03, 100)\n",
        "assets[0] = np.cumprod(R_1)\n",
        "for i in range(1, N):\n",
        "    R_i = R_1 + np.random.normal(0.001, 0.02, 100)\n",
        "    assets[i] = np.cumprod(R_i)\n",
        "    \n",
        "print (assets)"
      ],
      "metadata": {
        "id": "7-qZeZSRwHAu"
      },
      "execution_count": null,
      "outputs": []
    },
    {
      "cell_type": "markdown",
      "source": [
        "My own example 78"
      ],
      "metadata": {
        "id": "BPV0J_vbnMYM"
      }
    },
    {
      "cell_type": "code",
      "source": [
        "import numpy as np\n",
        "N = 10\n",
        "returns = np.zeros((N, 100))\n",
        "R_1 = np.random.normal(1.01, 0.03, 100)\n",
        "returns[0] = R_1\n",
        "for i in range(1, N):\n",
        "    R_i = R_1 + np.random.normal(0.001, 0.02, 100)\n",
        "    returns[i] = R_i\n",
        "    \n",
        "mean_returns = [(np.mean(R) - 1)*100 for R in returns]\n",
        "print(mean_returns)"
      ],
      "metadata": {
        "id": "Va5x1MgBwHo6"
      },
      "execution_count": null,
      "outputs": []
    },
    {
      "cell_type": "markdown",
      "source": [
        "My own example 79"
      ],
      "metadata": {
        "id": "HVNoCwFdyh8y"
      }
    },
    {
      "cell_type": "code",
      "source": [
        "import numpy as np\n",
        "N = 10\n",
        "returns = np.zeros((N, 100))\n",
        "R_1 = np.random.normal(1.01, 0.03, 100)\n",
        "returns[0] = R_1\n",
        "for i in range(1, N):\n",
        "    R_i = R_1 + np.random.normal(0.001, 0.02, 100)\n",
        "    returns[i] = R_i\n",
        "    \n",
        "return_volatilities = [np.std(R) for R in returns]\n",
        "print(return_volatilities)"
      ],
      "metadata": {
        "id": "uz5dJrPWxMNy"
      },
      "execution_count": null,
      "outputs": []
    },
    {
      "cell_type": "markdown",
      "source": [
        "My own example 80"
      ],
      "metadata": {
        "id": "3GXLnPb4ylU0"
      }
    },
    {
      "cell_type": "code",
      "source": [
        "import numpy as np\n",
        "import matplotlib.pyplot as plt\n",
        "N = 10\n",
        "returns = np.zeros((N, 100))\n",
        "R_1 = np.random.normal(1.01, 0.03, 100)\n",
        "returns[0] = R_1\n",
        "for i in range(1, N):\n",
        "    R_i = R_1 + np.random.normal(0.001, 0.02, 100)\n",
        "    returns[i] = R_i\n",
        "    \n",
        "mean_returns = [(np.mean(R) - 1)*100 for R in returns]\n",
        "plt.bar(np.arange(len(mean_returns)), mean_returns)"
      ],
      "metadata": {
        "id": "6JR7l8Kcyktb"
      },
      "execution_count": null,
      "outputs": []
    },
    {
      "cell_type": "markdown",
      "source": [
        "My own example 81"
      ],
      "metadata": {
        "id": "WYE4hopEymfU"
      }
    },
    {
      "cell_type": "code",
      "source": [
        "import numpy as np\n",
        "lista = np.array([1, 2, np.nan, 4, 5])\n",
        "print (lista)"
      ],
      "metadata": {
        "id": "T2AdW58hz1Dh"
      },
      "execution_count": null,
      "outputs": []
    },
    {
      "cell_type": "markdown",
      "source": [
        "My own example 68My own example 82"
      ],
      "metadata": {
        "id": "cZpytn6pyna8"
      }
    },
    {
      "cell_type": "code",
      "source": [
        "import numpy as np\n",
        "lista = np.array([1, 2, np.nan, 4, 5])\n",
        "print (np.mean(lista))"
      ],
      "metadata": {
        "id": "TSFp0S8pz6a0"
      },
      "execution_count": null,
      "outputs": []
    },
    {
      "cell_type": "markdown",
      "source": [
        "My own example 83"
      ],
      "metadata": {
        "id": "mW0Op0jwyoX4"
      }
    },
    {
      "cell_type": "code",
      "source": [
        "import numpy as np\n",
        "lista = np.array([1, 2, np.nan, 4, 5])\n",
        "print (np.isnan(lista))"
      ],
      "metadata": {
        "id": "wXHTMqTIz_QP"
      },
      "execution_count": null,
      "outputs": []
    },
    {
      "cell_type": "markdown",
      "source": [
        "My own example 84"
      ],
      "metadata": {
        "id": "U5ec7WqrypPe"
      }
    },
    {
      "cell_type": "code",
      "source": [
        "import numpy as np\n",
        "lista = np.array([1, 2, np.nan, 4, 5])\n",
        "nan = ~np.isnan(lista)\n",
        "print (lista[nan])"
      ],
      "metadata": {
        "id": "-vFKvYj-0GOj"
      },
      "execution_count": null,
      "outputs": []
    },
    {
      "cell_type": "markdown",
      "source": [
        "My own example 85"
      ],
      "metadata": {
        "id": "8JMV9BJuyqG-"
      }
    },
    {
      "cell_type": "code",
      "source": [
        "import numpy as np\n",
        "lista = np.array([1, 2, np.nan, 4, 5])\n",
        "nan = ~np.isnan(lista)\n",
        "print (np.nanmean(lista))"
      ],
      "metadata": {
        "id": "MVXI0-Qn0hk9"
      },
      "execution_count": null,
      "outputs": []
    },
    {
      "cell_type": "markdown",
      "source": [
        "My own example 86"
      ],
      "metadata": {
        "id": "yTiyTR4myq86"
      }
    },
    {
      "cell_type": "code",
      "source": [
        "import numpy as np\n",
        "lista1 = np.array([\n",
        "        [1, 2, 3, 4],\n",
        "        [5, 6, 7, 8],\n",
        "        [9, 10, 11, 0]        \n",
        "    ])\n",
        "lista2 = np.array([\n",
        "        [1, 1, 2],\n",
        "        [3, 4, 5],\n",
        "        [6, 7, 8],\n",
        "        [9, 10, 10]\n",
        "    ])\n",
        "\n",
        "print (np.dot(lista1, lista2))\n"
      ],
      "metadata": {
        "id": "5O3_ZKm10oDn"
      },
      "execution_count": null,
      "outputs": []
    },
    {
      "cell_type": "markdown",
      "source": [
        "My own example 87"
      ],
      "metadata": {
        "id": "f2dL-T_myrxv"
      }
    },
    {
      "cell_type": "code",
      "source": [
        "import numpy as np\n",
        "lista1 = np.array([\n",
        "        [1, 2, 3, 4],\n",
        "        [5, 6, 7, 8],\n",
        "        [9, 10, 11, 0]        \n",
        "    ])\n",
        "print (np.transpose(lista1))"
      ],
      "metadata": {
        "id": "Rqk2tFme1pST"
      },
      "execution_count": null,
      "outputs": []
    },
    {
      "cell_type": "markdown",
      "source": [
        "My own example 88"
      ],
      "metadata": {
        "id": "vc2WVPsjys7X"
      }
    },
    {
      "cell_type": "code",
      "source": [
        "import numpy as np\n",
        "import pandas as pd\n",
        "import matplotlib.pyplot as plt\n",
        "returns = pd.DataFrame(np.random.normal(1.0, (100, 10)))\n",
        "prices = returns.cumprod()\n",
        "prices.plot()\n",
        "plt.legend(loc=0);"
      ],
      "metadata": {
        "id": "r2V98EX511e7"
      },
      "execution_count": null,
      "outputs": []
    },
    {
      "cell_type": "markdown",
      "source": [
        "My own example 89"
      ],
      "metadata": {
        "id": "fkd91VPOyuxT"
      }
    },
    {
      "cell_type": "code",
      "source": [
        "import numpy as np\n",
        "import pandas as pd\n",
        "import matplotlib.pyplot as plt\n",
        "returns = pd.DataFrame(np.random.normal(1.0, 3.0, (100, 10)))\n",
        "prices = returns.cumprod()\n",
        "prices.plot()\n",
        "plt.legend(loc=0);"
      ],
      "metadata": {
        "id": "Q7Av5G1A4XR2"
      },
      "execution_count": null,
      "outputs": []
    },
    {
      "cell_type": "markdown",
      "source": [
        "My own example 90"
      ],
      "metadata": {
        "id": "5e-CzS0ayvll"
      }
    },
    {
      "cell_type": "code",
      "source": [
        "import pandas as pd\n",
        "import matplotlib.pyplot as plt\n",
        "returns = pd.DataFrame(np.random.normal(1.0, 0.3, (100, 10)))\n",
        "prices = returns.cumprod()\n",
        "prices.plot()\n",
        "plt.legend(loc=0);"
      ],
      "metadata": {
        "id": "odNjMdQR4i1p"
      },
      "execution_count": null,
      "outputs": []
    },
    {
      "cell_type": "markdown",
      "source": [
        "My own example 91"
      ],
      "metadata": {
        "id": "CoNMKh60ywey"
      }
    },
    {
      "cell_type": "code",
      "source": [
        "import pandas as pd\n",
        "serie = pd.Series([1, 2, np.nan, 4, 5])\n",
        "print (serie)"
      ],
      "metadata": {
        "id": "ZqM1mNea4nIR"
      },
      "execution_count": null,
      "outputs": []
    },
    {
      "cell_type": "markdown",
      "source": [
        "My own example 92"
      ],
      "metadata": {
        "id": "p_ut_L_jyxRU"
      }
    },
    {
      "cell_type": "code",
      "source": [
        "import pandas as pd\n",
        "serie = pd.Series([1, 2, np.nan, 4, 5])\n",
        "print (serie.name)"
      ],
      "metadata": {
        "id": "1VNLhWKI40wg"
      },
      "execution_count": null,
      "outputs": []
    },
    {
      "cell_type": "markdown",
      "source": [
        "My own example 93"
      ],
      "metadata": {
        "id": "Ni_tEv-pyyS6"
      }
    },
    {
      "cell_type": "code",
      "source": [
        "import pandas as pd\n",
        "serie = pd.Series([1, 2, np.nan, 4, 5])\n",
        "serie.name=(\"Series\")\n",
        "print (serie.name)"
      ],
      "metadata": {
        "id": "fMrjmS255FV5"
      },
      "execution_count": null,
      "outputs": []
    },
    {
      "cell_type": "markdown",
      "source": [
        "My own example 94"
      ],
      "metadata": {
        "id": "woOFxapsyzkj"
      }
    },
    {
      "cell_type": "code",
      "source": [
        "import pandas as pd\n",
        "serie = pd.Series([1, 2, np.nan, 4, 5])\n",
        "print (serie.index)"
      ],
      "metadata": {
        "id": "G7wsHueF5N59"
      },
      "execution_count": null,
      "outputs": []
    },
    {
      "cell_type": "markdown",
      "source": [
        "My own example 95"
      ],
      "metadata": {
        "id": "sYQ-nwqoy0nE"
      }
    },
    {
      "cell_type": "code",
      "source": [
        "import pandas as pd\n",
        "serie = pd.Series([1, 2, np.nan, 4, 5])\n",
        "nuevo_indice = pd.date_range(\"2020-04-01\", periods=len(serie), freq=\"D\")\n",
        "print (nuevo_indice)"
      ],
      "metadata": {
        "id": "c0FkK2Qb5Wh9"
      },
      "execution_count": null,
      "outputs": []
    },
    {
      "cell_type": "markdown",
      "source": [
        "My own example 96"
      ],
      "metadata": {
        "id": "9ZfIkgPAy1sV"
      }
    },
    {
      "cell_type": "code",
      "source": [
        "import pandas as pd\n",
        "serie = pd.Series([1, 2, np.nan, 4, 5])\n",
        "nuevo_indice = pd.date_range(\"2020-04-01\", periods=len(serie), freq=\"D\")\n",
        "serie.index = nuevo_indice\n",
        "print (serie.index)"
      ],
      "metadata": {
        "id": "Bin_Avij5xEL"
      },
      "execution_count": null,
      "outputs": []
    },
    {
      "cell_type": "markdown",
      "source": [
        "My own example 97"
      ],
      "metadata": {
        "id": "MA7zY2Puy2oU"
      }
    },
    {
      "cell_type": "code",
      "source": [
        "import pandas as pd\n",
        "serie = pd.Series([1, 2, np.nan, 4, 5])\n",
        "print (\"Primer elemento de las series: \", serie.iloc[0])"
      ],
      "metadata": {
        "id": "J03feytL6PDx"
      },
      "execution_count": null,
      "outputs": []
    },
    {
      "cell_type": "markdown",
      "source": [
        "My own example 98"
      ],
      "metadata": {
        "id": "Cilk3S7WWgg2"
      }
    },
    {
      "cell_type": "code",
      "source": [
        "import pandas as pd\n",
        "serie = pd.Series([1, 2, np.nan, 4, 5])\n",
        "print (\"Ultimo elemento de las series: \", serie.iloc[-1])"
      ],
      "metadata": {
        "id": "5ORi-bOeWeXX"
      },
      "execution_count": null,
      "outputs": []
    },
    {
      "cell_type": "markdown",
      "source": [
        "My own example 99"
      ],
      "metadata": {
        "id": "dCvIrGSey3eW"
      }
    },
    {
      "cell_type": "code",
      "metadata": {
        "id": "O5qTeH0mpg3A"
      },
      "source": [
        "from itertools import permutations\n",
        "from typing import List\n",
        "import pandas\n",
        "\n",
        "def permutar(a,b):\n",
        "    permutacion: List[int] = []\n",
        "    for x in b:\n",
        "        cont=1\n",
        "        for y in a:\n",
        "           if cont == int(x):\n",
        "               num=int(y)\n",
        "               permutacion.append(num)\n",
        "\n",
        "           cont=cont+1\n",
        "    return permutacion\n",
        "\n",
        "\n",
        "n=5\n",
        "numeros: List[int] = []\n",
        "for x in range(n):\n",
        "    numeros.append(x+1)\n",
        "\n",
        "permutaciones = list(permutations(numeros))\n",
        "permutacionesAux = permutaciones[:]\n",
        "tabla = []\n",
        "\n",
        "\n",
        "for x in permutaciones:\n",
        "    listaAux: List[int] = []\n",
        "    for y in permutacionesAux:\n",
        "        listaAux.append(permutar(x,y))\n",
        "    tabla.append(listaAux)\n",
        "\n",
        "print(pandas.DataFrame(tabla, permutaciones, permutacionesAux))"
      ],
      "execution_count": null,
      "outputs": []
    },
    {
      "cell_type": "markdown",
      "source": [
        "My own example 100"
      ],
      "metadata": {
        "id": "6ejtZhPEy5rC"
      }
    },
    {
      "cell_type": "code",
      "source": [
        "from itertools import permutations\n",
        "from typing import List\n",
        "\n",
        "vertices = [1,2,3,4]\n",
        "aristas = [[1,2],[1,2],[1,3],[1,3],[1,4],[2,4],[3,4]]\n",
        "grafo = [vertices,aristas]\n",
        "\n",
        "def lPermutaciones(vertices):\n",
        "    verticesCopia = vertices.copy()\n",
        "    listaPermutaciones : List[int] = []\n",
        "    for x in vertices:\n",
        "        verticesCopia.remove(x)\n",
        "        for y in verticesCopia:\n",
        "            listaPermutaciones.append([x,y])\n",
        "    return listaPermutaciones\n",
        "\n",
        "def calcularNaristas(vertices):\n",
        "    nAristas: List[int] = []\n",
        "    c=0\n",
        "    n=0\n",
        "    for x in vertices:\n",
        "        cont=0\n",
        "        for y in aristas:\n",
        "            if x in y:\n",
        "                cont=cont+1\n",
        "        nAristas.append(cont)\n",
        "        n=cont\n",
        "        c=c+1\n",
        "\n",
        "    for x in nAristas:\n",
        "        if nAristas.count(n)!=c:\n",
        "            return 0\n",
        "\n",
        "    return 1\n",
        "\n",
        "def permutar(permutacion,aristas):\n",
        "    copiaAristas: List[list] = []\n",
        "    nuevasAristas: List[list] = []\n",
        "    cont=1\n",
        "    ultimo=permutacion[-1]\n",
        "\n",
        "    for x in aristas:\n",
        "        copiaAristas.append(x.copy())\n",
        "\n",
        "    for x in permutacion:\n",
        "\n",
        "        aux = permutacion[cont]\n",
        "        listaAux : List[int] = []\n",
        "        for y in copiaAristas:\n",
        "            if x in y:\n",
        "                if aux in y:\n",
        "                    pass\n",
        "                else:\n",
        "\n",
        "                    listaAux.append(copiaAristas.index(y))\n",
        "                    y.remove(x)\n",
        "                    y.append(aux)\n",
        "                    nuevasAristas.append(y)\n",
        "\n",
        "        listaAux.reverse()\n",
        "        for y in listaAux:\n",
        "            copiaAristas.pop(y)\n",
        "\n",
        "        if aux==ultimo:\n",
        "            cont=0\n",
        "        else:\n",
        "            cont=cont+1\n",
        "    nuevasAristas.extend(copiaAristas)\n",
        "    return nuevasAristas\n",
        "\n",
        "def verificar(aristasOriginales, aristasNuevas):\n",
        "    copiaAristas : List[list] = []\n",
        "\n",
        "    for x in aristasOriginales:\n",
        "        copiaAristas.append(x.copy())\n",
        "\n",
        "    for x in copiaAristas:\n",
        "        x.sort()\n",
        "\n",
        "    for x in aristasNuevas:\n",
        "        x.sort()\n",
        "        if x in copiaAristas:\n",
        "            copiaAristas.remove(x)\n",
        "\n",
        "    if copiaAristas:\n",
        "        return 0\n",
        "    else:\n",
        "        return 1\n",
        "\n",
        "listaPermutacionesVerificadas = [\"e\"]\n",
        "permutaciones = lPermutaciones(vertices)\n",
        "for x in permutaciones:\n",
        "    permutacion = x.copy()\n",
        "    nuevasAristas = permutar(permutacion, aristas[:])\n",
        "    if verificar(aristas[:], nuevasAristas)==1:\n",
        "        listaPermutacionesVerificadas.append(x)\n",
        "\n",
        "print (listaPermutacionesVerificadas)"
      ],
      "metadata": {
        "id": "7-FCt-1fM3tY"
      },
      "execution_count": null,
      "outputs": []
    },
    {
      "cell_type": "markdown",
      "source": [
        "My own example 101"
      ],
      "metadata": {
        "id": "YSvBiGhey6rg"
      }
    },
    {
      "cell_type": "code",
      "source": [
        "from builtins import print\n",
        "from itertools import permutations\n",
        "from typing import List\n",
        "\n",
        "def verificarNumeroVerticesYAristas(vertices1,vertices2,aristas1,aristas2):\n",
        "    contV1 = len(vertices1)\n",
        "    contV2 = len(vertices2)\n",
        "    contA1 = len(aristas1)\n",
        "    contA2 = len(aristas2)\n",
        "\n",
        "    if contV1==contV2:\n",
        "        if contA1==contA2:\n",
        "            return 1\n",
        "        else:\n",
        "            return 0\n",
        "    else:\n",
        "        return 0\n",
        "\n",
        "def permutar(permutacion,aristas,vertices):\n",
        "    copiaAristas: List[list] = []\n",
        "    nuevasAristas: List[list] = []\n",
        "    copiaVertices = vertices.copy()\n",
        "    pos=0\n",
        "    for x in aristas:\n",
        "        copiaAristas.append(x.copy())\n",
        "\n",
        "    for x in permutacion:\n",
        "        aux = vertices[pos]\n",
        "        for y in copiaAristas:\n",
        "            if aux in y:\n",
        "                y.remove(aux)\n",
        "                y.append(x)\n",
        "\n",
        "        pos=pos+1\n",
        "\n",
        "\n",
        "    return copiaAristas\n",
        "\n",
        "def verificar(aristasOriginales, aristasNuevas):\n",
        "    copiaAristas : List[list] = []\n",
        "    for x in aristasOriginales:\n",
        "        copiaAristas.append(x.copy())\n",
        "\n",
        "    for x in copiaAristas:\n",
        "        x.sort()\n",
        "\n",
        "    for x in aristasNuevas:\n",
        "        x.sort()\n",
        "        if x in copiaAristas:\n",
        "\n",
        "            copiaAristas.remove(x)\n",
        "\n",
        "    if copiaAristas:\n",
        "        return 0\n",
        "    else:\n",
        "        return 1\n",
        "\n",
        "\n",
        "vertices1=[1,2,3,4,5,6]\n",
        "aristas1=[[1,2],[1,6],[2,6],[2,4],[4,3],[4,5],[5,3]]\n",
        "grafo1=[vertices1,aristas1]\n",
        "\n",
        "vertices2=['a','b','c','d','e','f']\n",
        "aristas2=[['a','b'],['a','c'],['b','c'],['c','d'],['d','e'],['d','f'],['e','f']]\n",
        "grafo2=[vertices2,aristas2]\n",
        "\n",
        "verificacion = 0\n",
        "\n",
        "if verificarNumeroVerticesYAristas(vertices1,vertices2,aristas1,aristas2):\n",
        "    permutaciones = list(permutations(vertices1))\n",
        "    while verificacion == 0:\n",
        "        for x in permutaciones:\n",
        "            permutacion = x\n",
        "            nuevasAristas = permutar(permutacion, aristas2[:], vertices2)\n",
        "            if verificar(aristas1[:], nuevasAristas) == 1:\n",
        "                verificacion=1\n",
        "        if verificacion == 0:\n",
        "            verificacion=2\n",
        "\n",
        "    if verificacion == 1:\n",
        "        print (\"Los grafos son isomorfos\")\n",
        "    else:\n",
        "        print(\"Los grafos no son isomorfos\")\n",
        "else:\n",
        "    print (\"Los grafos no son isomorfos\")"
      ],
      "metadata": {
        "id": "YmoqhxN6M4OR"
      },
      "execution_count": null,
      "outputs": []
    },
    {
      "cell_type": "markdown",
      "source": [
        "My own example 102"
      ],
      "metadata": {
        "id": "0I9qoH8Hy7qp"
      }
    },
    {
      "cell_type": "code",
      "source": [
        "import os\n",
        "import pandas as pd\n",
        "from pandas import ExcelWriter\n",
        "\n",
        "funcion1 = \"Hola\"\n",
        "funcion2 = \"Mundo\"\n",
        "funciones = [funcion1, funcion2]\n",
        "df = pd.DataFrame({'funciones': funciones})\n",
        "df = df[['funciones']]\n",
        "writer = ExcelWriter('archivo.xlsx')\n",
        "df.to_excel(writer, 'Hoja de datos', index=False)\n",
        "writer.save()"
      ],
      "metadata": {
        "id": "f5wi8vgVM44R"
      },
      "execution_count": null,
      "outputs": []
    },
    {
      "cell_type": "markdown",
      "source": [
        "My own example 103"
      ],
      "metadata": {
        "id": "v1H_lL5xy8k5"
      }
    },
    {
      "cell_type": "code",
      "source": [
        "import numpy as np\n",
        "import pandas as pd\n",
        "import matplotlib.pyplot as plt\n",
        "l = np.random.randint(1,10, size=100)\n",
        "serie = pd.Series(l)\n",
        "\n",
        "nuevo_indice = pd.date_range(\"2022-04-01\", periods=len(serie), freq=\"D\")\n",
        "serie.index = nuevo_indice\n",
        "print (serie)"
      ],
      "metadata": {
        "id": "X7yaip2FM5Xp"
      },
      "execution_count": null,
      "outputs": []
    },
    {
      "cell_type": "markdown",
      "source": [
        "My own example 104"
      ],
      "metadata": {
        "id": "eRDKVf-Ay9m5"
      }
    },
    {
      "cell_type": "code",
      "source": [
        "import numpy as np\n",
        "import pandas as pd\n",
        "import matplotlib.pyplot as plt\n",
        "l = np.random.randint(1,10, size=100)\n",
        "serie = pd.Series(l)\n",
        "\n",
        "nuevo_indice = pd.date_range(\"2022-04-01\", periods=len(serie), freq=\"D\")\n",
        "serie.index = nuevo_indice\n",
        "print(serie.iloc[:50:2])"
      ],
      "metadata": {
        "id": "uPuMUJvnM5zh"
      },
      "execution_count": null,
      "outputs": []
    },
    {
      "cell_type": "markdown",
      "source": [
        "My own example 105"
      ],
      "metadata": {
        "id": "gcyTWTD5bnkZ"
      }
    },
    {
      "cell_type": "code",
      "source": [
        "import numpy as np\n",
        "import pandas as pd\n",
        "import matplotlib.pyplot as plt\n",
        "l = np.random.randint(1,10, size=100)\n",
        "serie = pd.Series(l)\n",
        "\n",
        "nuevo_indice = pd.date_range(\"2022-04-01\", periods=len(serie), freq=\"D\")\n",
        "serie.index = nuevo_indice\n",
        "print(serie.loc['2022-04-04'])"
      ],
      "metadata": {
        "id": "WY7yj6aFbp4j"
      },
      "execution_count": null,
      "outputs": []
    },
    {
      "cell_type": "markdown",
      "source": [
        "My own example 106"
      ],
      "metadata": {
        "id": "LDdPPhh4b-tW"
      }
    },
    {
      "cell_type": "code",
      "source": [
        "import numpy as np\n",
        "import pandas as pd\n",
        "import matplotlib.pyplot as plt\n",
        "l = np.random.randint(1,10, size=100)\n",
        "serie = pd.Series(l)\n",
        "\n",
        "nuevo_indice = pd.date_range(\"2022-04-01\", periods=len(serie), freq=\"D\")\n",
        "serie.index = nuevo_indice\n",
        "print(serie.loc[(serie>1) & (serie<3)])"
      ],
      "metadata": {
        "id": "7NHXW4KicRXq"
      },
      "execution_count": null,
      "outputs": []
    },
    {
      "cell_type": "markdown",
      "source": [
        "My own example 107"
      ],
      "metadata": {
        "id": "rgzZGLrMcBvA"
      }
    },
    {
      "cell_type": "code",
      "source": [
        "import numpy as np\n",
        "import pandas as pd\n",
        "import matplotlib.pyplot as plt\n",
        "l = np.random.randint(1,10, size=100)\n",
        "serie = pd.Series(l)\n",
        "\n",
        "nuevo_indice = pd.date_range(\"2022-04-01\", periods=len(serie), freq=\"D\")\n",
        "serie.index = nuevo_indice\n",
        "print(serie.head(5))"
      ],
      "metadata": {
        "id": "mReGpclKcoVt"
      },
      "execution_count": null,
      "outputs": []
    },
    {
      "cell_type": "markdown",
      "source": [
        "My own example 108"
      ],
      "metadata": {
        "id": "XtCA-lW1cCko"
      }
    },
    {
      "cell_type": "code",
      "source": [
        "import numpy as np\n",
        "import pandas as pd\n",
        "import matplotlib.pyplot as plt\n",
        "l = np.random.randint(1,10, size=100)\n",
        "serie = pd.Series(l)\n",
        "\n",
        "nuevo_indice = pd.date_range(\"2022-04-01\", periods=len(serie), freq=\"D\")\n",
        "serie.index = nuevo_indice\n",
        "print(serie.tail(5))"
      ],
      "metadata": {
        "id": "M95uqJwxc0od"
      },
      "execution_count": null,
      "outputs": []
    },
    {
      "cell_type": "markdown",
      "source": [
        "My own example 109"
      ],
      "metadata": {
        "id": "gyP6n8bkcDZB"
      }
    },
    {
      "cell_type": "code",
      "source": [
        "import pandas as pd\n",
        "spanishPlayers = pd.Series(\n",
        "    ['Casillas', 'Ramos', 'Pique', 'Puyol', 'Capdevila', 'Xabi Alonso', 'Busquets', 'Xavi Hernandez', 'Pedrito',\n",
        "     'Iniesta', 'Villa'], index=[1, 15, 3, 5, 11, 14, 16, 8, 18, 6, 7])\n",
        "print (\"Spanish Football Players: \\n%s\" % spanishPlayers)"
      ],
      "metadata": {
        "id": "0_qcyhFTc4Jm"
      },
      "execution_count": null,
      "outputs": []
    },
    {
      "cell_type": "markdown",
      "source": [
        "My own example 110"
      ],
      "metadata": {
        "id": "xoNpGzMAcEeU"
      }
    },
    {
      "cell_type": "code",
      "source": [
        "import pandas as pd\n",
        "spanishPlayers = pd.Series(\n",
        "    ['Casillas', 'Ramos', 'Pique', 'Puyol', 'Capdevila', 'Xabi Alonso', 'Busquets', 'Xavi Hernandez', 'Pedrito',\n",
        "     'Iniesta', 'Villa'])\n",
        "print (\"Spanish Football Players: \\n%s\" % spanishPlayers)"
      ],
      "metadata": {
        "id": "b5Y352V82QfL"
      },
      "execution_count": null,
      "outputs": []
    },
    {
      "cell_type": "markdown",
      "source": [
        "My own example 111"
      ],
      "metadata": {
        "id": "nU6Jf5SBcFZu"
      }
    },
    {
      "cell_type": "code",
      "source": [
        "import pandas as pd\n",
        "dictPlayers = {1: 'Casillas', 15: 'Ramos', 3: 'Pique', 5: 'Puyol', 11: 'Capdevila', 14: 'Xabi Alonso',\n",
        "               16: 'Busquets', 8: 'Xavi Hernandez', 18: 'Pedrito', 6: 'Iniesta', 7: 'Villa'}\n",
        "players2series = pd.Series(dictPlayers)\n",
        "players2series[10] = 'Cesc'\n",
        "print (\"Spanish Football Players through dictionary: \\n%s\" % players2series)"
      ],
      "metadata": {
        "id": "B5AuUF8l3t6L"
      },
      "execution_count": null,
      "outputs": []
    },
    {
      "cell_type": "markdown",
      "source": [
        "My own example 112"
      ],
      "metadata": {
        "id": "ajzrK63RcGNq"
      }
    },
    {
      "cell_type": "code",
      "source": [
        "import pandas as pd\n",
        "spanishPlayersDF = pd.DataFrame(\n",
        "    {\n",
        "        'name': ['Casillas', 'Ramos', 'Pique', 'Puyol', 'Capdevila', 'Xabi Alonso', 'Busquets', 'Xavi Hernandez',\n",
        "                 'Pedrito', 'Iniesta', 'Villa'],\n",
        "        'demarcation': ['Goalkeeper', 'Right back', 'Centre-back', 'Centre-back', 'Left back', 'Defensive midfield',\n",
        "                        'Defensive midfield', 'Midfielder', 'Left winger', 'Right winger', 'Centre forward'],\n",
        "        'team': ['Real Madrid', 'Real Madrid', 'FC Barcelona', 'FC Barcelona', 'Villareal', 'Real Madrid',\n",
        "                 'FC Barcelona', 'FC Barcelona', 'FC Barcelona', 'FC Barcelona', 'FC Barcelona']\n",
        "    }, columns=['name', 'demarcation', 'team'], index=[1, 15, 3, 5, 11, 14, 16, 8, 18, 6, 7]\n",
        ")\n",
        "print (\"Spanish Football Players through dictionary: \\n%s\" % spanishPlayersDF)"
      ],
      "metadata": {
        "id": "GKlRRujT4EUz"
      },
      "execution_count": null,
      "outputs": []
    },
    {
      "cell_type": "markdown",
      "source": [
        "My own example 113"
      ],
      "metadata": {
        "id": "8zG7JsLpcHG8"
      }
    },
    {
      "cell_type": "code",
      "source": [
        "import pandas as pd\n",
        "spanishPlayersDF = pd.DataFrame(\n",
        "    {\n",
        "        'name': ['Casillas', 'Ramos', 'Pique', 'Puyol', 'Capdevila', 'Xabi Alonso', 'Busquets', 'Xavi Hernandez',\n",
        "                 'Pedrito', 'Iniesta', 'Villa'],\n",
        "        'demarcation': ['Goalkeeper', 'Right back', 'Centre-back', 'Centre-back', 'Left back', 'Defensive midfield',\n",
        "                        'Defensive midfield', 'Midfielder', 'Left winger', 'Right winger', 'Centre forward'],\n",
        "        'team': ['Real Madrid', 'Real Madrid', 'FC Barcelona', 'FC Barcelona', 'Villareal', 'Real Madrid',\n",
        "                 'FC Barcelona', 'FC Barcelona', 'FC Barcelona', 'FC Barcelona', 'FC Barcelona']\n",
        "    }, columns=['name', 'demarcation', 'team'], index=[1, 15, 3, 5, 11, 14, 16, 8, 18, 6, 7]\n",
        ")\n",
        "spanishPlayersDF.loc[10] = ['Cesc', 'Forward', 'Arsenal']\n",
        "print (\"Spanish Football Players through dictionary: \\n%s\" % spanishPlayersDF)"
      ],
      "metadata": {
        "id": "NiTLUXWj4Tsf"
      },
      "execution_count": null,
      "outputs": []
    },
    {
      "cell_type": "markdown",
      "source": [
        "My own example 114"
      ],
      "metadata": {
        "id": "aOaiJ1YocH4E"
      }
    },
    {
      "cell_type": "code",
      "source": [
        "import pandas as pd\n",
        "\n",
        "inicio = int(input('Introduce el año inicial: '))\n",
        "fin = int(input('Introduce el año final: '))\n",
        "ventas = {}\n",
        "for i in range(inicio, fin+1):\n",
        "    ventas[i] = float(input('Introduce las ventas del año ' + str(i) +': '))\n",
        "ventas = pd.Series(ventas)\n",
        "print('Ventas\\n', ventas)\n",
        "print('Ventas con descuento\\n', ventas*0.9)"
      ],
      "metadata": {
        "id": "pFjlJ8hg2dIQ"
      },
      "execution_count": null,
      "outputs": []
    },
    {
      "cell_type": "markdown",
      "source": [
        "My own example 115"
      ],
      "metadata": {
        "id": "Q7O7sf6h2dfg"
      }
    },
    {
      "cell_type": "code",
      "source": [
        "import pandas as pd\n",
        "\n",
        "def estadistica_notas(notas):\n",
        "    notas = pd.Series(notas)\n",
        "    estadisticos = pd.Series([notas.min(), notas.max(), notas.mean(), notas.std()], index=['Min', 'Max', 'Media', 'Desviación típica'])\n",
        "    return estadisticos\n",
        "\n",
        "notas = {'Juan':9, 'María':6.5, 'Pedro':4, 'Carmen': 8.5, 'Luis': 5}\n",
        "print(estadistica_notas(notas))"
      ],
      "metadata": {
        "id": "E9IVqKcl4gHm"
      },
      "execution_count": null,
      "outputs": []
    },
    {
      "cell_type": "markdown",
      "source": [
        "My own example 116"
      ],
      "metadata": {
        "id": "1EjULpbd2fF1"
      }
    },
    {
      "cell_type": "code",
      "source": [
        "import pandas as pd\n",
        "\n",
        "def estadistica_notas(notas):\n",
        "    notas = pd.Series(notas)\n",
        "    return notas.describe()\n",
        "\n",
        "notas = {'Juan':9, 'María':6.5, 'Pedro':4, 'Carmen': 8.5, 'Luis': 5}\n",
        "print(estadistica_notas(notas))"
      ],
      "metadata": {
        "id": "XeNlJaz24niT"
      },
      "execution_count": null,
      "outputs": []
    },
    {
      "cell_type": "markdown",
      "source": [
        "My own example 117"
      ],
      "metadata": {
        "id": "3zARMd3T2gTb"
      }
    },
    {
      "cell_type": "code",
      "source": [
        "import pandas as pd\n",
        "\n",
        "def aprobados(notas):\n",
        "    notas = pd.Series(notas)\n",
        "    return notas[notas >= 5].sort_values(ascending=False)\n",
        "\n",
        "notas = {'Juan':9, 'María':6.5, 'Pedro':4, 'Carmen': 8.5, 'Luis': 5}\n",
        "print(aprobados(notas))"
      ],
      "metadata": {
        "id": "ZShb2CET4p6o"
      },
      "execution_count": null,
      "outputs": []
    },
    {
      "cell_type": "markdown",
      "source": [
        "My own example 118"
      ],
      "metadata": {
        "id": "r5VGkcXw2hSi"
      }
    },
    {
      "cell_type": "code",
      "source": [
        "import pandas as pd\n",
        "\n",
        "datos = {'Mes':['Enero', 'Febrero', 'Marzo', 'Abril'], 'Ventas':[30500, 35600, 28300, 33900], 'Gastos':[22000, 23400, 18100, 20700]}\n",
        "contabilidad = pd.DataFrame(datos)\n",
        "print(contabilidad)"
      ],
      "metadata": {
        "id": "Lp1NBOlf4tPb"
      },
      "execution_count": null,
      "outputs": []
    },
    {
      "cell_type": "markdown",
      "source": [
        "My own example 119"
      ],
      "metadata": {
        "id": "CTPBBKOz2ikb"
      }
    },
    {
      "cell_type": "code",
      "source": [
        "import pandas as pd\n",
        "\n",
        "datos = [['Enero', 30500, 22000], ['Febrero', 35600, 23400], ['Marzo', 28300, 18100], ['Abril', 33900,20700]]\n",
        "contabilidad = pd.DataFrame(datos, columns=['Mes', 'Ventas', 'Gastos'])\n",
        "print(contabilidad)"
      ],
      "metadata": {
        "id": "m5tX9QKE4wCL"
      },
      "execution_count": null,
      "outputs": []
    },
    {
      "cell_type": "markdown",
      "source": [
        "My own example 120"
      ],
      "metadata": {
        "id": "kA7YWEBy2jjD"
      }
    },
    {
      "cell_type": "code",
      "source": [
        "import pandas as pd\n",
        "\n",
        "datos = {'Mes':['Enero', 'Febrero', 'Marzo', 'Abril'], 'Ventas':[30500, 35600, 28300, 33900], 'Gastos':[22000, 23400, 18100, 20700]}\n",
        "\n",
        "contabilidad = pd.DataFrame(datos)\n",
        "\n",
        "def balance(contabilidad, meses):\n",
        "    contabilidad['Balance'] = contabilidad.Ventas - contabilidad.Gastos\n",
        "    return contabilidad[contabilidad.Mes.isin(meses)].Balance.sum()\n",
        "\n",
        "print(balance(contabilidad, ['Enero','Marzo']))"
      ],
      "metadata": {
        "id": "OwRr0vpz4yYl"
      },
      "execution_count": null,
      "outputs": []
    },
    {
      "cell_type": "markdown",
      "source": [
        "My own example 121"
      ],
      "metadata": {
        "id": "Ggsv_4Nj2lwd"
      }
    },
    {
      "cell_type": "code",
      "source": [
        "import pandas as pd\n",
        "\n",
        "datos = {'Mes':['Enero', 'Febrero', 'Marzo', 'Abril'], 'Ventas':[30500, 35600, 28300, 33900], 'Gastos':[22000, 23400, 18100, 20700]}\n",
        "\n",
        "contabilidad = pd.DataFrame(datos)\n",
        "\n",
        "def balance(contabilidad, meses):\n",
        "    contabilidad['Balance'] = contabilidad.Ventas - contabilidad.Gastos\n",
        "    return contabilidad.set_index('Mes').loc[meses,'Balance'].sum()\n",
        "\n",
        "print(balance(contabilidad, ['Enero','Marzo']))"
      ],
      "metadata": {
        "id": "YeBNVqwV41XG"
      },
      "execution_count": null,
      "outputs": []
    },
    {
      "cell_type": "markdown",
      "source": [
        "My own example 122"
      ],
      "metadata": {
        "id": "oBnQ2tvg2mxt"
      }
    },
    {
      "cell_type": "code",
      "source": [
        "import pandas as pd\n",
        "from numpy.random import randn\n",
        "\n",
        "df = pd.DataFrame(randn(5,4),\n",
        "                  index='A B C D E'.split(),\n",
        "                  columns='W X Y Z'.split())\n",
        "df"
      ],
      "metadata": {
        "id": "ZoPdYeWo44OK"
      },
      "execution_count": null,
      "outputs": []
    },
    {
      "cell_type": "markdown",
      "source": [
        "My own example 123"
      ],
      "metadata": {
        "id": "NytSD_wa2oOu"
      }
    },
    {
      "cell_type": "code",
      "source": [
        "import pandas as pd\n",
        "from numpy.random import randn\n",
        "\n",
        "df = pd.DataFrame(randn(5,4),\n",
        "                  index='A B C D E'.split(),\n",
        "                  columns='W X Y Z'.split())\n",
        "df.info"
      ],
      "metadata": {
        "id": "dMf2SD5v5xNx"
      },
      "execution_count": null,
      "outputs": []
    },
    {
      "cell_type": "markdown",
      "source": [
        "My own example 124"
      ],
      "metadata": {
        "id": "wtYRhqjy2rmi"
      }
    },
    {
      "cell_type": "code",
      "source": [
        "import pandas as pd\n",
        "from numpy.random import randn\n",
        "\n",
        "df = pd.DataFrame(randn(5,4),\n",
        "                  index='A B C D E'.split(),\n",
        "                  columns='W X Y Z'.split())\n",
        "df.dtypes"
      ],
      "metadata": {
        "id": "vBr--cvu56Dn"
      },
      "execution_count": null,
      "outputs": []
    },
    {
      "cell_type": "markdown",
      "source": [
        "My own example 125"
      ],
      "metadata": {
        "id": "qzXift3X2sZY"
      }
    },
    {
      "cell_type": "code",
      "source": [
        "import pandas as pd\n",
        "from numpy.random import randn\n",
        "\n",
        "df = pd.DataFrame(randn(5,4),\n",
        "                  index='A B C D E'.split(),\n",
        "                  columns='W X Y Z'.split())\n",
        "df.describe()"
      ],
      "metadata": {
        "id": "_IOJRBXO555G"
      },
      "execution_count": null,
      "outputs": []
    },
    {
      "cell_type": "markdown",
      "source": [
        "My own example 126"
      ],
      "metadata": {
        "id": "ecEB83y52s9I"
      }
    },
    {
      "cell_type": "code",
      "source": [
        "import pandas as pd\n",
        "from numpy.random import randn\n",
        "\n",
        "df = pd.DataFrame(randn(5,4),\n",
        "                  index='A B C D E'.split(),\n",
        "                  columns='W X Y Z'.split())\n",
        "df.head()"
      ],
      "metadata": {
        "id": "vYuLlX6w6NSx"
      },
      "execution_count": null,
      "outputs": []
    },
    {
      "cell_type": "markdown",
      "source": [
        "My own example 127"
      ],
      "metadata": {
        "id": "yXVXXhxz2thT"
      }
    },
    {
      "cell_type": "code",
      "source": [
        "import pandas as pd\n",
        "from numpy.random import randn\n",
        "\n",
        "df = pd.DataFrame(randn(5,4),\n",
        "                  index='A B C D E'.split(),\n",
        "                  columns='W X Y Z'.split())\n",
        "df.tail()"
      ],
      "metadata": {
        "id": "hgpeu60u6N4L"
      },
      "execution_count": null,
      "outputs": []
    },
    {
      "cell_type": "markdown",
      "source": [
        "My own example 128"
      ],
      "metadata": {
        "id": "1SgTWp-r2uMK"
      }
    },
    {
      "cell_type": "code",
      "source": [
        "import pandas as pd\n",
        "from numpy.random import randn\n",
        "\n",
        "df = pd.DataFrame(randn(5,4),\n",
        "                  index='A B C D E'.split(),\n",
        "                  columns='W X Y Z'.split())\n",
        "df['W']"
      ],
      "metadata": {
        "id": "OnroxWdb6aOY"
      },
      "execution_count": null,
      "outputs": []
    },
    {
      "cell_type": "markdown",
      "source": [
        "My own example 129"
      ],
      "metadata": {
        "id": "vKdM8IxQ2uwk"
      }
    },
    {
      "cell_type": "code",
      "source": [
        "import pandas as pd\n",
        "from numpy.random import randn\n",
        "\n",
        "df = pd.DataFrame(randn(5,4),\n",
        "                  index='A B C D E'.split(),\n",
        "                  columns='W X Y Z'.split())\n",
        "df[['W','Z']]"
      ],
      "metadata": {
        "id": "jWO1vdQN6axp"
      },
      "execution_count": null,
      "outputs": []
    },
    {
      "cell_type": "markdown",
      "source": [
        "My own example 130"
      ],
      "metadata": {
        "id": "yeAT9VbD2v1b"
      }
    },
    {
      "cell_type": "code",
      "source": [
        "import pandas as pd\n",
        "from numpy.random import randn\n",
        "\n",
        "df = pd.DataFrame(randn(5,4),\n",
        "                  index='A B C D E'.split(),\n",
        "                  columns='W X Y Z'.split())\n",
        "df[['X','W','Z']] "
      ],
      "metadata": {
        "id": "p2QznoDz6bOB"
      },
      "execution_count": null,
      "outputs": []
    },
    {
      "cell_type": "markdown",
      "source": [
        "My own example 131"
      ],
      "metadata": {
        "id": "oLiYRi_l2xuc"
      }
    },
    {
      "cell_type": "code",
      "source": [
        "import pandas as pd\n",
        "from numpy.random import randn\n",
        "\n",
        "df = pd.DataFrame(randn(5,4),\n",
        "                  index='A B C D E'.split(),\n",
        "                  columns='W X Y Z'.split())\n",
        "type(df['W'])"
      ],
      "metadata": {
        "id": "DOaYJthG6bzM"
      },
      "execution_count": null,
      "outputs": []
    },
    {
      "cell_type": "markdown",
      "source": [
        "My own example 132"
      ],
      "metadata": {
        "id": "sjcapIWW2y1k"
      }
    },
    {
      "cell_type": "code",
      "source": [
        "import pandas as pd\n",
        "from numpy.random import randn\n",
        "\n",
        "df = pd.DataFrame(randn(5,4),\n",
        "                  index='A B C D E'.split(),\n",
        "                  columns='W X Y Z'.split())\n",
        "df['new'] = df['W'] + df['Y']\n",
        "df"
      ],
      "metadata": {
        "id": "xR1baXzh6cXB"
      },
      "execution_count": null,
      "outputs": []
    },
    {
      "cell_type": "markdown",
      "source": [
        "My own example 133"
      ],
      "metadata": {
        "id": "UQ0zJ8TZ2zb8"
      }
    },
    {
      "cell_type": "code",
      "source": [
        "import pandas as pd\n",
        "from numpy.random import randn\n",
        "\n",
        "df = pd.DataFrame(randn(5,4),index='A B C D E'.split(),columns='W X Y Z'.split())\n",
        "df.drop('Z',axis=1)"
      ],
      "metadata": {
        "id": "7mMyZ3tc6cxy"
      },
      "execution_count": null,
      "outputs": []
    },
    {
      "cell_type": "markdown",
      "source": [
        "My own example 134"
      ],
      "metadata": {
        "id": "_j4gv5de20C8"
      }
    },
    {
      "cell_type": "code",
      "source": [
        "import pandas as pd\n",
        "from numpy.random import randn\n",
        "\n",
        "df = pd.DataFrame(randn(5,4),\n",
        "                  index='A B C D E'.split(),\n",
        "                  columns='W X Y Z'.split())\n",
        "df.drop('A',axis=0)"
      ],
      "metadata": {
        "id": "qnJgeVKU6dP_"
      },
      "execution_count": null,
      "outputs": []
    },
    {
      "cell_type": "markdown",
      "source": [
        "My own example 135"
      ],
      "metadata": {
        "id": "842s2LDK2061"
      }
    },
    {
      "cell_type": "code",
      "source": [
        "import pandas as pd\n",
        "from numpy.random import randn\n",
        "\n",
        "df = pd.DataFrame(randn(5,4),index='A B C D E'.split(),columns='W X Y Z'.split())\n",
        "df.drop('Z',axis=1, inplace=True)\n",
        "df"
      ],
      "metadata": {
        "id": "8OOOLIMv6dvL"
      },
      "execution_count": null,
      "outputs": []
    },
    {
      "cell_type": "markdown",
      "source": [
        "My own example 136"
      ],
      "metadata": {
        "id": "Tu-we_w021q-"
      }
    },
    {
      "cell_type": "code",
      "source": [
        "import pandas as pd\n",
        "from numpy.random import randn\n",
        "\n",
        "df = pd.DataFrame(randn(5,4),\n",
        "                  index='A B C D E'.split(),\n",
        "                  columns='W X Y Z'.split())\n",
        "del df['Z']\n",
        "df "
      ],
      "metadata": {
        "id": "EsHrYW-R6eJ4"
      },
      "execution_count": null,
      "outputs": []
    },
    {
      "cell_type": "markdown",
      "source": [
        "My own example 137"
      ],
      "metadata": {
        "id": "DZjlNQJu22SG"
      }
    },
    {
      "cell_type": "code",
      "source": [
        "import pandas as pd\n",
        "from numpy.random import randn\n",
        "\n",
        "df = pd.DataFrame(randn(5,4),\n",
        "                  index='A B C D E'.split(),\n",
        "                  columns='W X Y Z'.split())\n",
        "df.columns "
      ],
      "metadata": {
        "id": "MDi87T8n72F-"
      },
      "execution_count": null,
      "outputs": []
    },
    {
      "cell_type": "markdown",
      "source": [
        "My own example 138"
      ],
      "metadata": {
        "id": "4fx1biOl225I"
      }
    },
    {
      "cell_type": "code",
      "source": [
        "import pandas as pd\n",
        "from numpy.random import randn\n",
        "\n",
        "df = pd.DataFrame(randn(5,4),\n",
        "                  index='A B C D E'.split(),\n",
        "                  columns='W X Y Z'.split())\n",
        "df.index"
      ],
      "metadata": {
        "id": "kVK_WgwS78Z5"
      },
      "execution_count": null,
      "outputs": []
    },
    {
      "cell_type": "markdown",
      "source": [
        "My own example 139"
      ],
      "metadata": {
        "id": "QN99TDIo23c3"
      }
    },
    {
      "cell_type": "code",
      "source": [
        "import pandas as pd\n",
        "from numpy.random import randn\n",
        "\n",
        "df = pd.DataFrame(randn(5,4),\n",
        "                  index='A B C D E'.split(),\n",
        "                  columns='W X Y Z'.split())\n",
        "df.loc['A']"
      ],
      "metadata": {
        "id": "_Fec_Whz79Da"
      },
      "execution_count": null,
      "outputs": []
    },
    {
      "cell_type": "markdown",
      "source": [
        "My own example 140"
      ],
      "metadata": {
        "id": "E6tdtEXsJjD0"
      }
    },
    {
      "cell_type": "code",
      "source": [
        "import numpy as np\n",
        "import matplotlib.pyplot as plt\n",
        "x = np.linspace(0,5, 11)\n",
        "y = x ** 2\n",
        "plt.plot(x, y)"
      ],
      "metadata": {
        "id": "KzVDQ-OTJjD2"
      },
      "execution_count": null,
      "outputs": []
    },
    {
      "cell_type": "markdown",
      "source": [
        "My own example 141"
      ],
      "metadata": {
        "id": "D-V7Cbc9JjD3"
      }
    },
    {
      "cell_type": "code",
      "source": [
        "import numpy as np\n",
        "import matplotlib.pyplot as plt\n",
        "x = np.linspace(0,5, 11)\n",
        "y = x ** 2\n",
        "plt.plot(x, y)\n",
        "plt.title('Titulo de la grafica');"
      ],
      "metadata": {
        "id": "8GdLcm7jJjD4"
      },
      "execution_count": null,
      "outputs": []
    },
    {
      "cell_type": "markdown",
      "source": [
        "My own example 142"
      ],
      "metadata": {
        "id": "iWJIlAyKJjD6"
      }
    },
    {
      "cell_type": "code",
      "source": [
        "import numpy as np\n",
        "import matplotlib.pyplot as plt\n",
        "x = np.linspace(0,5, 11)\n",
        "y = x ** 2\n",
        "plt.plot(x, y)\n",
        "plt.title('Titulo de la grafica');"
      ],
      "metadata": {
        "id": "0U25yDfmJjD7"
      },
      "execution_count": null,
      "outputs": []
    },
    {
      "cell_type": "markdown",
      "source": [
        "My own example 143"
      ],
      "metadata": {
        "id": "n6viIFxYJsgi"
      }
    },
    {
      "cell_type": "code",
      "source": [
        "import numpy as np\n",
        "import matplotlib.pyplot as plt\n",
        "x = np.linspace(0,5, 11)\n",
        "y = x ** 2\n",
        "plt.plot(x, y)\n",
        "plt.title('Titulo de la grafica')\n",
        "plt.xlabel('Nombre del eje X')\n",
        "plt.ylabel('Nombre del eje Y')"
      ],
      "metadata": {
        "id": "-r2eP4ptJprn"
      },
      "execution_count": null,
      "outputs": []
    },
    {
      "cell_type": "markdown",
      "source": [
        "My own example 144"
      ],
      "metadata": {
        "id": "CcHuy-ZGJxIw"
      }
    },
    {
      "cell_type": "code",
      "source": [
        "import numpy as np\n",
        "import matplotlib.pyplot as plt\n",
        "x = np.linspace(0,5, 11)\n",
        "y = x ** 2\n",
        "plt.plot(x, x**2, 'b.-')\n",
        "plt.plot(x, x**3, 'g--')\n",
        "plt.title('Titulo de la grafica')\n",
        "plt.xlabel('Nombre del eje X')\n",
        "plt.ylabel('Nombre del eje Y')"
      ],
      "metadata": {
        "id": "Y0NrTCF0J2y1"
      },
      "execution_count": null,
      "outputs": []
    },
    {
      "cell_type": "markdown",
      "source": [
        "My own example 145"
      ],
      "metadata": {
        "id": "uouGrPsLJyCL"
      }
    },
    {
      "cell_type": "code",
      "source": [
        "import numpy as np\n",
        "import matplotlib.pyplot as plt\n",
        "x = np.linspace(0,5, 11)\n",
        "y = x ** 2\n",
        "plt.plot(x, x, color=\"red\")\n",
        "plt.plot(x, x+1, color=\"red\", alpha=0.5)\n",
        "plt.plot(x, x+2, color=\"#8B008B\") \n",
        "plt.plot(x, x+3, color=\"#F08C08\") \n",
        "plt.grid(True)\n",
        "plt.title('Titulo de la grafica')\n",
        "plt.xlabel('Nombre del eje X')\n",
        "plt.ylabel('Nombre del eje Y')"
      ],
      "metadata": {
        "id": "0B6tF8AqJ3WV"
      },
      "execution_count": null,
      "outputs": []
    },
    {
      "cell_type": "markdown",
      "source": [
        "My own example 146"
      ],
      "metadata": {
        "id": "hvOPb8idJy4y"
      }
    },
    {
      "cell_type": "code",
      "source": [
        "import numpy as np\n",
        "import matplotlib.pyplot as plt\n",
        "x = np.linspace(0,5, 11)\n",
        "y = x ** 2\n",
        "plt.subplots(figsize=(12,6))\n",
        "\n",
        "plt.plot(x, x+1, color=\"red\", linewidth=0.25)\n",
        "plt.plot(x, x+2, color=\"red\", linewidth=0.50)\n",
        "plt.plot(x, x+3, color=\"red\", linewidth=1.00)\n",
        "plt.plot(x, x+4, color=\"red\", linewidth=2.00)\n",
        "plt.plot(x, x+5, color=\"green\", lw=3, linestyle='-')\n",
        "plt.plot(x, x+6, color=\"green\", lw=3, ls='-.')\n",
        "plt.plot(x, x+7, color=\"green\", lw=3, ls=':')\n",
        "line, = plt.plot(x, x+8, color=\"black\", lw=1.50)\n",
        "line.set_dashes([5, 10, 15, 10])\n",
        "plt.plot(x, x+ 9, color=\"blue\", lw=3, ls='-', marker='+')\n",
        "plt.plot(x, x+10, color=\"blue\", lw=3, ls='--', marker='o')\n",
        "plt.plot(x, x+11, color=\"blue\", lw=3, ls='-', marker='s')\n",
        "plt.plot(x, x+12, color=\"blue\", lw=3, ls='--', marker='1')\n",
        "plt.plot(x, x+13, color=\"purple\", lw=1, ls='-', marker='o', markersize=2)\n",
        "plt.plot(x, x+14, color=\"purple\", lw=1, ls='-', marker='o', markersize=4)\n",
        "plt.plot(x, x+15, color=\"purple\", lw=1, ls='-', marker='o', markersize=8, markerfacecolor=\"red\")\n",
        "plt.plot(x, x+16, color=\"purple\", lw=1, ls='-', marker='s', markersize=8, \n",
        "        markerfacecolor=\"yellow\", markeredgewidth=3, markeredgecolor=\"green\");\n",
        "plt.title('Titulo de la grafica')\n",
        "plt.xlabel('Nombre del eje X')\n",
        "plt.ylabel('Nombre del eje Y')"
      ],
      "metadata": {
        "id": "utmtAiZKJ36X"
      },
      "execution_count": null,
      "outputs": []
    },
    {
      "cell_type": "markdown",
      "source": [
        "My own example 147"
      ],
      "metadata": {
        "id": "sQe7S5doJzn7"
      }
    },
    {
      "cell_type": "code",
      "source": [
        "import numpy as np\n",
        "import matplotlib.pyplot as plt\n",
        "x = np.linspace(0,5, 11)\n",
        "y = x ** 2\n",
        "plt.subplot(1,2,1)\n",
        "plt.plot(x, y, 'r--')\n",
        "plt.subplot(1,2,2)\n",
        "plt.plot(y, x, 'g*-')\n",
        "plt.tight_layout()\n",
        "plt.title('Titulo de la grafica')\n",
        "plt.xlabel('Nombre del eje X')\n",
        "plt.ylabel('Nombre del eje Y')"
      ],
      "metadata": {
        "id": "q3ARZMeyJ4St"
      },
      "execution_count": null,
      "outputs": []
    },
    {
      "cell_type": "markdown",
      "source": [
        "My own example 148"
      ],
      "metadata": {
        "id": "9NlXWetUJ1Jr"
      }
    },
    {
      "cell_type": "code",
      "source": [
        "import numpy as np\n",
        "import matplotlib.pyplot as plt\n",
        "plt.subplot2grid((3,3), (0,0), colspan=3)\n",
        "plt.subplot2grid((3,3), (1,0), colspan=2)\n",
        "plt.subplot2grid((3,3), (1,2), rowspan=2)\n",
        "plt.subplot2grid((3,3), (2,0))\n",
        "plt.subplot2grid((3,3), (2,1))\n",
        "plt.tight_layout()"
      ],
      "metadata": {
        "id": "54bqyFw4J4pG"
      },
      "execution_count": null,
      "outputs": []
    },
    {
      "cell_type": "markdown",
      "source": [
        "My own example 149"
      ],
      "metadata": {
        "id": "NWbCUDAOJ1zn"
      }
    },
    {
      "cell_type": "code",
      "source": [
        "import numpy as np\n",
        "import matplotlib.pyplot as plt\n",
        "x = np.linspace(0,5, 11)\n",
        "y = x ** 2\n",
        "plt.figure(figsize=(12, 4))\n",
        "\n",
        "plt.subplot(1,3,1)\n",
        "plt.plot(x, x**2, x, x**3)\n",
        "plt.title(\"Rango por defecto de los ejes\")"
      ],
      "metadata": {
        "id": "T05qBqR5J5Cp"
      },
      "execution_count": null,
      "outputs": []
    },
    {
      "cell_type": "markdown",
      "source": [
        "My own example 150"
      ],
      "metadata": {
        "id": "KQP6Xf4024TR"
      }
    },
    {
      "cell_type": "code",
      "source": [
        "import pandas as pd\n",
        "from numpy.random import randn\n",
        "\n",
        "df = pd.DataFrame(randn(5,4),\n",
        "                  index='A B C D E'.split(),\n",
        "                  columns='W X Y Z'.split())\n",
        "df.iloc[2]"
      ],
      "metadata": {
        "id": "ucr-QNrT79ts"
      },
      "execution_count": null,
      "outputs": []
    },
    {
      "cell_type": "markdown",
      "source": [
        "My own example 151"
      ],
      "metadata": {
        "id": "3bv984L327wZ"
      }
    },
    {
      "cell_type": "code",
      "source": [
        "import pandas as pd\n",
        "from numpy.random import randn\n",
        "\n",
        "df = pd.DataFrame(randn(5,4),\n",
        "                  index='A B C D E'.split(),\n",
        "                  columns='W X Y Z'.split())\n",
        "df.loc['B','Y']"
      ],
      "metadata": {
        "id": "eqgmvhva7-Jy"
      },
      "execution_count": null,
      "outputs": []
    },
    {
      "cell_type": "markdown",
      "source": [
        "My own example 152"
      ],
      "metadata": {
        "id": "VCOGWsVG28uh"
      }
    },
    {
      "cell_type": "code",
      "source": [
        "import pandas as pd\n",
        "from numpy.random import randn\n",
        "\n",
        "df = pd.DataFrame(randn(5,4),\n",
        "                  index='A B C D E'.split(),\n",
        "                  columns='W X Y Z'.split())\n",
        "df.loc[['A','B'],['W','Y']]"
      ],
      "metadata": {
        "id": "JVX9WN4W7_tc"
      },
      "execution_count": null,
      "outputs": []
    },
    {
      "cell_type": "markdown",
      "source": [
        "My own example 153"
      ],
      "metadata": {
        "id": "vn-T7YfC2-C0"
      }
    },
    {
      "cell_type": "code",
      "source": [
        "import pandas as pd\n",
        "from numpy.random import randn\n",
        "\n",
        "df = pd.DataFrame(randn(5,4),\n",
        "                  index='A B C D E'.split(),\n",
        "                  columns='W X Y Z'.split())\n",
        "df.loc[['B','A'],['Y','W']] "
      ],
      "metadata": {
        "id": "4686m60j8AYU"
      },
      "execution_count": null,
      "outputs": []
    },
    {
      "cell_type": "markdown",
      "source": [
        "My own example 154"
      ],
      "metadata": {
        "id": "3a9MCljf2-37"
      }
    },
    {
      "cell_type": "code",
      "source": [
        "import pandas as pd\n",
        "from numpy.random import randn\n",
        "\n",
        "df = pd.DataFrame(randn(5,4),\n",
        "                  index='A B C D E'.split(),\n",
        "                  columns='W X Y Z'.split())\n",
        "df>0"
      ],
      "metadata": {
        "id": "xeTjsWVq8BCl"
      },
      "execution_count": null,
      "outputs": []
    },
    {
      "cell_type": "markdown",
      "source": [
        "My own example 155"
      ],
      "metadata": {
        "id": "ZevBEOrd2_Zs"
      }
    },
    {
      "cell_type": "code",
      "source": [
        "import pandas as pd\n",
        "from numpy.random import randn\n",
        "\n",
        "df = pd.DataFrame(randn(5,4),\n",
        "                  index='A B C D E'.split(),\n",
        "                  columns='W X Y Z'.split())\n",
        "df[df>0]"
      ],
      "metadata": {
        "id": "awPRpjyV8BpD"
      },
      "execution_count": null,
      "outputs": []
    },
    {
      "cell_type": "markdown",
      "source": [
        "My own example 156"
      ],
      "metadata": {
        "id": "UTfywp983ACc"
      }
    },
    {
      "cell_type": "code",
      "source": [
        "import pandas as pd\n",
        "from numpy.random import randn\n",
        "\n",
        "df = pd.DataFrame(randn(5,4),\n",
        "                  index='A B C D E'.split(),\n",
        "                  columns='W X Y Z'.split())\n",
        "df[df['W']>0]"
      ],
      "metadata": {
        "id": "6SYG5rzI8CgU"
      },
      "execution_count": null,
      "outputs": []
    },
    {
      "cell_type": "markdown",
      "source": [
        "My own example 157"
      ],
      "metadata": {
        "id": "MfXbNIQa3BHc"
      }
    },
    {
      "cell_type": "code",
      "source": [
        "import pandas as pd\n",
        "from numpy.random import randn\n",
        "\n",
        "df = pd.DataFrame(randn(5,4),\n",
        "                  index='A B C D E'.split(),\n",
        "                  columns='W X Y Z'.split())\n",
        "df[df['W']>0]['Y']"
      ],
      "metadata": {
        "id": "-DSQVzsr8DEg"
      },
      "execution_count": null,
      "outputs": []
    },
    {
      "cell_type": "markdown",
      "source": [
        "My own example 158"
      ],
      "metadata": {
        "id": "AB20r5Aj3Byw"
      }
    },
    {
      "cell_type": "code",
      "source": [
        "import pandas as pd\n",
        "from numpy.random import randn\n",
        "\n",
        "df = pd.DataFrame(randn(5,4),\n",
        "                  index='A B C D E'.split(),\n",
        "                  columns='W X Y Z'.split())\n",
        "df[df['W']>0][['Y','Z']]"
      ],
      "metadata": {
        "id": "Sled1iGB8D6t"
      },
      "execution_count": null,
      "outputs": []
    },
    {
      "cell_type": "markdown",
      "source": [
        "My own example 159"
      ],
      "metadata": {
        "id": "O7ZsX5dV3CiF"
      }
    },
    {
      "cell_type": "code",
      "source": [
        "import pandas as pd\n",
        "from numpy.random import randn\n",
        "\n",
        "df = pd.DataFrame(randn(5,4),\n",
        "                  index='A B C D E'.split(),\n",
        "                  columns='W X Y Z'.split())\n",
        "df[(df['W']>0) & (df['Y'] > 0.5)]"
      ],
      "metadata": {
        "id": "xfjC-S4z8Ewm"
      },
      "execution_count": null,
      "outputs": []
    },
    {
      "cell_type": "markdown",
      "source": [
        "My own example 160"
      ],
      "metadata": {
        "id": "rbXzHiIc3DTd"
      }
    },
    {
      "cell_type": "code",
      "source": [
        "import pandas as pd\n",
        "from numpy.random import randn\n",
        "\n",
        "df = pd.DataFrame(randn(5,4),\n",
        "                  index='A B C D E'.split(),\n",
        "                  columns='W X Y Z'.split())\n",
        "df.query('W>0')"
      ],
      "metadata": {
        "id": "IlLKqac28FVd"
      },
      "execution_count": null,
      "outputs": []
    },
    {
      "cell_type": "markdown",
      "source": [
        "My own example 161"
      ],
      "metadata": {
        "id": "CLOGYT9B3Fbg"
      }
    },
    {
      "cell_type": "code",
      "source": [
        "import pandas as pd\n",
        "from numpy.random import randn\n",
        "\n",
        "df = pd.DataFrame(randn(5,4),\n",
        "                  index='A B C D E'.split(),\n",
        "                  columns='W X Y Z'.split())\n",
        "df.query('W>0')['Y']"
      ],
      "metadata": {
        "id": "JHuz5-5K8-nI"
      },
      "execution_count": null,
      "outputs": []
    },
    {
      "cell_type": "markdown",
      "source": [
        "My own example 162"
      ],
      "metadata": {
        "id": "9Q5HY7Zr3GVv"
      }
    },
    {
      "cell_type": "code",
      "source": [
        "import pandas as pd\n",
        "from numpy.random import randn\n",
        "\n",
        "df = pd.DataFrame(randn(5,4),\n",
        "                  index='A B C D E'.split(),\n",
        "                  columns='W X Y Z'.split())\n",
        "df.query('W>0')[['Y','Z']]"
      ],
      "metadata": {
        "id": "QpRy2cFr8_Ee"
      },
      "execution_count": null,
      "outputs": []
    },
    {
      "cell_type": "markdown",
      "source": [
        "My own example 163"
      ],
      "metadata": {
        "id": "NsU_OpDy3G6f"
      }
    },
    {
      "cell_type": "code",
      "source": [
        "import pandas as pd\n",
        "from numpy.random import randn\n",
        "\n",
        "df = pd.DataFrame(randn(5,4),\n",
        "                  index='A B C D E'.split(),\n",
        "                  columns='W X Y Z'.split())\n",
        "df.query('W>0 and Y>0.5')"
      ],
      "metadata": {
        "id": "UupI-QLP8_tA"
      },
      "execution_count": null,
      "outputs": []
    },
    {
      "cell_type": "markdown",
      "source": [
        "My own example 164"
      ],
      "metadata": {
        "id": "EPOnTJN03HjU"
      }
    },
    {
      "cell_type": "code",
      "source": [
        "import pandas as pd\n",
        "from numpy.random import randn\n",
        "\n",
        "df = pd.DataFrame(randn(5,4),\n",
        "                  index='A B C D E'.split(),\n",
        "                  columns='W X Y Z'.split())\n",
        "df = df.reset_index()\n",
        "df"
      ],
      "metadata": {
        "id": "YuXLMg_29ANg"
      },
      "execution_count": null,
      "outputs": []
    },
    {
      "cell_type": "markdown",
      "source": [
        "My own example 165"
      ],
      "metadata": {
        "id": "AqiLFSDP3IKr"
      }
    },
    {
      "cell_type": "code",
      "source": [
        "import pandas as pd\n",
        "from numpy.random import randn\n",
        "\n",
        "df = pd.DataFrame(randn(5,4),\n",
        "                  index='A B C D E'.split(),\n",
        "                  columns='W X Y Z'.split())\n",
        "newind = 'CA NY WY OR CO'.split()\n",
        "df['States'] = newind\n",
        "df"
      ],
      "metadata": {
        "id": "YC9NPjKo9BJ4"
      },
      "execution_count": null,
      "outputs": []
    },
    {
      "cell_type": "markdown",
      "source": [
        "My own example 166"
      ],
      "metadata": {
        "id": "P4aIscmY3I5J"
      }
    },
    {
      "cell_type": "code",
      "source": [
        "import pandas as pd\n",
        "from numpy.random import randn\n",
        "\n",
        "df = pd.DataFrame(randn(5,4),\n",
        "                  index='A B C D E'.split(),\n",
        "                  columns='W X Y Z'.split())\n",
        "newind = 'CA NY WY OR CO'.split()\n",
        "df['States'] = newind\n",
        "df.set_index('States')"
      ],
      "metadata": {
        "id": "T88dbjus9BxL"
      },
      "execution_count": null,
      "outputs": []
    },
    {
      "cell_type": "markdown",
      "source": [
        "My own example 167"
      ],
      "metadata": {
        "id": "W_FAzFwH3Jmx"
      }
    },
    {
      "cell_type": "code",
      "source": [
        "import pandas as pd\n",
        "from numpy.random import randn\n",
        "\n",
        "df = pd.DataFrame(randn(5,4),\n",
        "                  index='A B C D E'.split(),\n",
        "                  columns='W X Y Z'.split())\n",
        "newind = 'CA NY WY OR CO'.split()\n",
        "df['States'] = newind\n",
        "df.set_index('States',inplace=True)\n",
        "df"
      ],
      "metadata": {
        "id": "1timec7T9C_Y"
      },
      "execution_count": null,
      "outputs": []
    },
    {
      "cell_type": "markdown",
      "source": [
        "My own example 168"
      ],
      "metadata": {
        "id": "xtEyzGJF3Mqi"
      }
    },
    {
      "cell_type": "code",
      "source": [
        "import pandas as pd\n",
        "data = {'Company':['GOOG','GOOG','MSFT','MSFT','FB','FB'],\n",
        "       'Person':['Sam','Charlie','Amy','Vanessa','Carl','Sarah'],\n",
        "       'Sales':[200,120,340,124,243,350]}\n",
        "df = pd.DataFrame(data)\n",
        "df"
      ],
      "metadata": {
        "id": "kuaGV1FI9CjZ"
      },
      "execution_count": null,
      "outputs": []
    },
    {
      "cell_type": "markdown",
      "source": [
        "My own example 169"
      ],
      "metadata": {
        "id": "07Wrxotp3NT7"
      }
    },
    {
      "cell_type": "code",
      "source": [
        "import pandas as pd\n",
        "data = {'Company':['GOOG','GOOG','MSFT','MSFT','FB','FB'],\n",
        "       'Person':['Sam','Charlie','Amy','Vanessa','Carl','Sarah'],\n",
        "       'Sales':[200,120,340,124,243,350]}\n",
        "df = pd.DataFrame(data)\n",
        "df.groupby('Company')"
      ],
      "metadata": {
        "id": "-PKb7o799Dli"
      },
      "execution_count": null,
      "outputs": []
    },
    {
      "cell_type": "markdown",
      "source": [
        "My own example 170"
      ],
      "metadata": {
        "id": "x45KewYn3OlA"
      }
    },
    {
      "cell_type": "code",
      "source": [
        "import pandas as pd\n",
        "data = {'Company':['GOOG','GOOG','MSFT','MSFT','FB','FB'],\n",
        "       'Person':['Sam','Charlie','Amy','Vanessa','Carl','Sarah'],\n",
        "       'Sales':[200,120,340,124,243,350]}\n",
        "df = pd.DataFrame(data)\n",
        "by_comp = df.groupby(\"Company\")\n",
        "by_comp.mean()"
      ],
      "metadata": {
        "id": "Og8f-F0b9EFb"
      },
      "execution_count": null,
      "outputs": []
    },
    {
      "cell_type": "markdown",
      "source": [
        "My own example 171"
      ],
      "metadata": {
        "id": "FliMp_Bn3RK1"
      }
    },
    {
      "cell_type": "code",
      "source": [
        "import pandas as pd\n",
        "data = {'Company':['GOOG','GOOG','MSFT','MSFT','FB','FB'],\n",
        "       'Person':['Sam','Charlie','Amy','Vanessa','Carl','Sarah'],\n",
        "       'Sales':[200,120,340,124,243,350]}\n",
        "df = pd.DataFrame(data)\n",
        "df.groupby('Company').mean()"
      ],
      "metadata": {
        "id": "hQ1zc-ks9Ezq"
      },
      "execution_count": null,
      "outputs": []
    },
    {
      "cell_type": "markdown",
      "source": [
        "My own example 172"
      ],
      "metadata": {
        "id": "3bvi8YM03S9m"
      }
    },
    {
      "cell_type": "code",
      "source": [
        "import pandas as pd\n",
        "data = {'Company':['GOOG','GOOG','MSFT','MSFT','FB','FB'],\n",
        "       'Person':['Sam','Charlie','Amy','Vanessa','Carl','Sarah'],\n",
        "       'Sales':[200,120,340,124,243,350]}\n",
        "df = pd.DataFrame(data)\n",
        "by_comp = df.groupby(\"Company\")\n",
        "by_comp.std()"
      ],
      "metadata": {
        "id": "orvQUkgU9FPp"
      },
      "execution_count": null,
      "outputs": []
    },
    {
      "cell_type": "markdown",
      "source": [
        "My own example 173"
      ],
      "metadata": {
        "id": "vDFPzvYv3Tku"
      }
    },
    {
      "cell_type": "code",
      "source": [
        "import pandas as pd\n",
        "data = {'Company':['GOOG','GOOG','MSFT','MSFT','FB','FB'],\n",
        "       'Person':['Sam','Charlie','Amy','Vanessa','Carl','Sarah'],\n",
        "       'Sales':[200,120,340,124,243,350]}\n",
        "df = pd.DataFrame(data)\n",
        "by_comp = df.groupby(\"Company\")\n",
        "by_comp.min()"
      ],
      "metadata": {
        "id": "TxuUTcpx9F5i"
      },
      "execution_count": null,
      "outputs": []
    },
    {
      "cell_type": "markdown",
      "source": [
        "My own example 174"
      ],
      "metadata": {
        "id": "m7KZyKtD3UR_"
      }
    },
    {
      "cell_type": "code",
      "source": [
        "import pandas as pd\n",
        "data = {'Company':['GOOG','GOOG','MSFT','MSFT','FB','FB'],\n",
        "       'Person':['Sam','Charlie','Amy','Vanessa','Carl','Sarah'],\n",
        "       'Sales':[200,120,340,124,243,350]}\n",
        "df = pd.DataFrame(data)\n",
        "by_comp = df.groupby(\"Company\")\n",
        "by_comp.max()"
      ],
      "metadata": {
        "id": "XtwtIn2j9GR7"
      },
      "execution_count": null,
      "outputs": []
    },
    {
      "cell_type": "markdown",
      "source": [
        "My own example 175"
      ],
      "metadata": {
        "id": "nuo2tGLw3U1f"
      }
    },
    {
      "cell_type": "code",
      "source": [
        "import pandas as pd\n",
        "data = {'Company':['GOOG','GOOG','MSFT','MSFT','FB','FB'],\n",
        "       'Person':['Sam','Charlie','Amy','Vanessa','Carl','Sarah'],\n",
        "       'Sales':[200,120,340,124,243,350]}\n",
        "df = pd.DataFrame(data)\n",
        "by_comp = df.groupby(\"Company\")\n",
        "by_comp.count()"
      ],
      "metadata": {
        "id": "sDrNtWw--07y"
      },
      "execution_count": null,
      "outputs": []
    },
    {
      "cell_type": "markdown",
      "source": [
        "My own example 176"
      ],
      "metadata": {
        "id": "g6vg2D-l3VZo"
      }
    },
    {
      "cell_type": "code",
      "source": [
        "import pandas as pd\n",
        "data = {'Company':['GOOG','GOOG','MSFT','MSFT','FB','FB'],\n",
        "       'Person':['Sam','Charlie','Amy','Vanessa','Carl','Sarah'],\n",
        "       'Sales':[200,120,340,124,243,350]}\n",
        "df = pd.DataFrame(data)\n",
        "by_comp = df.groupby(\"Company\")\n",
        "by_comp.describe()"
      ],
      "metadata": {
        "id": "IyWgMuAh-1br"
      },
      "execution_count": null,
      "outputs": []
    },
    {
      "cell_type": "markdown",
      "source": [
        "My own example 177"
      ],
      "metadata": {
        "id": "cd-eMs-_3WGQ"
      }
    },
    {
      "cell_type": "code",
      "source": [
        "import pandas as pd\n",
        "data = {'Company':['GOOG','GOOG','MSFT','MSFT','FB','FB'],\n",
        "       'Person':['Sam','Charlie','Amy','Vanessa','Carl','Sarah'],\n",
        "       'Sales':[200,120,340,124,243,350]}\n",
        "df = pd.DataFrame(data)\n",
        "by_comp = df.groupby(\"Company\")\n",
        "by_comp.transpose()"
      ],
      "metadata": {
        "id": "zyLd9S0r-15N"
      },
      "execution_count": null,
      "outputs": []
    },
    {
      "cell_type": "markdown",
      "source": [
        "My own example 178"
      ],
      "metadata": {
        "id": "9NKZY6M83Wro"
      }
    },
    {
      "cell_type": "code",
      "source": [
        "import pandas as pd\n",
        "data = {'Company':['GOOG','GOOG','MSFT','MSFT','FB','FB'],\n",
        "       'Person':['Sam','Charlie','Amy','Vanessa','Carl','Sarah'],\n",
        "       'Sales':[200,120,340,124,243,350]}\n",
        "df = pd.DataFrame(data)\n",
        "by_comp = df.groupby(\"Company\")\n",
        "by_comp.transpose()['GOOG']"
      ],
      "metadata": {
        "id": "SY8Vc_Os-2Wy"
      },
      "execution_count": null,
      "outputs": []
    },
    {
      "cell_type": "markdown",
      "source": [
        "My own example 179"
      ],
      "metadata": {
        "id": "L9G17E4B3X0q"
      }
    },
    {
      "cell_type": "code",
      "source": [
        "import pandas as pd\n",
        "data = {'A':['foo','foo','foo','bar','bar','bar'],\n",
        "     'B':['one','one','two','two','one','one'],\n",
        "       'C':['x','y','x','y','x','y'],\n",
        "       'D':[1,3,2,5,4,1]}\n",
        "df = pd.DataFrame(data)\n",
        "df.pivot_table(values='D',index=['A', 'B'],columns=['C'])"
      ],
      "metadata": {
        "id": "rblKwxRN-2ps"
      },
      "execution_count": null,
      "outputs": []
    },
    {
      "cell_type": "markdown",
      "source": [
        "My own example 180"
      ],
      "metadata": {
        "id": "lGpsnkns3ZjK"
      }
    },
    {
      "cell_type": "code",
      "source": [
        "import pandas as pd\n",
        "\n",
        "df1 = pd.DataFrame({'A': ['A0', 'A1', 'A2', 'A3'],\n",
        "                        'B': ['B0', 'B1', 'B2', 'B3'],\n",
        "                        'C': ['C0', 'C1', 'C2', 'C3'],\n",
        "                        'D': ['D0', 'D1', 'D2', 'D3']},\n",
        "                        index=[0, 1, 2, 3])\n",
        "\n",
        "df2 = pd.DataFrame({'A': ['A4', 'A5', 'A6', 'A7'],\n",
        "                        'B': ['B4', 'B5', 'B6', 'B7'],\n",
        "                        'C': ['C4', 'C5', 'C6', 'C7'],\n",
        "                        'D': ['D4', 'D5', 'D6', 'D7']},\n",
        "                         index=[4, 5, 6, 7]) \n",
        "\n",
        "df3 = pd.DataFrame({'A': ['A8', 'A9', 'A10', 'A11'],\n",
        "                        'B': ['B8', 'B9', 'B10', 'B11'],\n",
        "                        'C': ['C8', 'C9', 'C10', 'C11'],\n",
        "                        'D': ['D8', 'D9', 'D10', 'D11']},\n",
        "                        index=[8, 9, 10, 11])\n",
        "pd.concat([df1,df2,df3])"
      ],
      "metadata": {
        "id": "k70mH2x4-3Yb"
      },
      "execution_count": null,
      "outputs": []
    },
    {
      "cell_type": "markdown",
      "source": [
        "My own example 181"
      ],
      "metadata": {
        "id": "-gB69yF_3bhz"
      }
    },
    {
      "cell_type": "code",
      "source": [
        "import pandas as pd\n",
        "\n",
        "df1 = pd.DataFrame({'A': ['A0', 'A1', 'A2', 'A3'],\n",
        "                        'B': ['B0', 'B1', 'B2', 'B3'],\n",
        "                        'C': ['C0', 'C1', 'C2', 'C3'],\n",
        "                        'D': ['D0', 'D1', 'D2', 'D3']},\n",
        "                        index=[0, 1, 2, 3])\n",
        "\n",
        "df2 = pd.DataFrame({'A': ['A4', 'A5', 'A6', 'A7'],\n",
        "                        'B': ['B4', 'B5', 'B6', 'B7'],\n",
        "                        'C': ['C4', 'C5', 'C6', 'C7'],\n",
        "                        'D': ['D4', 'D5', 'D6', 'D7']},\n",
        "                         index=[4, 5, 6, 7]) \n",
        "\n",
        "df3 = pd.DataFrame({'A': ['A8', 'A9', 'A10', 'A11'],\n",
        "                        'B': ['B8', 'B9', 'B10', 'B11'],\n",
        "                        'C': ['C8', 'C9', 'C10', 'C11'],\n",
        "                        'D': ['D8', 'D9', 'D10', 'D11']},\n",
        "                        index=[8, 9, 10, 11])\n",
        "pd.concat([df1,df2,df3],axis=1)"
      ],
      "metadata": {
        "id": "v92tfqca_33p"
      },
      "execution_count": null,
      "outputs": []
    },
    {
      "cell_type": "markdown",
      "source": [
        "My own example 182"
      ],
      "metadata": {
        "id": "p-ejWCec3cco"
      }
    },
    {
      "cell_type": "code",
      "source": [
        "import pandas as pd\n",
        "left = pd.DataFrame({'key': ['K0', 'K1', 'K2', 'K3'],\n",
        "                     'A': ['A0', 'A1', 'A2', 'A3'],\n",
        "                     'B': ['B0', 'B1', 'B2', 'B3']})\n",
        "   \n",
        "right = pd.DataFrame({'key': ['K0', 'K1', 'K2', 'K3'],\n",
        "                          'C': ['C0', 'C1', 'C2', 'C3'],\n",
        "                          'D': ['D0', 'D1', 'D2', 'D3']})  \n",
        "pd.merge(left,right,how='inner',on='key')"
      ],
      "metadata": {
        "id": "N-ic59c-_-38"
      },
      "execution_count": null,
      "outputs": []
    },
    {
      "cell_type": "markdown",
      "source": [
        "My own example 183"
      ],
      "metadata": {
        "id": "fWR9MIW13dld"
      }
    },
    {
      "cell_type": "code",
      "source": [
        "import pandas as pd\n",
        "# crear un dataframe\n",
        "df = pd.DataFrame({'col1':[1,2,3,4],'col2':[444,555,666,444],\n",
        "                   'col3':['mama   ','  papa','   HIJO  ','HiJa']})\n",
        "df.sum()"
      ],
      "metadata": {
        "id": "3bIgZtBKAE-w"
      },
      "execution_count": null,
      "outputs": []
    },
    {
      "cell_type": "markdown",
      "source": [
        "My own example 184"
      ],
      "metadata": {
        "id": "Zs30Mwmy3ePN"
      }
    },
    {
      "cell_type": "code",
      "source": [
        "import pandas as pd\n",
        "# crear un dataframe\n",
        "df = pd.DataFrame({'col1':[1,2,3,4],'col2':[444,555,666,444],\n",
        "                   'col3':['mama   ','  papa','   HIJO  ','HiJa']})\n",
        "df['col1'].sum()"
      ],
      "metadata": {
        "id": "w_OO3h85IH49"
      },
      "execution_count": null,
      "outputs": []
    },
    {
      "cell_type": "markdown",
      "source": [
        "My own example 185"
      ],
      "metadata": {
        "id": "DXR_rWpg3ewW"
      }
    },
    {
      "cell_type": "code",
      "source": [
        "import pandas as pd\n",
        "# crear un dataframe\n",
        "df = pd.DataFrame({'col1':[1,2,3,4],'col2':[444,555,666,444],\n",
        "                   'col3':['mama   ','  papa','   HIJO  ','HiJa']})\n",
        "df[['col1','col2']].sum()"
      ],
      "metadata": {
        "id": "lDnEAGI5II6m"
      },
      "execution_count": null,
      "outputs": []
    },
    {
      "cell_type": "markdown",
      "source": [
        "My own example 186"
      ],
      "metadata": {
        "id": "b2VGgToO3fWO"
      }
    },
    {
      "cell_type": "code",
      "source": [
        "import pandas as pd\n",
        "# crear un dataframe\n",
        "df = pd.DataFrame({'col1':[1,2,3,4],'col2':[444,555,666,444],\n",
        "                   'col3':['mama   ','  papa','   HIJO  ','HiJa']})\n",
        "df.min()"
      ],
      "metadata": {
        "id": "u6zKB321IJfX"
      },
      "execution_count": null,
      "outputs": []
    },
    {
      "cell_type": "markdown",
      "source": [
        "My own example 187"
      ],
      "metadata": {
        "id": "MLsVgj6u3f9J"
      }
    },
    {
      "cell_type": "code",
      "source": [
        "import pandas as pd\n",
        "# crear un dataframe\n",
        "df = pd.DataFrame({'col1':[1,2,3,4],'col2':[444,555,666,444],\n",
        "                   'col3':['mama   ','  papa','   HIJO  ','HiJa']})\n",
        "df.max()"
      ],
      "metadata": {
        "id": "xG0I0xTzIKTm"
      },
      "execution_count": null,
      "outputs": []
    },
    {
      "cell_type": "markdown",
      "source": [
        "My own example 188"
      ],
      "metadata": {
        "id": "V9I3kSWo3giP"
      }
    },
    {
      "cell_type": "code",
      "source": [
        "import numpy as np\n",
        "import matplotlib.pyplot as plt\n",
        "x = np.linspace(0,5, 11)\n",
        "y = x ** 2\n",
        "xx = np.linspace(-0.75, 1., 100)\n",
        "plt.plot(xx, xx**2, xx, xx**3)\n",
        "plt.title(\"Plot con anotaciones\")\n",
        "plt.text(0.15, 0.2, r\"$y=x^2$\", fontsize=20, color=\"blue\")\n",
        "plt.text(0.65, 0.1, r\"$y=x^3$\", fontsize=20, color=\"green\");"
      ],
      "metadata": {
        "id": "bbtp67D2IK2f"
      },
      "execution_count": null,
      "outputs": []
    },
    {
      "cell_type": "markdown",
      "source": [
        "My own example 189"
      ],
      "metadata": {
        "id": "AO2giUag3hWO"
      }
    },
    {
      "cell_type": "code",
      "source": [
        "import numpy as np\n",
        "import matplotlib.pyplot as plt\n",
        "N = 50\n",
        "x = np.random.rand(N)\n",
        "y = np.random.rand(N)\n",
        "\n",
        "plt.scatter(x, y)\n",
        "plt.title(\"Scatter plot Simple\");\n",
        "plt.show()"
      ],
      "metadata": {
        "id": "8r1-ro1cILYm"
      },
      "execution_count": null,
      "outputs": []
    },
    {
      "cell_type": "markdown",
      "source": [
        "My own example 190"
      ],
      "metadata": {
        "id": "1faNC9mz3iHn"
      }
    },
    {
      "cell_type": "code",
      "source": [
        "import numpy as np\n",
        "import matplotlib.pyplot as plt\n",
        "N = 50\n",
        "x = np.random.rand(N)\n",
        "y = np.random.rand(N)\n",
        "colors = np.random.rand(N) \n",
        "area = np.pi * (15 * np.random.rand(N))**2 \n",
        "\n",
        "plt.scatter(x, y, s=area, c=colors, alpha=0.5)\n",
        "plt.title(\"Scatter plot de representacion de 4 variables\");"
      ],
      "metadata": {
        "id": "g2KYe_45IuWT"
      },
      "execution_count": null,
      "outputs": []
    },
    {
      "cell_type": "markdown",
      "source": [
        "My own example 191"
      ],
      "metadata": {
        "id": "_OULBbfP3jkI"
      }
    },
    {
      "cell_type": "code",
      "source": [
        "import numpy as np\n",
        "import matplotlib.pyplot as plt\n",
        "from random import sample\n",
        "data = sample(range(1, 1000), 100)\n",
        "\n",
        "plt.hist(data,bins = 10)\n",
        "plt.title(\"Histograma\");"
      ],
      "metadata": {
        "id": "vYDcOJBjIut_"
      },
      "execution_count": null,
      "outputs": []
    },
    {
      "cell_type": "markdown",
      "source": [
        "My own example 192"
      ],
      "metadata": {
        "id": "TYWfqFRt3lch"
      }
    },
    {
      "cell_type": "code",
      "source": [
        "import numpy as np\n",
        "import matplotlib.pyplot as plt\n",
        "data = [np.random.normal(0, std, 100) for std in range(1, 4)]\n",
        "\n",
        "plt.boxplot(data,vert=True,patch_artist=True);\n",
        "plt.title(\"Boxplot\");"
      ],
      "metadata": {
        "id": "Te4Hmtw1IvOM"
      },
      "execution_count": null,
      "outputs": []
    },
    {
      "cell_type": "markdown",
      "source": [
        "My own example 193"
      ],
      "metadata": {
        "id": "lNfFsKMR3mB0"
      }
    },
    {
      "cell_type": "code",
      "source": [
        "import numpy as np\n",
        "import matplotlib.pyplot as plt\n",
        "all_data = [np.random.normal(0, std, 100) for std in range(6, 10)]\n",
        "plt.violinplot(all_data, showmeans=False, showmedians=True)\n",
        "plt.title('violin plot');"
      ],
      "metadata": {
        "id": "gAOWbZpKIvxU"
      },
      "execution_count": null,
      "outputs": []
    },
    {
      "cell_type": "markdown",
      "source": [
        "My own example 194"
      ],
      "metadata": {
        "id": "kpai1fKe3mr-"
      }
    },
    {
      "cell_type": "code",
      "source": [
        "import numpy as np\n",
        "import matplotlib.pyplot as plt\n",
        "labels = 'Caballos', 'Cerdos', 'Perros', 'Vacas'\n",
        "sizes = [15, 30, 45, 10]\n",
        "explode = (0, 0.1, 0, 0)\n",
        "\n",
        "plt.pie(sizes, explode=explode, labels=labels, autopct='%1.1f%%',\n",
        "        shadow=True, startangle=90)\n",
        "\n",
        "plt.axis('equal') \n",
        "plt.show()"
      ],
      "metadata": {
        "id": "bL9zsnR1IwPv"
      },
      "execution_count": null,
      "outputs": []
    },
    {
      "cell_type": "markdown",
      "source": [
        "My own example 195"
      ],
      "metadata": {
        "id": "rtg59Kj63nWy"
      }
    },
    {
      "cell_type": "code",
      "source": [
        "import numpy as np\n",
        "import matplotlib.pyplot as plt\n",
        "x = np.arange(0.1, 4, 0.5)\n",
        "y = np.exp(-x)\n",
        "plt.errorbar(x, y, xerr=0.2, yerr=0.4)\n",
        "plt.title(\"Diagrama de error\")\n",
        "plt.grid()\n",
        "plt.show()"
      ],
      "metadata": {
        "id": "f0sv6PeBIwxs"
      },
      "execution_count": null,
      "outputs": []
    },
    {
      "cell_type": "markdown",
      "source": [
        "My own example 196"
      ],
      "metadata": {
        "id": "zK8hYSxp3ohT"
      }
    },
    {
      "cell_type": "code",
      "source": [
        "import pandas as pd\n",
        "import numpy as np\n",
        "import matplotlib.pyplot as plt\n",
        "df = pd.DataFrame(np.random.rand(5,4),\n",
        "                  index='A B C D E'.split(),\n",
        "                  columns='W X Y Z'.split())\n",
        "df.plot.area(alpha=1);"
      ],
      "metadata": {
        "id": "bIqbJI_RIxI1"
      },
      "execution_count": null,
      "outputs": []
    },
    {
      "cell_type": "markdown",
      "source": [
        "My own example 197"
      ],
      "metadata": {
        "id": "uwKTvBQE3pDu"
      }
    },
    {
      "cell_type": "code",
      "source": [
        "import pandas as pd\n",
        "import numpy as np\n",
        "import matplotlib.pyplot as plt\n",
        "df = pd.DataFrame(np.random.rand(5,4),\n",
        "                  index='A B C D E'.split(),\n",
        "                  columns='W X Y Z'.split())\n",
        "df.iloc[2:8].plot.bar();"
      ],
      "metadata": {
        "id": "Rurjzn52Ixfg"
      },
      "execution_count": null,
      "outputs": []
    },
    {
      "cell_type": "markdown",
      "source": [
        "My own example 198"
      ],
      "metadata": {
        "id": "0Ke9im6R3pvT"
      }
    },
    {
      "cell_type": "code",
      "source": [
        "import pandas as pd\n",
        "import numpy as np\n",
        "import matplotlib.pyplot as plt\n",
        "df = pd.DataFrame(np.random.rand(5,4),\n",
        "                  index='A B C D E'.split(),\n",
        "                  columns='W X Y Z'.split())\n",
        "df.iloc[2:8].plot.bar(stacked=True);"
      ],
      "metadata": {
        "id": "TRsoTteYIxzl"
      },
      "execution_count": null,
      "outputs": []
    },
    {
      "cell_type": "markdown",
      "source": [
        "My own example 199"
      ],
      "metadata": {
        "id": "Sz5EJKJn3qY9"
      }
    },
    {
      "cell_type": "code",
      "source": [
        "import pandas as pd\n",
        "import numpy as np\n",
        "import matplotlib.pyplot as plt\n",
        "df = pd.DataFrame(np.random.rand(5,4),\n",
        "                  index='A B C D E'.split(),\n",
        "                  columns='W X Y Z'.split())\n",
        "df['Y'].plot.hist(bins=50);"
      ],
      "metadata": {
        "id": "YRV61oalIyWW"
      },
      "execution_count": null,
      "outputs": []
    },
    {
      "cell_type": "markdown",
      "source": [
        "My own example 200"
      ],
      "metadata": {
        "id": "tqFj5crZ3rNE"
      }
    },
    {
      "cell_type": "code",
      "source": [
        "import pandas as pd\n",
        "import numpy as np\n",
        "import matplotlib.pyplot as plt\n",
        "df = pd.DataFrame(np.random.rand(5,4),\n",
        "                  index='A B C D E'.split(),\n",
        "                  columns='W X Y Z'.split())\n",
        "df.plot.scatter(x='X',y='Y');"
      ],
      "metadata": {
        "id": "LCaVlVkZIyyd"
      },
      "execution_count": null,
      "outputs": []
    }
  ]
}
