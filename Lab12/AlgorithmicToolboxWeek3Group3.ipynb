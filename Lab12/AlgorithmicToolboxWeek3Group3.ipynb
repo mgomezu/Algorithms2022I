{
  "nbformat": 4,
  "nbformat_minor": 0,
  "metadata": {
    "colab": {
      "name": "AlgorithmicToolboxWeek3Group3.ipynb",
      "provenance": [],
      "authorship_tag": "ABX9TyPz0xVb04FaBByLDVodb0ay",
      "include_colab_link": true
    },
    "kernelspec": {
      "name": "python3",
      "display_name": "Python 3"
    },
    "language_info": {
      "name": "python"
    }
  },
  "cells": [
    {
      "cell_type": "markdown",
      "metadata": {
        "id": "view-in-github",
        "colab_type": "text"
      },
      "source": [
        "<a href=\"https://colab.research.google.com/github/mgomezu/AlgorithmsUN2022I/blob/main/Lab12/AlgorithmicToolboxWeek3Group3.ipynb\" target=\"_parent\"><img src=\"https://colab.research.google.com/assets/colab-badge.svg\" alt=\"Open In Colab\"/></a>"
      ]
    },
    {
      "cell_type": "markdown",
      "source": [
        "#Money Change\n",
        "\n"
      ],
      "metadata": {
        "id": "60XK_LldxACK"
      }
    },
    {
      "cell_type": "code",
      "execution_count": null,
      "metadata": {
        "id": "GTuTmSI2w0FQ"
      },
      "outputs": [],
      "source": [
        "def get_change(m):\n",
        "    count = 0\n",
        "\n",
        "    while(m > 0):\n",
        "        if(m % 10 == 0):\n",
        "            m -= 10\n",
        "        elif(m % 5 == 0):\n",
        "            m -= 5\n",
        "        else:\n",
        "            m -= 1\n",
        "\n",
        "        count += 1\n",
        "\n",
        "    return count"
      ]
    },
    {
      "cell_type": "markdown",
      "source": [
        "#Maximum Value of the Loot"
      ],
      "metadata": {
        "id": "6DmaysjOyhTB"
      }
    },
    {
      "cell_type": "code",
      "source": [
        "def get_optimal_value(value, weight, capacity):\n",
        "\n",
        "    value = [int(v) for v in value]\n",
        "    weight = [int(w) for w in weight]\n",
        "    index = list(range(len(value)))\n",
        "    ratio = [v/w for v, w in zip(value, weight)]\n",
        "    \n",
        "    index.sort(key=lambda i: ratio[i], reverse=True)\n",
        "    max_value = 0\n",
        "    for i in index:\n",
        "        if weight[i] <= capacity:\n",
        "            max_value += value[i]\n",
        "            capacity -= weight[i]\n",
        "        else:\n",
        "            max_value += value[i]*capacity/weight[i]\n",
        "            break\n",
        " \n",
        "    return max_value"
      ],
      "metadata": {
        "id": "QNkwlfB9yjma"
      },
      "execution_count": null,
      "outputs": []
    },
    {
      "cell_type": "code",
      "source": [
        "fileref = open(\"Loot.txt\", \"r\")\n",
        "loot = fileref.read()\n",
        "fileref.close()\n",
        "loot = loot.split(\"\\n\")\n",
        "firstL = loot.pop(0)\n",
        "firstL = firstL.split()\n",
        "n = firstL[0]\n",
        "capacity = int(firstL[1])\n",
        "value = []\n",
        "weight = []\n",
        "loot.sort()\n",
        "for i in range(0,int(n)):\n",
        "  elemento = loot[i].split()\n",
        "  value.append(elemento[0])  \n",
        "  weight.append(elemento[1])  \n",
        "print(get_optimal_value(value, weight, capacity))"
      ],
      "metadata": {
        "id": "uzqqGQQO25hj"
      },
      "execution_count": null,
      "outputs": []
    },
    {
      "cell_type": "markdown",
      "source": [
        "#Car Fueling"
      ],
      "metadata": {
        "id": "v1dK_LtnAhn-"
      }
    },
    {
      "cell_type": "code",
      "source": [
        "def compute_min_refills(distance, tank, stops):\n",
        "    recorrido=tank\n",
        "    paradas = 0\n",
        "    i = 0\n",
        "    parada = stops[0]\n",
        "    stops.append(distance)\n",
        "    while recorrido<=distance:\n",
        "      NoEmpty = True\n",
        "      while NoEmpty:\n",
        "        i+=1\n",
        "        if recorrido>=stops[i]:\n",
        "          parada=stops[i]\n",
        "        else:\n",
        "          recorrido=parada+tank\n",
        "          i=i-1\n",
        "          paradas+=1\n",
        "          NoEmpty = False\n",
        "    return paradas"
      ],
      "metadata": {
        "id": "tKs3LGN_AhFF"
      },
      "execution_count": null,
      "outputs": []
    },
    {
      "cell_type": "code",
      "source": [
        "fileref = open(\"Stops.txt\", \"r\")\n",
        "fileR = fileref.read()\n",
        "fileref.close()\n",
        "fileR = fileR.split(\"\\n\")\n",
        "d = int(fileR[0])\n",
        "m = int(fileR[1])\n",
        "n = int(fileR[2])\n",
        "stops = fileR[3]\n",
        "stops = stops.split()\n",
        "for i in range(0,int(n)):\n",
        "  stops[i] = int(stops[i])\n",
        "print(compute_min_refills(d, m, stops))"
      ],
      "metadata": {
        "id": "iyM7EwKrDm-g"
      },
      "execution_count": null,
      "outputs": []
    },
    {
      "cell_type": "markdown",
      "source": [
        "#Maximun Advertisement Revenue"
      ],
      "metadata": {
        "id": "87LHV1QjLJpS"
      }
    },
    {
      "cell_type": "code",
      "source": [
        "def max_dot_product(a, b):\n",
        "    a.sort(reverse=True)\n",
        "    b.sort(reverse=True)\n",
        "\n",
        "    res = 0\n",
        "    for i in range(len(a)):\n",
        "        res += a[i] * b[i]\n",
        "    return res"
      ],
      "metadata": {
        "id": "UAyVdAc3LRtk"
      },
      "execution_count": null,
      "outputs": []
    },
    {
      "cell_type": "markdown",
      "source": [
        "#Collecting Signatures"
      ],
      "metadata": {
        "id": "jAATYznCa7AK"
      }
    },
    {
      "cell_type": "code",
      "source": [
        "def optimal_points(segments):\n",
        "    points = []\n",
        "    segments = sorted(segments, key=lambda x: x.end)\n",
        " \n",
        "    cover_point = -1\n",
        "    for s in segments:\n",
        "        if(s.start > cover_point):\n",
        "            cover_point = s.end\n",
        "            points.append(cover_point)\n",
        "    return str(len(points)) +\"\\n\" + str(points[0]) + \" \" + str(points[1])"
      ],
      "metadata": {
        "id": "ZzM1NhOfa8Sp"
      },
      "execution_count": null,
      "outputs": []
    },
    {
      "cell_type": "code",
      "source": [
        "from collections import namedtuple\n",
        "\n",
        "fileref = open(\"segmentos.txt\", \"r\")\n",
        "fileR = fileref.read()\n",
        "fileref.close()\n",
        "Segment = namedtuple('Segment', 'start end')\n",
        "n, *data = map(int, fileR.split())\n",
        "segments = list(map(lambda x: Segment(x[0], x[1]), zip(data[::2], data[1::2])))        \n",
        "points = optimal_points(segments)\n",
        "print(optimal_points(segments))"
      ],
      "metadata": {
        "id": "SFbtqtvOd4HW"
      },
      "execution_count": null,
      "outputs": []
    },
    {
      "cell_type": "markdown",
      "source": [
        "#Maximum Number of Prizes"
      ],
      "metadata": {
        "id": "I54JwXHAguh_"
      }
    },
    {
      "cell_type": "code",
      "source": [
        "def optimal_summands(n):\n",
        "    summands = []\n",
        "    s = 1    \n",
        "    while (n - s) > s:\n",
        "        summands.append(s)\n",
        "        n -= s\n",
        "        s += 1\n",
        "    summands.append(n)\n",
        "    numeros = \"\"\n",
        "    for i in summands:\n",
        "      numeros+=str(i)+\" \"\n",
        "\n",
        "    return str(len(summands))+\"\\n\" +numeros"
      ],
      "metadata": {
        "id": "c32vJZ7kgyex"
      },
      "execution_count": null,
      "outputs": []
    },
    {
      "cell_type": "markdown",
      "source": [
        "#Maximum Salary"
      ],
      "metadata": {
        "id": "Gf7JzcyOiXns"
      }
    },
    {
      "cell_type": "code",
      "source": [
        "def IsGreaterOrEqual(digit, max_digit):\n",
        "    return int(str(digit)+str(max_digit))>=int(str(max_digit)+str(digit))\n",
        "\n",
        "def largestnumber(lst):\n",
        "    answer = []\n",
        "    \n",
        "    while lst!=[]:\n",
        "        max_digit = 0\n",
        "        for digit in lst:\n",
        "            if IsGreaterOrEqual(digit, max_digit):\n",
        "                max_digit = digit\n",
        "        answer.append(max_digit)\n",
        "        lst.remove(max_digit)\n",
        "        \n",
        "    numero = \"\"\n",
        "    for i in answer:\n",
        "        numero+=str(i)\n",
        "\n",
        "    return int(numero)"
      ],
      "metadata": {
        "id": "vEw-K_MZicbv"
      },
      "execution_count": null,
      "outputs": []
    },
    {
      "cell_type": "code",
      "source": [
        "fileref = open(\"conjunto.txt\", \"r\")\n",
        "fileR = fileref.read()\n",
        "fileref.close()\n",
        "fileR = fileR.split(\"\\n\")\n",
        "numeros = fileR[1].split()\n",
        "print(largestnumber(numeros))"
      ],
      "metadata": {
        "id": "eC3A3MUbleFN"
      },
      "execution_count": null,
      "outputs": []
    }
  ]
}